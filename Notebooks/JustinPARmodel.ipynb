{
 "cells": [
  {
   "cell_type": "code",
   "execution_count": null,
   "metadata": {},
   "outputs": [],
   "source": [
    "import os\n",
    "import sys\n",
    "import matplotlib.pyplot as plt\n",
    "import pandas as pd\n",
    "sys.path.append(os.path.abspath('/Users/hubatsl/Dropbox (Lars DMS)//LRI/Programming/utils/'))\n",
    "sys.path.append(os.path.abspath('/Users/hubatsl/Dropbox (Lars DMS)//LRI/Programming/arda/'))\n",
    "sys.path.append(os.path.abspath('/Users/hubatsl/Dropbox (Lars DMS)//LRI/Programming/arda/systems/'))\n",
    "sys.path.append(os.path.abspath('/Users/hubatsl/Dropbox (Lars DMS)//LRI/Programming/utils/python/'))\n",
    "import par_system as par"
   ]
  },
  {
   "cell_type": "code",
   "execution_count": null,
   "metadata": {},
   "outputs": [],
   "source": [
    "import matplotlib as mpl"
   ]
  },
  {
   "cell_type": "code",
   "execution_count": null,
   "metadata": {},
   "outputs": [],
   "source": [
    "from matplotlib._delaunay import delaunay"
   ]
  },
  {
   "cell_type": "code",
   "execution_count": null,
   "metadata": {},
   "outputs": [],
   "source": [
    "%qtconsole"
   ]
  },
  {
   "cell_type": "code",
   "execution_count": null,
   "metadata": {},
   "outputs": [],
   "source": [
    "my_par = par.instantiate_par_arda(use_nate_velocity=True, dimensional_mode=True, add_initiator=False,\n",
    "                                 dimensional_end_time=1200000.0) \n",
    "# my_par = par.instantiate_par_arda(use_nate_velocity=False, dimensional_mode=False, add_initiator=False) \n",
    "my_par = par.instantiate_par_arda(add_initiator=False, initial_condition_domains=True, flow_off=True) "
   ]
  },
  {
   "cell_type": "code",
   "execution_count": null,
   "metadata": {},
   "outputs": [],
   "source": [
    "my_par = par.instantiate_par_arda(add_initiator=False, initial_condition_domains=True, flow_off=True) \n",
    "my_par.solve()\n",
    "# my_par.plot_profile(); plt.show()\n",
    "# plt.plot(my_par.conc);\n",
    "# plt.show()"
   ]
  },
  {
   "cell_type": "code",
   "execution_count": null,
   "metadata": {},
   "outputs": [],
   "source": [
    "%matplotlib \n",
    "import matplotlib.pyplot as plt\n",
    "plt.plot(my_par.conc[1])\n",
    "plt.show()"
   ]
  },
  {
   "cell_type": "code",
   "execution_count": null,
   "metadata": {},
   "outputs": [],
   "source": [
    "# plt.close()\n",
    "# plt.plot(my_par.conc[:, -1])\n",
    "# plt.plot(my_par.conc[0:31,-1])\n",
    "# plt.plot(my_par.conc[64:95,-1])\n",
    "# plt.show()\n",
    "# # len(my_par.conc[:, -1])\n",
    "\n",
    "# Half of embryo\n",
    "pd.DataFrame(my_par.conc[64:95,-1]).to_csv('/Users/hubatsl/Desktop/interplay-cell-size/MatsMets/JustinPosterior.csv', header=False, index=False)\n",
    "pd.DataFrame(my_par.conc[0:31,-1]).to_csv('/Users/hubatsl/Desktop/interplay-cell-size/MatsMets/JustinAnterior.csv', header=False, index=False)\n",
    "\n",
    "# Full embryo\n",
    "# pd.DataFrame(my_par.conc[64:127,-1]).to_csv('/Users/hubatsl/Desktop/interplay-cell-size/MatsMets/JustinPosterior.csv', header=False, index=False)\n",
    "# pd.DataFrame(my_par.conc[0:63,-1]).to_csv('/Users/hubatsl/Desktop/interplay-cell-size/MatsMets/JustinAnterior.csv', header=False, index=False)"
   ]
  },
  {
   "cell_type": "code",
   "execution_count": null,
   "metadata": {},
   "outputs": [],
   "source": [
    "len(my_par.conc)"
   ]
  },
  {
   "cell_type": "code",
   "execution_count": null,
   "metadata": {},
   "outputs": [],
   "source": [
    "max(my_par.conc[64:95,-1])/max(my_par.conc[0:31,-1])"
   ]
  },
  {
   "cell_type": "code",
   "execution_count": null,
   "metadata": {},
   "outputs": [],
   "source": [
    "import pandas as pd\n",
    "import numpy as np\n",
    "PAR6 = my_par.conc[0:32, :]\n",
    "PAR2 = my_par.conc[64:96, :]\n",
    "PAR6 = np.swapaxes(np.reshape(np.repeat(PAR6, 30, axis=1), (32, 1200, 30)), 1, 2)\n",
    "PAR2 = np.swapaxes(np.reshape(np.repeat(PAR2, 30, axis=1), (32, 1200, 30)), 1, 2)\n",
    "# PAR6 = np.repeat(PAR6, 30)\n",
    "# PAR2.shape"
   ]
  },
  {
   "cell_type": "code",
   "execution_count": null,
   "metadata": {},
   "outputs": [],
   "source": [
    "PAR6 = pd.DataFrame(PAR6)\n",
    "PAR2 = pd.DataFrame(PAR2)\n",
    "PAR6.to_csv('PAR6.csv')\n",
    "PAR2.to_csv('PAR2.csv')"
   ]
  },
  {
   "cell_type": "code",
   "execution_count": null,
   "metadata": {},
   "outputs": [],
   "source": [
    "PAR2"
   ]
  },
  {
   "cell_type": "code",
   "execution_count": null,
   "metadata": {},
   "outputs": [],
   "source": [
    "# fig, axs = plt.subplots(1,1)\n",
    "# axs[0].imshow(PAR2[:, :, -1], cmap=plt.cm.copper, extent=[-1,1,-1,1]);\n",
    "for i in range(1200):\n",
    "    plt.imsave('t'+str(i)+'png', \n",
    "               PAR2[:, :, i], cmap=plt.cm.copper);"
   ]
  },
  {
   "cell_type": "code",
   "execution_count": null,
   "metadata": {},
   "outputs": [],
   "source": [
    "np.repeat(PAR2, 30, axis=1).shape"
   ]
  },
  {
   "cell_type": "code",
   "execution_count": null,
   "metadata": {},
   "outputs": [],
   "source": [
    "my_par.conc.shape"
   ]
  },
  {
   "cell_type": "code",
   "execution_count": null,
   "metadata": {},
   "outputs": [],
   "source": [
    "pwd"
   ]
  },
  {
   "cell_type": "code",
   "execution_count": null,
   "metadata": {},
   "outputs": [],
   "source": [
    "%qtconsole"
   ]
  },
  {
   "cell_type": "code",
   "execution_count": null,
   "metadata": {},
   "outputs": [],
   "source": [
    "%matplotlib \n",
    "my_par.show_movie()"
   ]
  },
  {
   "cell_type": "code",
   "execution_count": null,
   "metadata": {},
   "outputs": [],
   "source": []
  }
 ],
 "metadata": {
  "kernelspec": {
   "display_name": "Python 3",
   "language": "python",
   "name": "python3"
  },
  "language_info": {
   "codemirror_mode": {
    "name": "ipython",
    "version": 3
   },
   "file_extension": ".py",
   "mimetype": "text/x-python",
   "name": "python",
   "nbconvert_exporter": "python",
   "pygments_lexer": "ipython3",
   "version": "3.5.4"
  }
 },
 "nbformat": 4,
 "nbformat_minor": 2
}
