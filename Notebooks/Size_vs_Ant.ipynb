{
 "cells": [
  {
   "cell_type": "markdown",
   "metadata": {},
   "source": [
    "**This explores effects of antagonism on CPSS**"
   ]
  },
  {
   "cell_type": "code",
   "execution_count": null,
   "metadata": {
    "collapsed": true
   },
   "outputs": [],
   "source": [
    "import bisect\n",
    "import copy\n",
    "import glob\n",
    "import numpy as np\n",
    "import matplotlib.pyplot as plt\n",
    "import os\n",
    "import pandas as pd\n",
    "import pickle\n",
    "from scipy import optimize\n",
    "import sys\n",
    "import time\n",
    "# Profiling\n",
    "import cProfile\n",
    "import re\n",
    "sys.path.append(os.path.abspath('../')+'/PythonDet/')\n",
    "from ParDetAsymm import ParSim, Sim_Container, s_to_v\n",
    "import ParDetAsymm"
   ]
  },
  {
   "cell_type": "code",
   "execution_count": null,
   "metadata": {
    "collapsed": true
   },
   "outputs": [],
   "source": [
    "c1 = (132/255, 197/255, 97/255)\n",
    "c2 = (223/255, 184/255, 88/255)"
   ]
  },
  {
   "cell_type": "code",
   "execution_count": null,
   "metadata": {
    "collapsed": true
   },
   "outputs": [],
   "source": [
    "s_polarized = []\n",
    "a_polarized = []\n",
    "s_unpolarized = []\n",
    "a_unpolarized = []\n",
    "i = 0\n",
    "for file in glob.glob(\"/Volumes/Transcend/PARmodellingData/SizeVsAntagonism6000s/*.pickle\"):\n",
    "#     print(file)\n",
    "    i += 1\n",
    "#     print('Reading file ' + str(i))\n",
    "    with open(file, 'rb') as f:\n",
    "        p = pickle.load(f)\n",
    "    if (p.finished_in_time == 1):\n",
    "        s_unpolarized.append(p.sys_size)\n",
    "        a_unpolarized.append(p.kAP)\n",
    "    elif (p.finished_in_time == 2):\n",
    "        s_polarized.append(p.sys_size)\n",
    "        a_polarized.append(p.kAP)"
   ]
  },
  {
   "cell_type": "code",
   "execution_count": null,
   "metadata": {},
   "outputs": [],
   "source": [
    "s_polarized_long = []\n",
    "a_polarized_long = []\n",
    "s_unpolarized_long = []\n",
    "a_unpolarized_long = []\n",
    "i = 0\n",
    "for file in glob.glob(\"/Volumes/Transcend/PARmodellingData/SizeVsAntagonism120000s/*.pickle\"):\n",
    "#     print(file)\n",
    "    i += 1\n",
    "#     print('Reading file ' + str(i))\n",
    "    with open(file, 'rb') as f:\n",
    "        p = pickle.load(f)\n",
    "    if (p.finished_in_time == 1):\n",
    "        s_unpolarized_long.append(p.sys_size)\n",
    "        a_unpolarized_long.append(p.kAP)\n",
    "    elif (p.finished_in_time == 2):\n",
    "        s_polarized_long.append(p.sys_size)\n",
    "        a_polarized_long.append(p.kAP)"
   ]
  },
  {
   "cell_type": "code",
   "execution_count": null,
   "metadata": {},
   "outputs": [],
   "source": [
    "fig=plt.figure(figsize=(8, 7), dpi= 80, facecolor='w', edgecolor='k')\n",
    "plt.plot(a_polarized, s_polarized,'.')\n",
    "plt.plot(a_unpolarized, s_unpolarized,'.')\n",
    "plt.plot(a_polarized, s_polarized,'.')\n",
    "plt.plot(a_unpolarized, s_unpolarized,'.')\n",
    "plt.show()"
   ]
  },
  {
   "cell_type": "code",
   "execution_count": null,
   "metadata": {},
   "outputs": [],
   "source": [
    "df.groupby('a').max()"
   ]
  },
  {
   "cell_type": "code",
   "execution_count": null,
   "metadata": {},
   "outputs": [],
   "source": [
    "fig=plt.figure(figsize=(3.75, 3.1), dpi= 80, facecolor='w', edgecolor='k')\n",
    "df = pd.DataFrame({'s': s_unpolarized, 'a': a_unpolarized})\n",
    "plt.plot(df.groupby('a').max(), color = c2, label='Simulated for 6000 s')\n",
    "plt.xlim(-5, 100); plt.ylim(0, 20);\n",
    "df1 = pd.DataFrame({'s': s_unpolarized_long, 'a': a_unpolarized_long})\n",
    "plt.plot(df1.groupby('a').max(), color = c1, label='Simulated for 120000 s')\n",
    "plt.legend(frameon=False)\n",
    "plt.xlim(-5, 100); plt.ylim(0, 20);\n",
    "plt.ylabel(r'CPSS [$\\mu m$]')\n",
    "plt.xlabel(r'k_{AP} [$\\mu m^4/s$]')\n",
    "plt.gcf().subplots_adjust(bottom=0.17, left=0.15)\n",
    "plt.savefig('/Users/hubatsl/Desktop/interplay-cell-size/Theory/SizeVsAntagonism.pdf',\n",
    "            transparent=True)\n",
    "plt.show()"
   ]
  },
  {
   "cell_type": "code",
   "execution_count": null,
   "metadata": {},
   "outputs": [],
   "source": [
    "def make_graph_pretty(xlab, ylab, loc=0, markerfirst=True, handlelength=None):\n",
    "    color1 = 'black'#'darkorange'\n",
    "    color2 = (0, 0, 0)\n",
    "    color2 = (1, 1, 1)\n",
    "    ax = plt.gca()\n",
    "    ax.tick_params(axis='x', colors=color1, which='both')\n",
    "    ax.tick_params(axis='y', colors=color1, which='both')\n",
    "    plt.xlabel(xlab, color=color1)\n",
    "    plt.ylabel(ylab, color=color1)\n",
    "    ax.spines['left'].set_color(color1)\n",
    "    ax.spines['bottom'].set_color(color1)\n",
    "    # Hide the right and top spines\n",
    "    ax.spines['right'].set_visible(False)\n",
    "    ax.spines['top'].set_visible(False)\n",
    "    ax.set_facecolor(color2)\n",
    "    plt.gcf().subplots_adjust(bottom=0.17, left=0.15)\n",
    "    plt.legend(frameon=False, loc=loc, labelspacing=0.1,\n",
    "               markerfirst=markerfirst, handlelength=handlelength)\n",
    "fig=plt.figure(figsize=(8, 7), dpi= 80, facecolor='w', edgecolor='k')\n",
    "df = pd.DataFrame({'s': s_unpolarized, 'a': a_unpolarized})\n",
    "plt.plot(df.groupby('a').max(), '#ff7f0e')\n",
    "plt.xlim(-5, 100); plt.ylim(0, 20);\n",
    "# plt.ylabel(, fontsize=15)\n",
    "# plt.xlabel(, fontsize=15)\n",
    "make_graph_pretty(r'k_{AP} [$\\mu m^4/s$]', r'CPSS [$\\mu m$]')\n",
    "plt.savefig('/Users/hubatsl/Dropbox (Lars DMS)/LRI/PAR_Size/Theory/SizeVsAntagonism.pdf',\n",
    "            transparent=True)\n",
    "plt.show()"
   ]
  },
  {
   "cell_type": "code",
   "execution_count": null,
   "metadata": {
    "collapsed": true
   },
   "outputs": [],
   "source": []
  }
 ],
 "metadata": {
  "anaconda-cloud": {},
  "kernelspec": {
   "display_name": "Python 3",
   "language": "python",
   "name": "python3"
  },
  "language_info": {
   "codemirror_mode": {
    "name": "ipython",
    "version": 3
   },
   "file_extension": ".py",
   "mimetype": "text/x-python",
   "name": "python",
   "nbconvert_exporter": "python",
   "pygments_lexer": "ipython3",
   "version": "3.5.4"
  }
 },
 "nbformat": 4,
 "nbformat_minor": 2
}
