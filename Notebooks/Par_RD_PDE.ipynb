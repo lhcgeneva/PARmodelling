{
 "cells": [
  {
   "cell_type": "markdown",
   "metadata": {},
   "source": [
    "# Simulate PAR-network via deterministic PDE system"
   ]
  },
  {
   "cell_type": "code",
   "execution_count": 515,
   "metadata": {},
   "outputs": [],
   "source": [
    "import bisect\n",
    "import copy\n",
    "import glob\n",
    "import numpy as np\n",
    "import matplotlib as mpl\n",
    "import matplotlib.pyplot as plt\n",
    "import os\n",
    "import pandas as pd\n",
    "import pickle\n",
    "from scipy import optimize\n",
    "from scipy.interpolate import interp1d\n",
    "import sys\n",
    "import time\n",
    "# Profiling\n",
    "import cProfile\n",
    "import re\n",
    "sys.path.append(os.path.abspath('../')+'/PythonDet/')\n",
    "from ParDetAsymm import ParSim, Sim_Container, s_to_v\n",
    "# from ParDetAsymmO import ParSim as ParSimO"
   ]
  },
  {
   "cell_type": "code",
   "execution_count": null,
   "metadata": {},
   "outputs": [],
   "source": [
    "# For graphics settings modify matplotlibrc in /Users/hubatsl/anaconda3/pkgs/matplotlib-2.0.2-np111py35_0/lib/python3.5/site-packages/matplotlib/mpl-data\n"
   ]
  },
  {
   "cell_type": "code",
   "execution_count": null,
   "metadata": {},
   "outputs": [],
   "source": [
    "# Define colors for plotting\n",
    "c1 = (132/255, 197/255, 97/255) # green\n",
    "c2 = (223/255, 184/255, 88/255) # yellow"
   ]
  },
  {
   "cell_type": "code",
   "execution_count": null,
   "metadata": {
    "collapsed": true
   },
   "outputs": [],
   "source": [
    "# Try out breakdown for wild-type parameters with PAR-2 diffusion\n",
    "# adapting roughly according to scaling relationship of gradients\n",
    "\n",
    "n = 8\n",
    "wt = {'alpha': 1, 'beta': 2, 'dA': 0.23, 'dP': 0.0,\n",
    "          'kAP': 0.19, 'kPA': 2, 'koffA': 0.0047,\n",
    "          'koffP': 0.0054, 'konA': 0.00858, 'konP': 0.0474,\n",
    "          'Ptot': 1, 'ratio': 1.56, 'sys_size': 134.6/2}\n",
    "sizes = np.linspace(5, 30, n)\n",
    "s_factor = ((0.058*sizes+4.739)/(0.058*134.6+4.739))**2\n",
    "sizes = sizes/2 # Adjust to half system size simulation\n",
    "siz = [copy.deepcopy(wt) for _ in sizes]\n",
    "for i, dic in enumerate(siz):\n",
    "    siz[i]['sys_size'] = sizes[i]\n",
    "    siz[i]['dP'] = wt['dP']*s_factor[i]\n",
    "    \n",
    "s1 = Sim_Container(siz, no_workers=8)\n",
    "s1.init_simus()\n",
    "s1.run_simus()\n",
    "s1.pickle_data('CPSS_adapt_to_gradient')"
   ]
  },
  {
   "cell_type": "markdown",
   "metadata": {},
   "source": [
    "**Materials and methods plot thesis**"
   ]
  },
  {
   "cell_type": "code",
   "execution_count": null,
   "metadata": {
    "collapsed": true
   },
   "outputs": [],
   "source": [
    "wt16 = {'alpha': 1, 'beta': 2, 'dA': 0.31, 'dP': 0.3,\n",
    "          'kAP': 0.19, 'kPA': 2, 'koffA': 0.0074,\n",
    "          'koffP': 0.005, 'konA': 0.00858, 'konP': 0.0474,\n",
    "          'Ptot': 1, 'ratio': 1.56, 'sys_size': 16}\n",
    "wt18 = {'alpha': 1, 'beta': 2, 'dA': 0.31, 'dP': 0.3,\n",
    "          'kAP': 0.19, 'kPA': 2, 'koffA': 0.0073,\n",
    "          'koffP': 0.005, 'konA': 0.00858, 'konP': 0.0474,\n",
    "          'Ptot': 1, 'ratio': 1.56, 'sys_size': 18}\n",
    "wt20 = {'alpha': 1, 'beta': 2, 'dA': 0.3, 'dP': 0.31,\n",
    "          'kAP': 0.19, 'kPA': 2, 'koffA': 0.0072,\n",
    "          'koffP': 0.005, 'konA': 0.00858, 'konP': 0.0474,\n",
    "          'Ptot': 1, 'ratio': 1.56, 'sys_size': 20}\n",
    "wt22 = {'alpha': 1, 'beta': 2, 'dA': 0.3, 'dP': 0.3,\n",
    "          'kAP': 0.19, 'kPA': 2, 'koffA': 0.0071,\n",
    "          'koffP': 0.005, 'konA': 0.00858, 'konP': 0.0474,\n",
    "          'Ptot': 1, 'ratio': 1.56, 'sys_size': 22}\n",
    "wt30 = {'alpha': 1, 'beta': 2, 'dA': 0.29, 'dP': 0.29,\n",
    "          'kAP': 0.19, 'kPA': 2, 'koffA': 0.007,\n",
    "          'koffP': 0.005, 'konA': 0.00858, 'konP': 0.0474,\n",
    "          'Ptot': 1, 'ratio': 1.56, 'sys_size': 30}\n",
    "wt = {'alpha': 1, 'beta': 2, 'dA': 0.23, 'dP': 0.26,\n",
    "          'kAP': 0.19, 'kPA': 2, 'koffA': 0.0047,\n",
    "          'koffP': 0.0054, 'konA': 0.00858, 'konP': 0.0474,\n",
    "          'Ptot': 1, 'ratio': 1.56, 'sys_size': 134.6/2}"
   ]
  },
  {
   "cell_type": "code",
   "execution_count": null,
   "metadata": {
    "collapsed": true
   },
   "outputs": [],
   "source": [
    "# s_wt16 = ParSim(param_dict=wt16, T=1000, grid_size=200)\n",
    "# s_wt16.simulate()\n",
    "# s_wt18 = ParSim(param_dict=wt18, T=1000, grid_size=200)\n",
    "# s_wt18.simulate()\n",
    "# s_wt20 = ParSim(param_dict=wt20, T=1000, grid_size=200)\n",
    "# s_wt20.simulate()\n",
    "# s_wt22 = ParSim(param_dict=wt22, T=1000, grid_size=200)\n",
    "# s_wt22.simulate()\n",
    "# s_wt30 = ParSim(param_dict=wt30, T=1000, grid_size=200)\n",
    "# s_wt30.simulate()\n",
    "# s_wt = ParSim(param_dict=wt, T=1000, grid_size=200)\n",
    "# s_wt.simulate()"
   ]
  },
  {
   "cell_type": "code",
   "execution_count": null,
   "metadata": {},
   "outputs": [],
   "source": [
    "s_wt16.plot_steady_state()\n",
    "s_wt18.plot_steady_state()\n",
    "s_wt20.plot_steady_state()\n",
    "s_wt22.plot_steady_state()\n",
    "s_wt30.plot_steady_state()\n",
    "s_wt.plot_steady_state()"
   ]
  },
  {
   "cell_type": "markdown",
   "metadata": {},
   "source": [
    "Write to csv to be read into Matlab"
   ]
  },
  {
   "cell_type": "code",
   "execution_count": null,
   "metadata": {
    "collapsed": true
   },
   "outputs": [],
   "source": [
    "def write_for_matlab(s, name):\n",
    "    pd.DataFrame(s.A[:,-1]).to_csv('/Users/hubatsl/Desktop/interplay-cell-size/MatsMets/Anterior' + name + '.csv', header=False, index=False)\n",
    "    pd.DataFrame(s.P[:,-1]).to_csv('/Users/hubatsl/Desktop/interplay-cell-size/MatsMets/Posterior' + name + '.csv', header=False, index=False)\n",
    "write_for_matlab(s_wt16, '16')\n",
    "write_for_matlab(s_wt18, '18')\n",
    "write_for_matlab(s_wt20, '20')\n",
    "write_for_matlab(s_wt22, '22')\n",
    "write_for_matlab(s_wt30, '30')\n",
    "write_for_matlab(s_wt, '67')"
   ]
  },
  {
   "cell_type": "code",
   "execution_count": null,
   "metadata": {
    "collapsed": true
   },
   "outputs": [],
   "source": [
    "li = []\n",
    "dA_polarized_00001 = []\n",
    "dP_polarized_00001 = []\n",
    "dA_unpolarized_00001 = []\n",
    "dP_unpolarized_00001 = []\n",
    "dA_polarized_001 = []\n",
    "dP_polarized_001 = []\n",
    "dA_unpolarized_001 = []\n",
    "dP_unpolarized_001 = []\n",
    "for file in glob.glob(\"/Volumes/Transcend/pickled/*.pickle\"):\n",
    "#     print(file)\n",
    "    with open(file, 'rb') as f:\n",
    "        p = pickle.load(f)\n",
    "    if (p.finished_in_time == 1) & (p.ss_prec == 1.00001):\n",
    "        dA_unpolarized_00001.append(p.dA)\n",
    "        dP_unpolarized_00001.append(p.dP)\n",
    "    elif (p.finished_in_time == 2)& (p.ss_prec == 1.00001):\n",
    "        dA_polarized_00001.append(p.dA)\n",
    "        dP_polarized_00001.append(p.dP)\n",
    "    if (p.finished_in_time == 1) & (p.ss_prec == 1.001):\n",
    "        dA_unpolarized_001.append(p.dA)\n",
    "        dP_unpolarized_001.append(p.dP)\n",
    "    elif (p.finished_in_time == 2)& (p.ss_prec == 1.001):\n",
    "        dA_polarized_001.append(p.dA)\n",
    "        dP_polarized_001.append(p.dP)\n",
    "        "
   ]
  },
  {
   "cell_type": "code",
   "execution_count": null,
   "metadata": {
    "collapsed": true
   },
   "outputs": [],
   "source": [
    "dA_polarized_fixTend_NateThresh = []\n",
    "dP_polarized_fixTend_NateThresh = []\n",
    "dA_unpolarized_fixTend_NateThresh = []\n",
    "dP_unpolarized_fixTend_NateThresh = []\n",
    "for file in glob.glob(\"/Users/hubatsl/Desktop/pickled_NateThresh/*.pickle\"):\n",
    "#     print(file)\n",
    "    with open(file, 'rb') as f:\n",
    "        p = pickle.load(f)\n",
    "    if (p.finished_in_time == 1):\n",
    "        dA_unpolarized_fixTend_NateThresh.append(p.dA)\n",
    "        dP_unpolarized_fixTend_NateThresh.append(p.dP)\n",
    "    elif (p.finished_in_time == 2):\n",
    "        dA_polarized_fixTend_NateThresh.append(p.dA)\n",
    "        dP_polarized_fixTend_NateThresh.append(p.dP)"
   ]
  },
  {
   "cell_type": "code",
   "execution_count": null,
   "metadata": {
    "collapsed": true
   },
   "outputs": [],
   "source": [
    "plt.plot(dA_polarized_fixTend_NateThresh, dP_polarized_fixTend_NateThresh,'.')\n",
    "plt.plot(dA_unpolarized_fixTend_NateThresh, dP_unpolarized_fixTend_NateThresh,'.')\n",
    "plt.show()"
   ]
  },
  {
   "cell_type": "code",
   "execution_count": null,
   "metadata": {
    "collapsed": true
   },
   "outputs": [],
   "source": [
    "dA_polarized_Time14400 = []\n",
    "dP_polarized_Time14400 = []\n",
    "dA_unpolarized_Time14400 = []\n",
    "dP_unpolarized_Time14400 = []\n",
    "for file in glob.glob(\"/Users/hubatsl/Desktop/pickled_Time14400/*.pickle\"):\n",
    "#     print(file)\n",
    "    with open(file, 'rb') as f:\n",
    "        p = pickle.load(f)\n",
    "    if (p.finished_in_time == 1):\n",
    "        dA_unpolarized_Time14400.append(p.dA)\n",
    "        dP_unpolarized_Time14400.append(p.dP)\n",
    "    elif (p.finished_in_time == 2):\n",
    "        dA_polarized_Time14400.append(p.dA)\n",
    "        dP_polarized_Time14400.append(p.dP)"
   ]
  },
  {
   "cell_type": "code",
   "execution_count": null,
   "metadata": {
    "collapsed": true
   },
   "outputs": [],
   "source": [
    "plt.plot(dA_polarized_Time14400, dP_polarized_Time14400,'.')\n",
    "plt.plot(dA_unpolarized_Time14400, dP_unpolarized_Time14400,'.')\n",
    "plt.show()"
   ]
  },
  {
   "cell_type": "code",
   "execution_count": null,
   "metadata": {
    "collapsed": true
   },
   "outputs": [],
   "source": [
    "dA_polarized_fixTend_Thresh03 = []\n",
    "dP_polarized_fixTend_Thresh03 = []\n",
    "dA_unpolarized_fixTend_Thresh03 = []\n",
    "dP_unpolarized_fixTend_Thresh03 = []\n",
    "for file in glob.glob(\"/Users/hubatsl/Desktop/pickled_fixTend_Thresh03/*.pickle\"):\n",
    "#     print(file)\n",
    "    with open(file, 'rb') as f:\n",
    "        p = pickle.load(f)\n",
    "    if (p.finished_in_time == 1):\n",
    "        dA_unpolarized_fixTend_Thresh03.append(p.dA)\n",
    "        dP_unpolarized_fixTend_Thresh03.append(p.dP)\n",
    "    elif (p.finished_in_time == 2):\n",
    "        dA_polarized_fixTend_Thresh03.append(p.dA)\n",
    "        dP_polarized_fixTend_Thresh03.append(p.dP)"
   ]
  },
  {
   "cell_type": "code",
   "execution_count": null,
   "metadata": {
    "collapsed": true
   },
   "outputs": [],
   "source": [
    "plt.plot(dA_polarized_fixTend_Thresh03, dP_polarized_fixTend_Thresh03,'.')\n",
    "plt.plot(dA_unpolarized_fixTend_Thresh03, dP_unpolarized_fixTend_Thresh03,'.')\n",
    "plt.show()"
   ]
  },
  {
   "cell_type": "code",
   "execution_count": null,
   "metadata": {
    "collapsed": true
   },
   "outputs": [],
   "source": [
    "dA_polarized_fixTend = []\n",
    "dP_polarized_fixTend = []\n",
    "dA_unpolarized_fixTend = []\n",
    "dP_unpolarized_fixTend = []\n",
    "for file in glob.glob(\"/Users/hubatsl/Desktop/pickled_fixTend/*.pickle\"):\n",
    "#     print(file)\n",
    "    with open(file, 'rb') as f:\n",
    "        p = pickle.load(f)\n",
    "    if (p.finished_in_time == 1):\n",
    "        dA_unpolarized_fixTend.append(p.dA)\n",
    "        dP_unpolarized_fixTend.append(p.dP)\n",
    "    elif (p.finished_in_time == 2):\n",
    "        dA_polarized_fixTend.append(p.dA)\n",
    "        dP_polarized_fixTend.append(p.dP)"
   ]
  },
  {
   "cell_type": "code",
   "execution_count": null,
   "metadata": {
    "collapsed": true
   },
   "outputs": [],
   "source": [
    "dA_polarized_fixTend_rerun = []\n",
    "dP_polarized_fixTend_rerun = []\n",
    "dA_unpolarized_fixTend_rerun = []\n",
    "dP_unpolarized_fixTend_rerun = []\n",
    "for file in glob.glob(\"/Users/hubatsl/Desktop/pickled_fixTend_rerun/*.pickle\"):\n",
    "#     print(file)\n",
    "    with open(file, 'rb') as f:\n",
    "        p = pickle.load(f)\n",
    "    if (p.finished_in_time == 1):\n",
    "        dA_unpolarized_fixTend_rerun.append(p.dA)\n",
    "        dP_unpolarized_fixTend_rerun.append(p.dP)\n",
    "    elif (p.finished_in_time == 2):\n",
    "        dA_polarized_fixTend_rerun.append(p.dA)\n",
    "        dP_polarized_fixTend_rerun.append(p.dP)"
   ]
  },
  {
   "cell_type": "code",
   "execution_count": null,
   "metadata": {
    "collapsed": true
   },
   "outputs": [],
   "source": [
    "plt.plot(dA_polarized_fixTend_rerun, dP_polarized_fixTend_rerun,'.')\n",
    "plt.plot(dA_unpolarized_fixTend_rerun, dP_unpolarized_fixTend_rerun,'.')\n",
    "plt.show()"
   ]
  },
  {
   "cell_type": "code",
   "execution_count": null,
   "metadata": {
    "collapsed": true
   },
   "outputs": [],
   "source": [
    "plt.plot(dA_polarized_fixTend, dP_polarized_fixTend,'.')\n",
    "plt.plot(dA_unpolarized_fixTend, dP_unpolarized_fixTend,'.')\n",
    "plt.show()"
   ]
  },
  {
   "cell_type": "markdown",
   "metadata": {},
   "source": [
    "Threshold 0.05 or 0.3 doesn't seem to change much?? Verify file got recompiled!"
   ]
  },
  {
   "cell_type": "code",
   "execution_count": null,
   "metadata": {
    "collapsed": true
   },
   "outputs": [],
   "source": [
    "file = '/Users/hubatsl/Desktop/pickled_NateThresh/P_0.159493670886_dA_2.5.pickle'\n",
    "with open(file, 'rb') as f:\n",
    "    a = pickle.load(f)"
   ]
  },
  {
   "cell_type": "code",
   "execution_count": null,
   "metadata": {},
   "outputs": [],
   "source": [
    "li = []\n",
    "for file in glob.glob(\"/Users/hubatsl/Desktop/pickled_fixTend/*.pickle\"):\n",
    "    with open(file, 'rb') as f:\n",
    "        mt = pickle.load(f)\n",
    "        li.append(mt)"
   ]
  },
  {
   "cell_type": "code",
   "execution_count": null,
   "metadata": {
    "collapsed": true
   },
   "outputs": [],
   "source": [
    "dA_polarized = []\n",
    "dP_polarized = []\n",
    "dA_unpolarized = []\n",
    "dP_unpolarized = []\n",
    "\n",
    "for p in li:\n",
    "    if p.finished_in_time == 1:\n",
    "        dA_unpolarized.append(p.dA)\n",
    "        dP_unpolarized.append(p.dP)\n",
    "    elif p.finished_in_time == 2:\n",
    "        dA_polarized.append(p.dA)\n",
    "        dP_polarized.append(p.dP)"
   ]
  },
  {
   "cell_type": "code",
   "execution_count": null,
   "metadata": {
    "collapsed": true
   },
   "outputs": [],
   "source": [
    "# %matplotlib notebook\n",
    "plt.plot(dA_unpolarized, dP_unpolarized, '.')\n",
    "plt.plot(dA_polarized, dP_polarized, '.')\n",
    "plt.xlim(-0.2, 3)\n",
    "plt.ylim(-0.2, 3)\n",
    "plt.axis('equal')\n",
    "plt.show()"
   ]
  },
  {
   "cell_type": "code",
   "execution_count": null,
   "metadata": {
    "collapsed": true
   },
   "outputs": [],
   "source": [
    "in_vivo = {'alpha': 1, 'beta': 2, 'dA': 0.28, 'dP': 0.15,\n",
    "           'kAP': 0.19, 'kPA': 2, 'koffA': 0.0054,\n",
    "           'koffP': 0.0073, 'konA': 0.00858, 'konP': 0.0474,\n",
    "           'Ptot': 1, 'ratio': 1.56, 'StoV': 0.174,\n",
    "           'sys_size': 134.6/2}"
   ]
  },
  {
   "cell_type": "markdown",
   "metadata": {},
   "source": [
    "## Diffusion versus steepest slope\n",
    "### PAR system"
   ]
  },
  {
   "cell_type": "code",
   "execution_count": null,
   "metadata": {
    "collapsed": true
   },
   "outputs": [],
   "source": [
    "symmetric = {'alpha': 2, 'beta': 2, 'dA': 0.1, 'dP': 0.1,\n",
    "             'kAP': 1, 'kPA': 1, 'koffA': 0.005, 'koffP': 0.005,\n",
    "             'konA': 0.006, 'konP': 0.006, 'Ptot': 1, 'ratio': 1.01,\n",
    "             'sys_size': 30}\n",
    "n = 8\n",
    "Ds = np.linspace(0.01, 1, 8)**2\n",
    "siz = [copy.deepcopy(symmetric) for _ in Ds]\n",
    "for i, dic in enumerate(siz):\n",
    "    siz[i]['dA'] = Ds[i]\n",
    "    siz[i]['dP'] = Ds[i]\n",
    "s = Sim_Container(siz, no_workers=8)\n",
    "s.init_simus()\n",
    "s.run_simus()"
   ]
  },
  {
   "cell_type": "code",
   "execution_count": null,
   "metadata": {
    "collapsed": true
   },
   "outputs": [],
   "source": [
    "s.pickle_data('d_versus_sigma')"
   ]
  },
  {
   "cell_type": "code",
   "execution_count": null,
   "metadata": {},
   "outputs": [],
   "source": [
    "# Thesis\n",
    "def make_graph_pretty(xlab, ylab, loc=0, markerfirst=True, handlelength=None):\n",
    "    color1 = 'black'#'darkorange'\n",
    "    color2 = (0, 0, 0)\n",
    "    color2 = (1, 1, 1)\n",
    "    ax = plt.gca()\n",
    "    ax.tick_params(axis='x', colors=color1, which='both')\n",
    "    ax.tick_params(axis='y', colors=color1, which='both')\n",
    "    plt.xlabel(xlab, color=color1)\n",
    "    plt.ylabel(ylab, color=color1)\n",
    "    ax.spines['left'].set_color(color1)\n",
    "    ax.spines['bottom'].set_color(color1)\n",
    "    # Hide the right and top spines\n",
    "    ax.spines['right'].set_visible(False)\n",
    "    ax.spines['top'].set_visible(False)\n",
    "    ax.set_facecolor(color2)\n",
    "    plt.gcf().subplots_adjust(bottom=0.17, left=0.15)\n",
    "    plt.legend(frameon=False, loc=loc, labelspacing=0.1,\n",
    "               markerfirst=markerfirst, handlelength=handlelength)\n",
    "# Paper   \n",
    "# def make_graph_pretty(xlab, ylab, loc=0, markerfirst=True, handlelength=None):\n",
    "#     mpl.rcParams['lines.linewidth'] = 1\n",
    "#     mpl.rcParams['lines.markersize']=4\n",
    "#     color1 = 'black'#'darkorange'\n",
    "#     color2 = (0, 0, 0)\n",
    "#     color2 = (1, 1, 1)\n",
    "#     ax = plt.gca()\n",
    "#     ax.tick_params(axis='x', colors=color1, direction='in', which='both')\n",
    "#     ax.tick_params(axis='y', colors=color1, direction='in', which='both')\n",
    "#     plt.xlabel(xlab, color=color1)\n",
    "#     plt.ylabel(ylab, color=color1)\n",
    "#     ax.spines['left'].set_color(color1)\n",
    "#     ax.spines['bottom'].set_color(color1)\n",
    "#     # Hide the right and top spines\n",
    "#     ax.spines['right'].set_visible(False)\n",
    "#     ax.spines['top'].set_visible(False)\n",
    "#     ax.set_facecolor(color2)\n",
    "#     plt.gcf().subplots_adjust(bottom=0.29, left=0.27)\n",
    "#     plt.legend(frameon=False, loc=loc, labelspacing=0.1, \n",
    "size=8,\n",
    "#                markerfirst=markerfirst, handlelength=handlelength)\n",
    "#     for tick in ax.get_xticklabels():\n",
    "#         tick.set_fontname(\"Arial\")\n",
    "        \n",
    "    \n",
    "with open('d_versus_sigma.pickle', 'rb') as f:\n",
    "    s1 = pickle.load(f) \n",
    "l = []\n",
    "l1= []\n",
    "l2 = []\n",
    "l3 = []\n",
    "D = []\n",
    "for si in s1.simus:\n",
    "    D.append(si.dA)\n",
    "    i = np.argmax(np.sum(si.A, 0)==si.grid_size) - 1\n",
    "    m_max = min(np.diff(si.A[:, i]))\n",
    "    j = np.argmin(np.diff(si.A[:, i])-m_max)\n",
    "    l.append(1/abs(m_max/(si.A[j, i])))\n",
    "\n",
    "l = np.array(l[:-3])\n",
    "D = np.array(D[:-3])\n",
    "\n",
    "def fit_sqrt(D, A):\n",
    "    return A*np.sqrt(D)\n",
    "popt, pcov = optimize.curve_fit(fit_sqrt, D, l)\n",
    "plt.figure(figsize=(0.6*3.75, 0.6*3.1))\n",
    "plt.plot(D, l, 'o', lw=2, label='PAR system', color=c1)\n",
    "domain = np.linspace(0, 0.35, 100)\n",
    "plt.plot(domain, fit_sqrt(domain, *popt), '--', label='Square root fit', color=c2)\n",
    "make_graph_pretty('$D\\; [\\mu m^2/s]$', '$\\lambda [\\mu m]$', loc=(0.1, 0.02))\n",
    "\n",
    "# plt.savefig('/Users/lhcge/Dropbox (Lars DMS)/LRI/PAR_Size/PAR_Size_MS_Data/Data_Figure2_Theory1/Slope_Vs_D1.pdf', transparent=True)\n",
    "plt.show()"
   ]
  },
  {
   "cell_type": "code",
   "execution_count": null,
   "metadata": {},
   "outputs": [],
   "source": [
    "for si in s.simus:\n",
    "    D.append(si.dA)\n",
    "    i = np.argmax(np.sum(si.A, 0)==si.grid_size) - 1\n",
    "    m_max = min(np.diff(si.A[:, i]))\n",
    "    j = np.argmin(np.diff(si.A[:, i])-m_max)\n",
    "    l.append(1/abs(m_max/(si.A[j, i])))"
   ]
  },
  {
   "cell_type": "markdown",
   "metadata": {},
   "source": [
    "### Wave pinning"
   ]
  },
  {
   "cell_type": "code",
   "execution_count": null,
   "metadata": {},
   "outputs": [],
   "source": [
    "Da = pd.read_csv('/Users/hubatsl/Desktop/interplay-cell-size/Theory/Da.csv', index_col=False, header=None)\n",
    "f  = pd.read_csv('/Users/hubatsl/Desktop/interplay-cell-size/Theory/fit.csv', index_col=False, header=None)\n",
    "wp = pd.read_csv('/Users/hubatsl/Desktop/interplay-cell-size/Theory/wave_pin.csv', index_col=False, header=None)\n",
    "\n",
    "\n",
    "plt.figure(figsize=(3.75, 3.1))\n",
    "plt.plot(Da, 1/wp, 'o', lw=2, label='Wave Pinning', color=c1)\n",
    "plt.plot(np.linspace(0, max(Da[0]), 100), f, '--', label='Best square root fit', color=c2)\n",
    "make_graph_pretty(r'$D\\; [\\mu m^2/s]$', r'$Gradient\\; Length\\; [\\mu m]$', loc=4)\n",
    "plt.savefig('/Users/hubatsl/Dropbox (Lars DMS)/LRI/PAR_Size/Theory/Slope_Vs_D_wavePin.pdf', transparent=True)\n",
    "plt.show()\n"
   ]
  },
  {
   "cell_type": "markdown",
   "metadata": {},
   "source": [
    "## How are D and $L_{crit}$ related?"
   ]
  },
  {
   "cell_type": "code",
   "execution_count": null,
   "metadata": {
    "collapsed": true
   },
   "outputs": [],
   "source": [
    "S = {'S': 134.6/2*np.logspace(-1, 1, 8)}\n",
    "D = {'D': (S['S']/69.9)**2}\n",
    "Simus = []\n",
    "for d, size in zip(D['D'], S['S']):\n",
    "    size_range = {'S': size*np.linspace(0.8, 1.2, 8)}\n",
    "    Simu = Sim_Container(d, size_range)\n",
    "    Simu.init_simus()\n",
    "    Simu.run_simus()\n",
    "    Simus.append(Simu)"
   ]
  },
  {
   "cell_type": "code",
   "execution_count": null,
   "metadata": {
    "collapsed": true
   },
   "outputs": [],
   "source": [
    "for s in Simus:\n",
    "    s.pickle_data(str(s.simus[0].dx*s.simus[0].grid_size))"
   ]
  },
  {
   "cell_type": "code",
   "execution_count": null,
   "metadata": {
    "collapsed": true
   },
   "outputs": [],
   "source": [
    "s = [5, 10, 20, 39, 75, 144, 279, 538]\n",
    "Simus = []\n",
    "for i in s:\n",
    "    with open('DvsLcrit/' + str(i) + '.pickle', 'rb') as f:\n",
    "        Simus.append(pickle.load(f))"
   ]
  },
  {
   "cell_type": "code",
   "execution_count": null,
   "metadata": {},
   "outputs": [],
   "source": [
    "d_break = []\n",
    "s_break = []\n",
    "for S in Simus:\n",
    "    l = []\n",
    "    L = []\n",
    "    for si in S.simus:\n",
    "        L.append(si.dx*si.grid_size)\n",
    "        i = np.argmax(np.sum(si.A, 0)==si.grid_size) - 1\n",
    "        di = np.diff(si.A[:, i])/si.dx\n",
    "        m_max = min(di)\n",
    "        j = np.argmin(di-m_max)\n",
    "        l.append(abs(m_max/(si.A[j, i])))\n",
    "    l = np.array(l)\n",
    "    L = np.array(L)\n",
    "    j = np.argmin(abs(np.diff(l)-max(np.diff(l))))\n",
    "    s_break.append(L[j])\n",
    "    d_break.append(S.simus[0].d)\n",
    "\n",
    "# Restrict to reasonably small D/size\n",
    "d_break = np.array(d_break[0:-3])\n",
    "s_break = np.array(s_break[0:-3])\n",
    "\n",
    "# CPSS vs D\n",
    "plt.figure(figsize=(3.75, 3.1))\n",
    "plt.plot(d_break, s_break, 'o', label='PAR system', color=c1)\n",
    "def fit_sqrt(D, A):\n",
    "    return A*np.sqrt(D)\n",
    "popt, pcov = optimize.curve_fit(fit_sqrt, d_break, s_break)\n",
    "domain = np.linspace(min(d_break), max(d_break), 40)\n",
    "plt.plot(domain, fit_sqrt(domain, *popt), '--', label='Square root fit', color=c2)\n",
    "make_graph_pretty(r'$D\\;[\\mu m ^2/s]$', r'$CPSS\\; [\\mu m]$', loc=4)\n",
    "plt.savefig('/Users/hubatsl/Dropbox (Lars DMS)/LRI/PAR_Size/Theory/Lcrit_vsD.pdf',\n",
    "            transparent=True)\n",
    "plt.show()\n",
    "\n",
    "# CPSS vs sqrt(D)\n",
    "plt.plot(np.sqrt(d_break), s_break, 'o')\n",
    "p = np.polyfit(np.sqrt(d_break), s_break, 1)\n",
    "plt.plot(np.sqrt(d_break), p[0]*np.sqrt(d_break), '--')\n",
    "make_graph_pretty(r'$\\sqrt{D}\\;[\\mu m/\\sqrt{s}]$', r'$CPSS\\; [\\mu m]$')\n",
    "plt.show()\n",
    "\n",
    "# Ldiff vs critical system length\n",
    "d_break=np.array(d_break)\n",
    "s_break=np.array(s_break)\n",
    "plt.plot(np.sqrt(d_break/0.005), s_break, 'o')\n",
    "p = np.polyfit(np.sqrt(d_break/0.005), s_break, 1)\n",
    "plt.plot(np.sqrt(d_break/0.005), p[0]*np.sqrt(d_break/0.005), '--')\n",
    "make_graph_pretty(r'$L_{diff}\\;[\\mu m]$', r'$CPSS\\; [\\mu m]$')\n",
    "plt.savefig('/Users/hubatsl/Dropbox (Lars DMS)/LRI/PAR_Size/Theory/Lcrit_vsLdiff.pdf',\n",
    "            transparent=True)\n",
    "plt.show()"
   ]
  },
  {
   "cell_type": "code",
   "execution_count": null,
   "metadata": {},
   "outputs": [],
   "source": [
    "plt.figure(figsize=(3.75, 3.1))\n",
    "d_break = np.array([0.9, 3.6, 14.4, 57.6, 230.4])\n",
    "s_break = np.array([10, 20, 40, 80, 160])\n",
    "plt.plot(d_break, s_break, 'o', label='Wave Pinning', color=c1)\n",
    "def fit_sqrt(D, A):\n",
    "    return A*np.sqrt(D)\n",
    "popt, pcov = optimize.curve_fit(fit_sqrt, d_break, s_break)\n",
    "domain = np.linspace(min(d_break), max(d_break), 40)\n",
    "plt.plot(domain, fit_sqrt(domain, *popt), '--', label='Best square root fit', color=c2)\n",
    "make_graph_pretty(r'$D\\;[\\mu m ^2/s]$', r'$CPSS\\; [\\mu m]$', loc=4)\n",
    "\n",
    "plt.savefig('/Users/hubatsl/Dropbox (Lars DMS)/LRI/PAR_Size/Theory/Lcrit_vsD_WavePin.pdf',\n",
    "            transparent=True)\n",
    "plt.show()"
   ]
  },
  {
   "cell_type": "markdown",
   "metadata": {},
   "source": [
    "### How does slope depend on off rate?"
   ]
  },
  {
   "cell_type": "code",
   "execution_count": null,
   "metadata": {
    "collapsed": true
   },
   "outputs": [],
   "source": [
    "symmetric = {'alpha': 2, 'beta': 2, 'dA': 0.1, 'dP': 0.1,\n",
    "             'kAP': 1, 'kPA': 1, 'koffA': 0.005, 'koffP': 0.005,\n",
    "             'konA': 0.006, 'konP': 0.006, 'Ptot': 1, 'ratio': 1.01,\n",
    "             'sys_size': 30}\n",
    "n = 8\n",
    "off_rates = np.linspace(np.sqrt(0.0005), np.sqrt(0.05), n)**2\n",
    "ant_rates = np.linspace(np.sqrt(0.0005)/0.005, np.sqrt(0.05)/0.005, n)**2\n",
    "on_rates = symmetric['konA']*off_rates/symmetric['koffA']\n",
    "siz = [copy.deepcopy(symmetric) for _ in on_rates]\n",
    "for i, dic in enumerate(siz):\n",
    "    siz[i]['konA'] = on_rates[i]\n",
    "    siz[i]['konP'] = on_rates[i]\n",
    "    siz[i]['koffA'] = off_rates[i]\n",
    "    siz[i]['koffP'] = off_rates[i]\n",
    "    siz[i]['kPA'] = ant_rates[i]\n",
    "    siz[i]['kAP'] = ant_rates[i]\n",
    "s = Sim_Container(siz, no_workers=8)\n",
    "s.init_simus()\n",
    "s.run_simus()"
   ]
  },
  {
   "cell_type": "code",
   "execution_count": null,
   "metadata": {
    "collapsed": true
   },
   "outputs": [],
   "source": [
    "s.pickle_data('boundary_vs_AntOff')"
   ]
  },
  {
   "cell_type": "code",
   "execution_count": null,
   "metadata": {},
   "outputs": [],
   "source": [
    "with open('boundary_vs_AntOff.pickle', 'rb') as f:\n",
    "    s = pickle.load(f)\n",
    "koff = []\n",
    "l = []\n",
    "weird_int = []\n",
    "weird_ind = []\n",
    "dist = []\n",
    "for si in s.simus:\n",
    "    koff.append(si.koffA)\n",
    "    i = np.argmax(np.sum(si.A, 0)==si.grid_size) - 1\n",
    "    int08 = np.argmax(si.A[:, i]<0.8)\n",
    "    int01 = np.argmax(si.A[:, i]<0.1)\n",
    "    dist.append(int01-int08)\n",
    "    m_max = min(np.diff(si.A[:, i]))\n",
    "    j = np.argmin(np.diff(si.A[:, i])-m_max)\n",
    "#     l.append(abs(m_max/(si.A[j, i])))\n",
    "    weird_ind.append(j)\n",
    "    weird_int.append(si.A[j, i])\n",
    "    l.append(abs(m_max))\n",
    "\n",
    "l = np.array(l[1:])\n",
    "koff = np.array(koff[1:])\n",
    "dist = np.array(dist[1:])\n",
    "\n",
    "def fit_sqrt(koff, A):\n",
    "    return A*np.sqrt(koff)\n",
    "popt, pcov = optimize.curve_fit(fit_sqrt, koff, l)\n",
    "\n",
    "plt.figure(figsize=(0.6*3.75, 0.6*3.1))\n",
    "plt.plot(koff, 1/l,'o', label='PAR system', color=c1)\n",
    "domain = np.linspace(min(koff), max(koff), 40)\n",
    "plt.plot(domain, 1/fit_sqrt(domain, *popt), '--', label='Square root fit', color=c2)\n",
    "make_graph_pretty('$k_{off}$ [1/s]', '$\\lambda [\\mu m]$', loc=(0.1, 0.7))\n",
    "plt.savefig('/Users/lhcge/Dropbox (Lars DMS)/LRI/PAR_Size/PAR_Size_MS_Data/Data_Figure2_Theory1/Slope_Vs_koff1.pdf', transparent=True)\n",
    "plt.show()"
   ]
  },
  {
   "cell_type": "markdown",
   "metadata": {},
   "source": [
    "**Now for WP model**"
   ]
  },
  {
   "cell_type": "code",
   "execution_count": null,
   "metadata": {},
   "outputs": [],
   "source": [
    "delta = pd.read_csv('/Users/hubatsl/Desktop/interplay-cell-size/Theory/delta_off.csv', index_col=False, header=None)\n",
    "f  = pd.read_csv('/Users/hubatsl/Desktop/interplay-cell-size/Theory/fit_off.csv', index_col=False, header=None)\n",
    "wp = pd.read_csv('/Users/hubatsl/Desktop/interplay-cell-size/Theory/wave_pin_off.csv', index_col=False, header=None)\n",
    "\n",
    "plt.figure(figsize=(3.75, 3.1))\n",
    "plt.plot(delta[9:-6], 1/wp[9:-6], 'o', lw=2, label='Wave Pinning', color=c1)\n",
    "plt.plot(delta[9:-6], 1/f[9:-6], '--', label='Best square root fit', color=c2)\n",
    "make_graph_pretty(r'$\\delta\\; [1/s]$', r'$Gradient\\; Length\\; [\\mu m]$')\n",
    "\n",
    "plt.savefig('/Users/hubatsl/Dropbox (Lars DMS)/LRI/PAR_Size/Theory/Slope_Vs_koff_wavePin.pdf', transparent=True)\n",
    "plt.savefig('/Users/hubatsl/Desktop/interplay-cell-size/Theory/Slope_Vs_koff_wavePin.pdf', transparent=True)\n",
    "plt.show()"
   ]
  },
  {
   "cell_type": "markdown",
   "metadata": {},
   "source": [
    "**Now for Otsuji model**"
   ]
  },
  {
   "cell_type": "code",
   "execution_count": null,
   "metadata": {},
   "outputs": [],
   "source": [
    "Ds = pd.read_csv('/Users/hubatsch/Desktop/PARmodelling/MatlabDet/ActivatorInhibitor/Ds.csv', index_col=False, header=None)\n",
    "wp = pd.read_csv('/Users/hubatsch/Desktop/PARmodelling/MatlabDet/ActivatorInhibitor/size.csv', index_col=False, header=None)\n",
    "def fit_sqrt(Ds, A):\n",
    "    return A*np.sqrt(Ds)\n",
    "popt, pcov = optimize.curve_fit(fit_sqrt, Ds.iloc[:,0], wp.iloc[:,0])\n",
    "f_interp = interp1d(Ds.loc[:,0], wp.loc[:,0], kind='cubic')\n",
    "x_new = np.linspace(Ds.iloc[0], Ds.iloc[-1], num=110, endpoint=True)\n",
    "plt.figure(figsize=(3.75, 3.1))\n",
    "\n",
    "plt.plot(Ds, wp, 'o', markersize=7, label='Mass conserved \\nActivator Inhibitor', color=c1)\n",
    "plt.plot(x_new, fit_sqrt(x_new, *popt), '--', lw=2, label='Square root fit', color=c2)\n",
    "make_graph_pretty(r'$D\\;[\\mu m ^2/s]$', r'$CPSS\\; [\\mu m]$', loc=4)\n",
    "\n",
    "plt.savefig('/Users/hubatsch/Dropbox (Lars DMS)/LRI/PAR_Size/PAR_Size_MS_Data/Data_Figure2Supp/Diffusion_CPSS_Otsuji.pdf', transparent=True)\n",
    "plt.show()"
   ]
  },
  {
   "cell_type": "markdown",
   "metadata": {},
   "source": [
    "### Initial conditions Membrane & cytoplasmic concentrations"
   ]
  },
  {
   "cell_type": "code",
   "execution_count": null,
   "metadata": {
    "collapsed": true
   },
   "outputs": [],
   "source": [
    "mem = 0.009*1/(0.005+0.174*0.009)\n",
    "print('Membrane average concetration: ' + str(mem))\n",
    "cyto = 1-0.174*mem\n",
    "print('Cytoplasm average concetration: ' + str(cyto))"
   ]
  },
  {
   "cell_type": "markdown",
   "metadata": {},
   "source": [
    "### Toms reproduction of Science paper"
   ]
  },
  {
   "cell_type": "code",
   "execution_count": null,
   "metadata": {
    "collapsed": true
   },
   "outputs": [],
   "source": [
    "s = Sim_Container({'S': [0]}, sys='Tom', no_workers=1)\n",
    "s.init_simus()\n",
    "s.run_simus()\n",
    "s.simus[0].plot_steady_state()"
   ]
  },
  {
   "cell_type": "markdown",
   "metadata": {},
   "source": [
    "**Now with Hill function for antagonism**"
   ]
  },
  {
   "cell_type": "code",
   "execution_count": null,
   "metadata": {
    "collapsed": true
   },
   "outputs": [],
   "source": [
    "s = Sim_Container({'S': [0]}, sys='TomHill', no_workers=1)\n",
    "s.init_simus()\n",
    "s.run_simus()\n",
    "s.simus[0].plot_steady_state()"
   ]
  },
  {
   "cell_type": "code",
   "execution_count": null,
   "metadata": {
    "collapsed": true
   },
   "outputs": [],
   "source": [
    "s.simus[0].show_movie()"
   ]
  },
  {
   "cell_type": "code",
   "execution_count": null,
   "metadata": {
    "collapsed": true
   },
   "outputs": [],
   "source": [
    "fig, axs = plt.subplots(3,2)\n",
    "l = []\n",
    "color_list = plt.cm.Paired_r(np.linspace(0, 1, 10))\n",
    "for i, (A, P) in enumerate(zip(OffA, OffP)):\n",
    "    axs[0][0].set_title('Off rate')\n",
    "    axs[0][0].plot(A[:,-1], color=color_list[i])\n",
    "    axs[0][0].plot(P[:,-1], color=color_list[i])\n",
    "for i, (A, P) in enumerate(zip(DiffA, DiffP)):\n",
    "    axs[0][1].set_title('Diffusion rate')\n",
    "    axs[0][1].plot(A[:,-1], color=color_list[i])\n",
    "    axs[0][1].plot(P[:,-1], color=color_list[i])\n",
    "for i, (A, P) in enumerate(zip(OnA, OnP)):\n",
    "    axs[1][0].set_title('On rate')\n",
    "    axs[1][0].plot(A[:,-1], color=color_list[i])\n",
    "    axs[1][0].plot(P[:,-1], color=color_list[i])\n",
    "for i, (A, P) in enumerate(zip(AntA, AntP)):\n",
    "    axs[1][1].set_title('Antagonism rate')\n",
    "    axs[1][1].plot(A[:,-1], color=color_list[i])\n",
    "    axs[1][1].plot(P[:,-1], color=color_list[i])\n",
    "for i, (A, P) in enumerate(zip(AntA, AntP)):\n",
    "    axs[1][1].set_title('Ratio of proteins')\n",
    "    axs[1][1].plot(A[:,-1], color=color_list[i])\n",
    "    axs[1][1].plot(P[:,-1], color=color_list[i])\n",
    "plt.show()"
   ]
  },
  {
   "cell_type": "markdown",
   "metadata": {},
   "source": [
    "### Figure 1: important length scales:\n",
    "\n",
    "**Gradient:** critical point at minimum slope before breakdown\n",
    "                \n",
    "**Panels:** \n",
    " - Gradient with different D and different $k_{off}$. Show they have opposite effects\n",
    " - Effects of $k_{on}$, $k_{off}$, $D$, ratio and $k_{Ant}$ on the gradient.\n",
    "    \n",
    "**Domain size:** In combination with the gradient allows for polarity only at a certain ratio.\n",
    "                At lower sizes, the system becomes more sensitive to changes in dosage\n",
    "                \n",
    "**Panels:**\n",
    " - Dosage changes domain size\n",
    " - Dosage vs gradient length tolerance of total system size, i.e. what percentage of the cell must be occupied by a domain in order to allow maintenance?\n",
    " - Diffusion length predicts breakdown reliably"
   ]
  },
  {
   "cell_type": "markdown",
   "metadata": {},
   "source": [
    "### Illustrative plots to showcase effect of changes in D, $k_{off}$, $k_{AP}$ etc."
   ]
  },
  {
   "cell_type": "markdown",
   "metadata": {},
   "source": [
    "#### Changing D"
   ]
  },
  {
   "cell_type": "code",
   "execution_count": null,
   "metadata": {},
   "outputs": [],
   "source": [
    "symmetric = {'alpha': 2, 'beta': 2, 'dA': 0.1, 'dP': 0.1,\n",
    "             'kAP': 1, 'kPA': 1, 'koffA': 0.005, 'koffP': 0.005,\n",
    "             'konA': 0.006, 'konP': 0.006, 'Ptot': 1, 'ratio': 1.00,\n",
    "             'sys_size': 30}\n",
    "n = 8\n",
    "ds = np.logspace(-2, 0, n)\n",
    "ds = [0.01, 0.1, 0.3]\n",
    "siz = [copy.deepcopy(symmetric) for _ in ds]\n",
    "for i, dic in enumerate(siz):\n",
    "    siz[i]['dP'] = ds[i]\n",
    "    siz[i]['dA'] = ds[i]\n",
    "s = Sim_Container(siz, no_workers=8)\n",
    "s.init_simus()\n",
    "s.run_simus()\n",
    "s.pickle_data('DiffExample')"
   ]
  },
  {
   "cell_type": "code",
   "execution_count": null,
   "metadata": {},
   "outputs": [],
   "source": [
    "s.simus[1].StoV"
   ]
  },
  {
   "cell_type": "code",
   "execution_count": null,
   "metadata": {
    "scrolled": true
   },
   "outputs": [],
   "source": [
    "with open('DiffExample.pickle', 'rb') as f:\n",
    "    s = pickle.load(f)\n",
    "plt.figure(figsize=(0.6*3.75, 0.6*3.1))\n",
    "s.simus[2].plot_steady_state(c1='orangered', c2='royalblue', alpha=1.0, linestyle=':',\n",
    "                              lab=str(ds[2]), printLast=True)\n",
    "s.simus[0].plot_steady_state(c1='orangered', c2='royalblue', alpha=1.0, linestyle='--',\n",
    "                             lab=str(ds[0]), printLast=True)\n",
    "s.simus[1].plot_steady_state(c1='orangered', c2='royalblue', alpha=1.0, linestyle='-',\n",
    "                             lab=str(ds[1]), printLast=True)\n",
    "\n",
    "# # Paper:\n",
    "# plt.gca().spines['bottom'].set_linewidth(1.5)\n",
    "# plt.gca().spines['left'].set_linewidth(1.5)\n",
    "make_graph_pretty('x [$\\mu m$]','C [a.u.]', loc=4, handlelength=1.5)\n",
    "# plt.xticks([], [])\n",
    "# plt.yticks([], [])\n",
    "# plt.title('Diffusion')\n",
    "# plt.savefig('/Users/hubatsl/Dropbox (Lars DMS)/LRI/PAR_Size/PAR_Size_MS_Data/Data_Figure2_Theory1/D_example.pdf',\n",
    "#             transparent=True)\n",
    "plt.savefig('/Users/lhcge/Dropbox (Lars DMS)/LRI/PAR_Size/PAR_Size_MS_Data/Data_Figure2_Theory1/D_example1.pdf',\n",
    "            transparent=True)\n",
    "# Thesis\n",
    "# plt.savefig('/Users/hubatsl/Desktop/interplay-cell-size/Theory/D_example.pdf',\n",
    "#             transparent=True)\n",
    "plt.show()"
   ]
  },
  {
   "cell_type": "markdown",
   "metadata": {},
   "source": [
    "#### Changing Dosage"
   ]
  },
  {
   "cell_type": "code",
   "execution_count": null,
   "metadata": {},
   "outputs": [],
   "source": [
    "symmetric = {'alpha': 2, 'beta': 2, 'dA': 0.1, 'dP': 0.1,\n",
    "             'kAP': 1, 'kPA': 1, 'koffA': 0.005, 'koffP': 0.005,\n",
    "             'konA': 0.006, 'konP': 0.006, 'Ptot': 1, 'ratio': 1.00,\n",
    "             'sys_size': 120}\n",
    "n = 8\n",
    "# ds = np.linspace(0.55, 1/.55, n)\n",
    "ds = np.linspace(0.8, 2.2, n)\n",
    "# ds = np.array([0.5, 0.7, 1, 1/0.7, 1/0.5])\n",
    "siz = [copy.deepcopy(symmetric) for _ in ds]\n",
    "for i, dic in enumerate(siz):\n",
    "    siz[i]['ratio'] = ds[i]\n",
    "    siz[i]['Ptot'] = 1/ds[i]\n",
    "s1 = Sim_Container(siz, no_workers=8)\n",
    "s1.init_simus()\n",
    "s1.run_simus()\n",
    "s1.pickle_data('DosageVsBound')"
   ]
  },
  {
   "cell_type": "code",
   "execution_count": null,
   "metadata": {},
   "outputs": [],
   "source": [
    "plt.figure(figsize=(3.75, 3.1))\n",
    "for i in s1.simus:\n",
    "    i.plot_steady_state(norm=True,printLast=True)\n",
    "make_graph_pretty('x [$\\mu m$]','C [a.u.]', loc=4, handlelength=0.75)\n",
    "plt.savefig('/Users/lhcge/Dropbox (Lars DMS)/LRI/PAR_Size/PAR_Size_MS_Data/Data_Figure3_Theory2/DosageVsBoundPosition1_norm.pdf',\n",
    "            transparent=True)\n",
    "plt.show()\n"
   ]
  },
  {
   "cell_type": "code",
   "execution_count": null,
   "metadata": {},
   "outputs": [],
   "source": [
    "dosage = []\n",
    "l = []\n",
    "weird_int = []\n",
    "weird_ind = []\n",
    "dist = []\n",
    "for si in s1.simus:\n",
    "    dosage.append(si.ratio)\n",
    "    i = np.argmax(np.sum(si.A, 0)==si.grid_size) - 1\n",
    "    int08 = np.argmax(si.A[:, i]<0.8)\n",
    "    int01 = np.argmax(si.A[:, i]<0.1)\n",
    "    dist.append(int01-int08)\n",
    "    m_max = min(np.diff(si.A[:, i]))\n",
    "    j = np.argmin(np.diff(si.A[:, i])-m_max)\n",
    "#     l.append(abs(m_max/(si.A[j, i])))\n",
    "    weird_ind.append(j)\n",
    "    weird_int.append(si.A[j, i])\n",
    "    l.append(abs(m_max))\n",
    "\n",
    "l = np.array(l[:])\n",
    "dosage = np.array(dosage[:])\n",
    "dist = np.array(dist[:])\n",
    "\n",
    "def fit_sqrt(dosage, A):\n",
    "    return A*np.sqrt(dosage)\n",
    "popt, pcov = optimize.curve_fit(fit_sqrt, dosage, l)\n",
    "\n",
    "plt.figure(figsize=(0.6*3.75, 0.6*3.1))\n",
    "ax = plt.plot(dosage, 1/l,'o', color=c1)\n",
    "plt.ylim(-0.0, 12)\n",
    "plt.xlim(0.4, 1.7)\n",
    "domain = np.linspace(min(dosage), max(dosage), 40)\n",
    "# plt.plot(domain, 1/fit_sqrt(domain, *popt), '--', label='Square root fit', color=c2)\n",
    "make_graph_pretty('A/P ratio', '$\\lambda [\\mu m]$', loc=(0.3, 0.7))\n",
    "plt.savefig('/Users/lhcge/Dropbox (Lars DMS)/LRI/PAR_Size/PAR_Size_MS_Data/Data_Figure3_Theory2/Slope_Vs_Dosage.pdf', transparent=True)\n",
    "plt.show()"
   ]
  },
  {
   "cell_type": "markdown",
   "metadata": {},
   "source": [
    "#### Changing dosage in the full model"
   ]
  },
  {
   "cell_type": "code",
   "execution_count": null,
   "metadata": {},
   "outputs": [],
   "source": [
    "param_dict = {'alpha': 1, 'beta': 2, 'dA': 0.28, 'dP': 0.15,\n",
    "              'kAP': 0.19, 'kPA': 2, 'koffA': 0.0054,\n",
    "              'koffP': 0.0073, 'konA': 0.00858, 'konP': 0.0474,\n",
    "              'Ptot': 1, 'ratio': 1.56, 'sys_size': 134.6/2}\n",
    "n = 16\n",
    "ds = np.linspace(0.3, 1, n)\n",
    "siz = [copy.deepcopy(param_dict) for _ in ds]\n",
    "for i, dic in enumerate(siz):\n",
    "    siz[i]['Ptot'] = ds[i]\n",
    "    siz[i]['ratio'] = param_dict['ratio']/ds[i]\n",
    "s1 = Sim_Container(siz, no_workers=8)\n",
    "s1.init_simus()\n",
    "s1.run_simus()\n",
    "s1.pickle_data('Dosage_Domain')"
   ]
  },
  {
   "cell_type": "code",
   "execution_count": null,
   "metadata": {},
   "outputs": [],
   "source": [
    "with open('Dosage_Domain.pickle', 'rb') as f:\n",
    "    s1 = pickle.load(f)\n",
    "plt.figure(figsize=(0.6*3.75, 0.6*3.1))\n",
    "for i in s1.simus:\n",
    "    i.plot_steady_state(c1='salmon', c2='cornflowerblue',\n",
    "                               alpha=1.0, lab='100', printLast=True)\n",
    "plt.show()"
   ]
  },
  {
   "cell_type": "code",
   "execution_count": null,
   "metadata": {},
   "outputs": [],
   "source": [
    "p = np.zeros((16, 63))\n",
    "for i in range(len(s1.simus)):\n",
    "    obj = s1.simus[i]\n",
    "    for j in range(np.shape(obj.P)[1]):\n",
    "        p[i, j] = 1-np.argmax(np.diff(obj.P[:,j]))/len(np.diff(obj.P[:,j]))\n",
    "\n",
    "for i in range(0,63,3):\n",
    "    plt.plot(ds, p[:, i])\n",
    "    \n",
    "plt.ylim(0.0, 0.5); plt.xlim(0, 1.2)\n",
    "plt.xlabel('Dosage of P')\n",
    "plt.ylabel('Relative position')\n",
    "plt.savefig('/Users/hubatsl/Desktop/Pos_vs_Dosage.pdf', transparent=True)\n",
    "plt.show()\n",
    "np.savetxt('Pos_Vs_Dosage.csv', p, delimiter=',')"
   ]
  },
  {
   "cell_type": "markdown",
   "metadata": {},
   "source": [
    "#### Changing Antagonism"
   ]
  },
  {
   "cell_type": "code",
   "execution_count": null,
   "metadata": {
    "collapsed": true
   },
   "outputs": [],
   "source": [
    "symmetric = {'alpha': 2, 'beta': 2, 'dA': 0.1, 'dP': 0.1,\n",
    "             'kAP': 1, 'kPA': 1, 'koffA': 0.005, 'koffP': 0.005,\n",
    "             'konA': 0.006, 'konP': 0.006, 'Ptot': 1, 'ratio': 1.00,\n",
    "             'sys_size': 30}\n",
    "# n = 8\n",
    "# ds = np.logspace(-1.0, 2, n)\n",
    "ds = [0.1, 1, 10]\n",
    "siz = [copy.deepcopy(symmetric) for _ in ds]\n",
    "for i, dic in enumerate(siz):\n",
    "    siz[i]['kAP'] = ds[i]\n",
    "    siz[i]['kPA'] = ds[i]\n",
    "s1 = Sim_Container(siz, no_workers=8)\n",
    "s1.init_simus()\n",
    "s1.run_simus()\n",
    "# s1.pickle_data('AntExample')"
   ]
  },
  {
   "cell_type": "code",
   "execution_count": null,
   "metadata": {
    "scrolled": false
   },
   "outputs": [],
   "source": [
    "# with open('AntExample.pickle', 'rb') as f:\n",
    "#     s1 = pickle.load(f)\n",
    "plt.figure(figsize=(0.6*3.75, 0.6*3.1))\n",
    "s1.simus[0].plot_steady_state(c1='orangered', c2='royalblue', linestyle=':',\n",
    "                               alpha=1.0, lab=str(ds[0]), printLast=True)\n",
    "s1.simus[1].plot_steady_state(c1='orangered', c2='royalblue', linestyle='-',\n",
    "                              alpha=0.6, lab=str(ds[1]), printLast=True)\n",
    "s1.simus[2].plot_steady_state(c1='orangered', c2='royalblue', linestyle='--',\n",
    "                              alpha=1.0, lab=str(ds[2]), printLast=True)\n",
    "\n",
    "# # Paper:\n",
    "# plt.gca().spines['bottom'].set_linewidth(1.5)\n",
    "# plt.gca().spines['left'].set_linewidth(1.5)\n",
    "make_graph_pretty('x [$\\mu m$]','C [a.u.]', loc=(0.6, 0.1), handlelength=1.5)\n",
    "# plt.xticks([], [])\n",
    "# plt.yticks([], [])\n",
    "# plt.title('Antagonism')\n",
    "plt.savefig('/Users/lhcge/Dropbox (Lars DMS)/LRI/PAR_Size/PAR_Size_MS_Data/Data_Figure2_Theory1/Ant_example1.pdf',\n",
    "            transparent=True)\n",
    "\n",
    "# Thesis\n",
    "# plt.savefig('/Users/hubatsl/Desktop/interplay-cell-size/Theory/Ant_example.pdf',\n",
    "#             transparent=True)\n",
    "\n",
    "plt.show()"
   ]
  },
  {
   "cell_type": "code",
   "execution_count": null,
   "metadata": {
    "scrolled": false
   },
   "outputs": [],
   "source": [
    "plt.figure(figsize=(3.75, 3.1))\n",
    "s1.simus[-1].plot_steady_state(c1='salmon', c2='cornflowerblue',\n",
    "                               alpha=1.0, lab=r'$k_{ant} = 100$', norm=True, printLast=True)\n",
    "s1.simus[1].plot_steady_state(c1='salmon', c2='cornflowerblue',\n",
    "                              alpha=0.6, lab=r'$k_{ant} = 0.3$', norm=True, printLast=True)\n",
    "s1.simus[0].plot_steady_state(c1='salmon', c2='cornflowerblue',\n",
    "                              alpha=0.3, lab=r'$k_{ant} = 0.1$', norm=True, printLast=True)\n",
    "make_graph_pretty('x [$\\mu m$]','Concentration [a.u.]', loc=(0.6, 0.1), handlelength=0.75)\n",
    "\n",
    "# Thesis\n",
    "# plt.savefig('/Users/hubatsl/Desktop/interplay-cell-size/Theory/Ant_example_norm.pdf',\n",
    "#             transparent=True)\n",
    "\n",
    "plt.show()"
   ]
  },
  {
   "cell_type": "markdown",
   "metadata": {},
   "source": [
    "For paper: simulate 0.1, 1, 10, 100 kAP"
   ]
  },
  {
   "cell_type": "code",
   "execution_count": null,
   "metadata": {
    "collapsed": true
   },
   "outputs": [],
   "source": [
    "symmetric = {'alpha': 2, 'beta': 2, 'dA': 0.1, 'dP': 0.1,\n",
    "             'kAP': 1, 'kPA': 1, 'koffA': 0.005, 'koffP': 0.005,\n",
    "             'konA': 0.006, 'konP': 0.006, 'Ptot': 1, 'ratio': 1.00,\n",
    "             'sys_size': 30}\n",
    "n = 4\n",
    "ds = [0.1, 1, 10, 100]\n",
    "siz = [copy.deepcopy(symmetric) for _ in ds]\n",
    "for i, dic in enumerate(siz):\n",
    "    siz[i]['kAP'] = ds[i]\n",
    "    siz[i]['kPA'] = ds[i]\n",
    "s1 = Sim_Container(siz, no_workers=4)\n",
    "s1.init_simus()\n",
    "s1.run_simus()\n",
    "s1.pickle_data('AntExamplePaper')"
   ]
  },
  {
   "cell_type": "code",
   "execution_count": null,
   "metadata": {},
   "outputs": [],
   "source": [
    "with open('AntExamplePaper.pickle', 'rb') as f:\n",
    "    s1 = pickle.load(f)\n",
    "plt.figure(figsize=(0.6*3.75, 0.6*3.1))\n",
    "s1.simus[0].plot_steady_state(c1='salmon', c2='cornflowerblue',\n",
    "                               alpha=0.1, lab='0.1', printLast=True)\n",
    "s1.simus[1].plot_steady_state(c1='salmon', c2='cornflowerblue',\n",
    "                              alpha=0.35, lab='1', printLast=True)\n",
    "s1.simus[2].plot_steady_state(c1='salmon', c2='cornflowerblue',\n",
    "                              alpha=0.75, lab='10', printLast=True)\n",
    "s1.simus[3].plot_steady_state(c1='salmon', c2='cornflowerblue',\n",
    "                              alpha=1, lab='100', printLast=True)\n",
    "\n",
    "# # Paper:\n",
    "# plt.gca().spines['bottom'].set_linewidth(1.5)\n",
    "# plt.gca().spines['left'].set_linewidth(1.5)\n",
    "make_graph_pretty('x [$\\mu m$]','C [a.u.]', loc=(0.6, 0.1), handlelength=0.75)\n",
    "# plt.xticks([], [])\n",
    "# plt.yticks([], [])\n",
    "# plt.title('Antagonism')\n",
    "plt.savefig('/Users/hubatsl/Dropbox (Lars DMS)/LRI/PAR_Size/PAR_Size_MS_Data/Data_Figure2_Theory1/Ant_example.pdf',\n",
    "            transparent=True)\n",
    "\n",
    "# Thesis\n",
    "# plt.savefig('/Users/hubatsl/Desktop/interplay-cell-size/Theory/Ant_example.pdf',\n",
    "#             transparent=True)\n",
    "\n",
    "plt.show()"
   ]
  },
  {
   "cell_type": "code",
   "execution_count": null,
   "metadata": {
    "collapsed": true
   },
   "outputs": [],
   "source": [
    "symmetric = {'alpha': 2, 'beta': 2, 'dA': 0.1, 'dP': 0.1,\n",
    "             'kAP': 1, 'kPA': 1, 'koffA': 0.005, 'koffP': 0.005,\n",
    "             'konA': 0.006, 'konP': 0.006, 'Ptot': 1, 'ratio': 1.00,\n",
    "             'sys_size': 30}\n",
    "n = 16\n",
    "ds = np.logspace(-1.0, 2, n)\n",
    "siz = [copy.deepcopy(symmetric) for _ in ds]\n",
    "for i, dic in enumerate(siz):\n",
    "    siz[i]['kAP'] = ds[i]\n",
    "    siz[i]['kPA'] = ds[i]\n",
    "s1 = Sim_Container(siz, no_workers=8)\n",
    "s1.init_simus()\n",
    "s1.run_simus()\n",
    "s1.pickle_data('AntVsL')"
   ]
  },
  {
   "cell_type": "code",
   "execution_count": null,
   "metadata": {},
   "outputs": [],
   "source": [
    "with open('AntVsL.pickle', 'rb') as f:\n",
    "    s1 = pickle.load(f)\n",
    "kant = []\n",
    "l = []\n",
    "for si in s1.simus:\n",
    "    kant.append(si.kAP)\n",
    "    i = np.argmax(np.sum(si.A, 0)==si.grid_size) - 1\n",
    "    m_max = min(np.diff(si.A[:, i]))\n",
    "#     j = np.argmin(np.diff(si.A[:, i])-m_max)\n",
    "#     l.append(abs(m_max/(si.A[j, i])))\n",
    "    l.append(abs(m_max))\n",
    "\n",
    "plt.figure(figsize=(0.6*3.75, 0.6*3.1))\n",
    "plt.plot(kant, [1/x for x in l], label='Interp. simulations')\n",
    "plt.semilogx([kant[0], kant[5], kant[10], kant[-1]],[ 1/l[0], 1/l[5], 1/l[10], 1/l[-1]], 'o', label='Simulated in D', color=c1)\n",
    "plt.ylim(0, 100)\n",
    "make_graph_pretty('$k_{AP}\\; [\\mu m^4/s]$','$\\lambda$ [$\\mu$m]', loc=0, handlelength=0.75)\n",
    "plt.savefig('/Users/lhcge/Dropbox (Lars DMS)/LRI/PAR_Size/PAR_Size_MS_Data/Data_Figure2_Theory1/Grad_vs_kAP1.pdf',\n",
    "            transparent=True)\n",
    "\n",
    "plt.show()"
   ]
  },
  {
   "cell_type": "markdown",
   "metadata": {},
   "source": [
    "Antagonism gradient"
   ]
  },
  {
   "cell_type": "code",
   "execution_count": null,
   "metadata": {
    "collapsed": true
   },
   "outputs": [],
   "source": [
    "symmetric = {'alpha': 2, 'beta': 2, 'dA': 0.1, 'dP': 0.1,\n",
    "             'kAP': 1, 'kPA': 1, 'koffA': 0.005, 'koffP': 0.005,\n",
    "             'konA': 0.006, 'konP': 0.006, 'Ptot': 1, 'ratio': 1.00,\n",
    "             'sys_size': 30}\n",
    "n = 8\n",
    "ds = np.logspace(-1.0, 2, n)\n",
    "siz = [copy.deepcopy(symmetric) for _ in ds]\n",
    "for i, dic in enumerate(siz):\n",
    "    siz[i]['kAP'] = ds[i]\n",
    "    siz[i]['kPA'] = ds[i]\n",
    "s1 = Sim_Container(siz, no_workers=8)\n",
    "s1.init_simus()\n",
    "s1.run_simus()\n",
    "s1.pickle_data('AntExample')"
   ]
  },
  {
   "cell_type": "markdown",
   "metadata": {},
   "source": [
    "### Changing off rate and antagonism simultaneously has the same effect as changing D"
   ]
  },
  {
   "cell_type": "code",
   "execution_count": null,
   "metadata": {
    "collapsed": true
   },
   "outputs": [],
   "source": [
    "symmetric = {'alpha': 2, 'beta': 2, 'dA': 0.1, 'dP': 0.1,\n",
    "             'kAP': 1, 'kPA': 1, 'koffA': 0.005, 'koffP': 0.005,\n",
    "             'konA': 0.006, 'konP': 0.006, 'Ptot': 1, 'ratio': 1.00,\n",
    "             'sys_size': 30}\n",
    "n = 8\n",
    "# off_rates = np.linspace(np.sqrt(0.0005), np.sqrt(0.05), n)**2\n",
    "off_rates = np.array([0.001, 0.005, 0.05])\n",
    "ant_rates = off_rates/0.005 # Ant in sym system is normally 1, now scaled with off rates\n",
    "on_rates = symmetric['konA']*off_rates/symmetric['koffA']\n",
    "# off_rates = off_rates[[-1, -7, -5]]\n",
    "# ant_rates = ant_rates[[-1, -7, -5]]\n",
    "# on_rates = on_rates[[-1, -7, -5]]\n",
    "siz = [copy.deepcopy(symmetric) for _ in on_rates]\n",
    "for i, dic in enumerate(siz):\n",
    "    siz[i]['konA'] = on_rates[i]\n",
    "    siz[i]['konP'] = on_rates[i]\n",
    "    siz[i]['koffA'] = off_rates[i]\n",
    "    siz[i]['koffP'] = off_rates[i]\n",
    "    siz[i]['kPA'] = ant_rates[i]\n",
    "    siz[i]['kAP'] = ant_rates[i]\n",
    "s = Sim_Container(siz, no_workers=8)\n",
    "s.init_simus()\n",
    "s.run_simus()\n",
    "# s.pickle_data('AntOff_example')"
   ]
  },
  {
   "cell_type": "code",
   "execution_count": null,
   "metadata": {},
   "outputs": [],
   "source": [
    "# with open('AntOff_example.pickle', 'rb') as f:\n",
    "#     s1 = pickle.load(f)\n",
    "plt.figure(figsize=(0.6*3.75, 0.6*3.1))\n",
    "s.simus[0].plot_steady_state(c1='orangered', c2='royalblue', linestyle=':',\n",
    "                               alpha=1, lab=r'0.2', printLast=True)\n",
    "s.simus[1].plot_steady_state(c1='orangered', c2='royalblue', \n",
    "                               alpha=0.6, lab=r'1', printLast=True)\n",
    "s.simus[2].plot_steady_state(c1='orangered', c2='royalblue', linestyle='--',\n",
    "                               alpha=1.0, lab=r'10', printLast=True)\n",
    "make_graph_pretty('x [$\\mu m$]','C [a.u.]', loc=4, handlelength=1.5)\n",
    "\n",
    "# # Paper:\n",
    "# plt.gca().spines['bottom'].set_linewidth(1.5)\n",
    "# plt.gca().spines['left'].set_linewidth(1.5)\n",
    "# plt.xticks([], [])\n",
    "# plt.yticks([], [])\n",
    "# plt.title('Antagonism/Off rate')\n",
    "plt.savefig('/Users/lhcge/Dropbox (Lars DMS)/LRI/PAR_Size/PAR_Size_MS_Data/Data_Figure2_Theory1/OffAnt_example1.pdf',\n",
    "            transparent=True)\n",
    "\n",
    "# Thesis\n",
    "# plt.savefig('/Users/hubatsl/Desktop/interplay-cell-size/Theory/OffAnt_example.pdf',\n",
    "#             transparent=True)\n",
    "\n",
    "plt.show()"
   ]
  },
  {
   "cell_type": "markdown",
   "metadata": {},
   "source": [
    "#### Changing off rates"
   ]
  },
  {
   "cell_type": "code",
   "execution_count": null,
   "metadata": {
    "collapsed": true
   },
   "outputs": [],
   "source": [
    "symmetric = {'alpha': 2, 'beta': 2, 'dA': 0.1, 'dP': 0.1,\n",
    "             'kAP': 1, 'kPA': 1, 'koffA': 0.005, 'koffP': 0.005,\n",
    "             'konA': 0.006, 'konP': 0.006, 'Ptot': 1, 'ratio': 1.00,\n",
    "             'sys_size': 30}\n",
    "# off_rates = np.linspace(0.001, 0.01, 8)\n",
    "off_rates = np.array([0.004, 0.006, 0.012])\n",
    "siz = [copy.deepcopy(symmetric) for _ in off_rates]\n",
    "for i, dic in enumerate(siz):\n",
    "    siz[i]['koffA'] = off_rates[i]\n",
    "    siz[i]['koffP'] = off_rates[i]\n",
    "s = Sim_Container(siz, no_workers=3)\n",
    "s.init_simus()\n",
    "s.run_simus()\n",
    "s.pickle_data('Off_example')"
   ]
  },
  {
   "cell_type": "code",
   "execution_count": null,
   "metadata": {},
   "outputs": [],
   "source": [
    "s1.simus"
   ]
  },
  {
   "cell_type": "code",
   "execution_count": null,
   "metadata": {},
   "outputs": [],
   "source": [
    "with open('Off_example.pickle', 'rb') as f:\n",
    "    s1 = pickle.load(f)\n",
    "plt.figure(figsize=(3.75, 3.1))\n",
    "s1.simus[0].plot_steady_state(c1='salmon', c2='cornflowerblue',alpha=0.3, \n",
    "                              lab=r'$k_{off} = 0.004  \\;\\frac{\\mu m}{s}$')\n",
    "s1.simus[1].plot_steady_state(c1='salmon', c2='cornflowerblue',alpha=0.6, \n",
    "                              lab=r'$k_{off} = 0.006 \\;\\frac{\\mu m}{s}$')\n",
    "s1.simus[2].plot_steady_state(c1='salmon', c2='cornflowerblue',alpha=1, \n",
    "                              lab=r'$k_{off} = 0.012 \\;\\frac{\\mu m}{s}$')\n",
    "\n",
    "plt.gca().set_ylim([0, 1.6])\n",
    "# plt.xticks([], [])\n",
    "# plt.yticks([], [])\n",
    "# plt.gca().spines['bottom'].set_linewidth(1.5)\n",
    "# plt.gca().spines['left'].set_linewidth(1.5)\n",
    "# plt.title('Antagonism/Off rate')\n",
    "# plt.savefig('/Users/hubatsl/Dropbox (Lars DMS)/LRI/PAR_Size/Theory/On_example.pdf',\n",
    "#             transparent=True)\n",
    "\n",
    "# Thesis\n",
    "make_graph_pretty('x [$\\mu m$]','Concentration [a.u.]', loc='upper center',\n",
    "                  handlelength=0.75)\n",
    "# plt.title('On rate')\n",
    "plt.savefig('/Users/hubatsl/Desktop/interplay-cell-size/Theory/Off_example.pdf',\n",
    "            transparent=True)\n",
    "\n",
    "plt.show()"
   ]
  },
  {
   "cell_type": "code",
   "execution_count": null,
   "metadata": {},
   "outputs": [],
   "source": [
    "plt.figure(figsize=(3.75, 3.1))\n",
    "s1.simus[0].plot_steady_state(c1='salmon', c2='cornflowerblue',alpha=0.3, \n",
    "                              lab=r'$k_{off} = 0.004  \\;\\frac{\\mu m}{s}$', norm=True)\n",
    "s1.simus[1].plot_steady_state(c1='salmon', c2='cornflowerblue',alpha=0.6, \n",
    "                              lab=r'$k_{off} = 0.006 \\;\\frac{\\mu m}{s}$', norm=True)\n",
    "s1.simus[2].plot_steady_state(c1='salmon', c2='cornflowerblue',alpha=1, \n",
    "                              lab=r'$k_{off} = 0.012 \\;\\frac{\\mu m}{s}$', norm=True)\n",
    "\n",
    "plt.gca().set_ylim([0, 1.6])\n",
    "# plt.xticks([], [])\n",
    "# plt.yticks([], [])\n",
    "# plt.gca().spines['bottom'].set_linewidth(1.5)\n",
    "# plt.gca().spines['left'].set_linewidth(1.5)\n",
    "# plt.title('Antagonism/Off rate')\n",
    "# plt.savefig('/Users/hubatsl/Dropbox (Lars DMS)/LRI/PAR_Size/Theory/On_example.pdf',\n",
    "#             transparent=True)\n",
    "\n",
    "# Thesis\n",
    "make_graph_pretty('x [$\\mu m$]','Concentration [a.u.]', loc='upper center',\n",
    "                  handlelength=0.75)\n",
    "# plt.title('On rate')\n",
    "plt.savefig('/Users/hubatsl/Desktop/interplay-cell-size/Theory/Off_example_norm.pdf',\n",
    "            transparent=True)\n",
    "\n",
    "plt.show()"
   ]
  },
  {
   "cell_type": "markdown",
   "metadata": {},
   "source": [
    "#### Changing on rates and scaling antagonism"
   ]
  },
  {
   "cell_type": "code",
   "execution_count": null,
   "metadata": {
    "collapsed": true
   },
   "outputs": [],
   "source": [
    "symmetric = {'alpha': 2, 'beta': 2, 'dA': 0.1, 'dP': 0.1,\n",
    "             'kAP': 1, 'kPA': 1, 'koffA': 0.005, 'koffP': 0.005,\n",
    "             'konA': 0.006, 'konP': 0.006, 'Ptot': 1, 'ratio': 1.00,\n",
    "             'sys_size': 30}\n",
    "on_rates = np.array([0.004, 0.006, 0.008])\n",
    "siz = [copy.deepcopy(symmetric) for _ in on_rates]\n",
    "for i, dic in enumerate(siz):\n",
    "    siz[i]['konA'] = on_rates[i]\n",
    "    siz[i]['konP'] = on_rates[i]\n",
    "s = Sim_Container(siz, no_workers=3)\n",
    "s.init_simus()\n",
    "s.run_simus()\n",
    "s.pickle_data('On_example')"
   ]
  },
  {
   "cell_type": "code",
   "execution_count": null,
   "metadata": {},
   "outputs": [],
   "source": [
    "with open('On_example.pickle', 'rb') as f:\n",
    "    s1 = pickle.load(f)\n",
    "plt.figure(figsize=(3.75, 3.1))\n",
    "s1.simus[0].plot_steady_state(c1='salmon', c2='cornflowerblue',alpha=0.3, \n",
    "                              lab=r'$k_{on} = 0.004  \\;\\frac{\\mu m}{s}$')\n",
    "s1.simus[1].plot_steady_state(c1='salmon', c2='cornflowerblue',alpha=0.6, \n",
    "                              lab=r'$k_{on} = 0.006 \\;\\frac{\\mu m}{s}$')\n",
    "s1.simus[2].plot_steady_state(c1='salmon', c2='cornflowerblue',alpha=1, \n",
    "                              lab=r'$k_{on} = 0.008 \\;\\frac{\\mu m}{s}$')\n",
    "# plt.gca().set_ylim([0, 2.2])\n",
    "# plt.xticks([], [])\n",
    "# plt.yticks([], [])\n",
    "# plt.gca().spines['bottom'].set_linewidth(1.5)\n",
    "# plt.gca().spines['left'].set_linewidth(1.5)\n",
    "# plt.title('Antagonism/Off rate')\n",
    "# plt.savefig('/Users/hubatsl/Dropbox (Lars DMS)/LRI/PAR_Size/Theory/On_example.pdf',\n",
    "#             transparent=True)\n",
    "\n",
    "# Thesis\n",
    "make_graph_pretty('x [$\\mu m$]','Concentration [a.u.]', loc=4,\n",
    "                  handlelength=0.75)\n",
    "# plt.title('On rate')\n",
    "plt.savefig('/Users/hubatsl/Desktop/interplay-cell-size/Theory/On_example.pdf',\n",
    "            transparent=True)\n",
    "\n",
    "plt.show()"
   ]
  },
  {
   "cell_type": "code",
   "execution_count": null,
   "metadata": {
    "scrolled": false
   },
   "outputs": [],
   "source": [
    "plt.figure(figsize=(3.75, 3.1))\n",
    "s1.simus[0].plot_steady_state(c1='salmon', c2='cornflowerblue',alpha=0.3, \n",
    "                              lab=r'$k_{on} = 0.004  \\;\\frac{\\mu m}{s}$', norm=True)\n",
    "s1.simus[1].plot_steady_state(c1='salmon', c2='cornflowerblue',alpha=0.6, \n",
    "                              lab=r'$k_{on} = 0.006 \\;\\frac{\\mu m}{s}$', norm=True)\n",
    "s1.simus[2].plot_steady_state(c1='salmon', c2='cornflowerblue',alpha=1, \n",
    "                              lab=r'$k_{on} = 0.008 \\;\\frac{\\mu m}{s}$', norm=True)# Thesis\n",
    "make_graph_pretty('x [$\\mu m$]','Concentration [a.u.]', loc=4,\n",
    "                  handlelength=0.75)\n",
    "# plt.title('On rate')\n",
    "plt.savefig('/Users/hubatsl/Desktop/interplay-cell-size/Theory/On_example_norm.pdf',\n",
    "            transparent=True)\n",
    "plt.show()"
   ]
  },
  {
   "cell_type": "markdown",
   "metadata": {},
   "source": [
    "#### Changing on rates and scaling antagonism"
   ]
  },
  {
   "cell_type": "code",
   "execution_count": null,
   "metadata": {
    "collapsed": true
   },
   "outputs": [],
   "source": [
    "symmetric = {'alpha': 2, 'beta': 2, 'dA': 0.1, 'dP': 0.1,\n",
    "             'kAP': 1, 'kPA': 1, 'koffA': 0.005, 'koffP': 0.005,\n",
    "             'konA': 0.006, 'konP': 0.006, 'Ptot': 1, 'ratio': 1.00,\n",
    "             'sys_size': 30}\n",
    "on_rates = np.array([0.004, 0.006, 0.008])\n",
    "ant_rates = (symmetric['konA']/on_rates)**2*symmetric['kAP']\n",
    "siz = [copy.deepcopy(symmetric) for _ in on_rates]\n",
    "for i, dic in enumerate(siz):\n",
    "    siz[i]['konA'] = on_rates[i]\n",
    "    siz[i]['konP'] = on_rates[i]\n",
    "    siz[i]['kAP'] = ant_rates[i]\n",
    "    siz[i]['kPA'] = ant_rates[i]\n",
    "s = Sim_Container(siz, no_workers=3)\n",
    "s.init_simus()\n",
    "s.run_simus()\n",
    "s.pickle_data('OnAnt_example')"
   ]
  },
  {
   "cell_type": "code",
   "execution_count": null,
   "metadata": {},
   "outputs": [],
   "source": [
    "with open('OnAnt_example.pickle', 'rb') as f:\n",
    "    s1 = pickle.load(f)\n",
    "plt.figure(figsize=(3.75, 3.1))\n",
    "s1.simus[0].plot_steady_state(c1='salmon', c2='cornflowerblue',alpha=0.3, \n",
    "                              lab=r'$k_{on} = 0.004  \\;\\frac{\\mu m}{s}$')\n",
    "s1.simus[1].plot_steady_state(c1='salmon', c2='cornflowerblue',alpha=0.6, \n",
    "                              lab=r'$k_{on} = 0.006 \\;\\frac{\\mu m}{s}$')\n",
    "s1.simus[2].plot_steady_state(c1='salmon', c2='cornflowerblue',alpha=1, \n",
    "                              lab=r'$k_{on} = 0.008 \\;\\frac{\\mu m}{s}$')\n",
    "# plt.gca().set_ylim([0, 2.2])\n",
    "# plt.xticks([], [])\n",
    "# plt.yticks([], [])\n",
    "# plt.gca().spines['bottom'].set_linewidth(1.5)\n",
    "# plt.gca().spines['left'].set_linewidth(1.5)\n",
    "# plt.title('Antagonism/Off rate')\n",
    "# plt.savefig('/Users/hubatsl/Dropbox (Lars DMS)/LRI/PAR_Size/Theory/On_example.pdf',\n",
    "#             transparent=True)\n",
    "\n",
    "# Thesis\n",
    "make_graph_pretty('x [$\\mu m$]','Concentration [a.u.]', loc=4,\n",
    "                  handlelength=0.75)\n",
    "# plt.title('On rate')\n",
    "plt.savefig('/Users/hubatsl/Desktop/interplay-cell-size/Theory/OnAnt_example.pdf',\n",
    "            transparent=True)\n",
    "\n",
    "plt.show()"
   ]
  },
  {
   "cell_type": "code",
   "execution_count": null,
   "metadata": {},
   "outputs": [],
   "source": [
    "plt.figure(figsize=(3.75, 3.1))\n",
    "s1.simus[0].plot_steady_state(c1='salmon', c2='cornflowerblue',alpha=0.3, \n",
    "                              lab=r'$k_{on} = 0.004  \\;\\frac{\\mu m}{s}$', norm=True)\n",
    "s1.simus[1].plot_steady_state(c1='salmon', c2='cornflowerblue',alpha=0.6, \n",
    "                              lab=r'$k_{on} = 0.006 \\;\\frac{\\mu m}{s}$', norm=True)\n",
    "s1.simus[2].plot_steady_state(c1='salmon', c2='cornflowerblue',alpha=1, \n",
    "                              lab=r'$k_{on} = 0.008 \\;\\frac{\\mu m}{s}$', norm=True)# Thesis\n",
    "# plt.xlim(-5, 5)\n",
    "make_graph_pretty('x [$\\mu m$]','Concentration [a.u.]', loc=4,\n",
    "                  handlelength=0.75)\n",
    "# plt.title('On rate')\n",
    "plt.savefig('/Users/hubatsl/Desktop/interplay-cell-size/Theory/OnAnt_example_norm.pdf',\n",
    "            transparent=True)\n",
    "plt.show()"
   ]
  },
  {
   "cell_type": "markdown",
   "metadata": {},
   "source": [
    "#### Wave pinning profiles for different Ds"
   ]
  },
  {
   "cell_type": "code",
   "execution_count": null,
   "metadata": {},
   "outputs": [],
   "source": [
    "profs = pd.read_csv('/Users/hubatsl/Desktop/interplay-cell-size/Theory/ints_wp.csv', index_col=False, header=None)\n",
    "plt.figure(figsize=(3.75, 3.1))\n",
    "plt.plot(np.linspace(0, 40, 500), profs.transpose()[0], label=r'0.01 $\\frac{\\mu m^2}{s}$', color = 'cornflowerblue',alpha=1)\n",
    "plt.plot(np.linspace(0, 40, 500), profs.transpose()[4], label=r'0.52 $\\frac{\\mu m^2}{s}$', color = 'cornflowerblue',alpha=0.6)\n",
    "plt.plot(np.linspace(0, 40, 500), profs.transpose()[6], label=r'3.73 $\\frac{\\mu m^2}{s}$', color = 'cornflowerblue',alpha=0.3)\n",
    "make_graph_pretty('x [$\\mu m$]','Concentration [a.u.]', loc=4)\n",
    "# plt.title('Diffusion in Wave Pinning')\n",
    "plt.savefig('/Users/hubatsl/Desktop/interplay-cell-size/Theory/Diffusion_example_WP.pdf',\n",
    "            transparent=True)\n",
    "plt.savefig('/Users/hubatsl/Dropbox (Lars DMS)/LRI/PAR_Size/Theory/Diffusion_example_WP.pdf',\n",
    "            transparent=True)\n",
    "plt.show()"
   ]
  },
  {
   "cell_type": "markdown",
   "metadata": {},
   "source": [
    "#### Otsuji profiles for different Ds"
   ]
  },
  {
   "cell_type": "code",
   "execution_count": null,
   "metadata": {},
   "outputs": [],
   "source": [
    "profs = pd.read_csv('/Users/hubatsch/Desktop/PARmodelling/MatlabDet/ActivatorInhibitor/ints_otsuji_off.csv', index_col=False, header=None)\n",
    "# mpl.rcParams['font.family'] = 'serif'\n",
    "# mpl.rcParams['font.serif'] = ['Palatino']\n",
    "\n",
    "plt.figure(figsize=(3.75, 3.1))\n",
    "plt.plot(np.linspace(0, 10, 200), profs[0], label=r'0.1 $\\frac{\\mu m^2}{s}$', color = 'cornflowerblue',alpha=1, lw=2)\n",
    "plt.plot(np.linspace(0, 10, 200), profs[1], label=r'0.9 $\\frac{\\mu m^2}{s}$', color = 'cornflowerblue',alpha=0.6, lw=2)\n",
    "plt.plot(np.linspace(0, 10, 200), profs[2], label=r'3.6 $\\frac{\\mu m^2}{s}$', color = 'cornflowerblue',alpha=0.3, lw=2)\n",
    "make_graph_pretty('x [$\\mu m$]','Concentration [a.u.]', loc=4)\n",
    "# plt.title('Diffusion in Wave Pinning')\n",
    "# plt.savefig('/Users/hubatsl/Desktop/interplay-cell-size/Theory/Diffusion_example_WP.pdf',\n",
    "#             transparent=True)\n",
    "plt.savefig('/Users/hubatsch/Dropbox (Lars DMS)/LRI/PAR_Size/PAR_Size_MS_Data/Data_Figure2Supp/Diffusion_ex_Otsuji.pdf',\n",
    "            transparent=True)\n",
    "plt.show()"
   ]
  },
  {
   "cell_type": "markdown",
   "metadata": {},
   "source": [
    "#### Wave pinning for different off rates, all rates are scaled in order to keep patterning the same except for D."
   ]
  },
  {
   "cell_type": "code",
   "execution_count": null,
   "metadata": {},
   "outputs": [],
   "source": [
    "profs = pd.read_csv('/Users/hubatsl/Desktop/interplay-cell-size/Theory/ints_wp_off.csv', index_col=False, header=None)\n",
    "plt.figure(figsize=(3.75, 3.1))\n",
    "plt.plot(np.linspace(0, 40, 500), profs.transpose()[10], label=r'0.33 [1/s]', color = 'cornflowerblue',alpha=0.3)\n",
    "plt.plot(np.linspace(0, 40, 500), profs.transpose()[15], label=r'1.92 [1/s]', color = 'cornflowerblue',alpha=0.6)\n",
    "plt.plot(np.linspace(0, 40, 500), profs.transpose()[23], label=r'31.62 [1/s]', color = 'cornflowerblue',alpha=1)\n",
    "make_graph_pretty('x [$\\mu m$]','Concentration [a.u.]', loc=4)\n",
    "# plt.title('Off rate in Wave Pinning')\n",
    "plt.savefig('/Users/hubatsl/Desktop/interplay-cell-size/Theory/Off_example_WP.pdf',\n",
    "            transparent=True)\n",
    "plt.savefig('/Users/hubatsl/Dropbox (Lars DMS)/LRI/PAR_Size/Theory/Off_example_WP.pdf',\n",
    "            transparent=True)\n",
    "plt.show()"
   ]
  },
  {
   "cell_type": "markdown",
   "metadata": {},
   "source": [
    "#### Different sizes, same plot\n",
    "**Very important to keep S/V (psi) in all the simulations the same, which is not default behavior in ParDetAsymm**"
   ]
  },
  {
   "cell_type": "code",
   "execution_count": null,
   "metadata": {
    "collapsed": true
   },
   "outputs": [],
   "source": [
    "from ParDetAsymm import ParSim, Sim_Container, s_to_v\n",
    "symmetric = {'alpha': 2, 'beta': 2, 'dA': 0.1, 'dP': 0.1,\n",
    "             'kAP': 1, 'kPA': 1, 'koffA': 0.005, 'koffP': 0.005,\n",
    "             'konA': 0.006, 'konP': 0.006, 'Ptot': 1, 'ratio': 1.00,\n",
    "             'sys_size': 30}\n",
    "sizes = np.array([7.5, 15, 30, 60, 120])\n",
    "sizes = np.array([50, 100, 200])\n",
    "siz = [copy.deepcopy(symmetric) for _ in sizes]\n",
    "for i, dic in enumerate(siz):\n",
    "    siz[i]['sys_size'] = sizes[i]\n",
    "s = Sim_Container(siz, no_workers=3)\n",
    "s.init_simus()\n",
    "s.run_simus()\n",
    "s.pickle_data('Size_example')"
   ]
  },
  {
   "cell_type": "code",
   "execution_count": null,
   "metadata": {
    "scrolled": true
   },
   "outputs": [],
   "source": [
    "with open('Size_example.pickle', 'rb') as f:\n",
    "    s1 = pickle.load(f)\n",
    "plt.figure(figsize=(3.75, 3.1))\n",
    "s1.simus[0].plot_steady_state(c1='salmon', c2='cornflowerblue',alpha=1, \n",
    "                              lab=r'$L = 7.5  \\;\\mu m$', printLast=True)\n",
    "s1.simus[1].plot_steady_state(c1='salmon', c2='cornflowerblue',alpha=1, \n",
    "                              lab=r'$L = 15  \\;\\mu m$', printLast=True)\n",
    "s1.simus[2].plot_steady_state(c1='salmon', c2='cornflowerblue',alpha=0.8, \n",
    "                              lab=r'$L = 30\\;\\mu m$', printLast=True)\n",
    "s1.simus[3].plot_steady_state(c1='salmon', c2='cornflowerblue',alpha=0.6, \n",
    "                              lab=r'$L = 60 \\;\\mu m$', printLast=True)\n",
    "s1.simus[4].plot_steady_state(c1='salmon', c2='cornflowerblue',alpha=0.4, \n",
    "                              lab=r'$L = 120 \\;\\mu m$', printLast=True)\n",
    "\n",
    "# Thesis\n",
    "make_graph_pretty('x [$\\mu m$]','Concentration [a.u.]', loc=4,\n",
    "                  handlelength=0.75)\n",
    "# plt.savefig('/Users/hubatsl/Desktop/interplay-cell-size/Theory/Size_example.pdf',\n",
    "#             transparent=True)\n",
    "\n",
    "plt.show()"
   ]
  },
  {
   "cell_type": "code",
   "execution_count": null,
   "metadata": {},
   "outputs": [],
   "source": [
    "with open('Size_example.pickle', 'rb') as f:\n",
    "    s1 = pickle.load(f)\n",
    "plt.figure(figsize=(3.75, 2.1))\n",
    "s1.simus[0].plot_steady_state(c1='salmon', c2='cornflowerblue',alpha=0.8, \n",
    "                              lab=r'$L = 50\\;\\mu m$', printLast=True)\n",
    "s1.simus[1].plot_steady_state(c1='salmon', c2='cornflowerblue',alpha=0.6, \n",
    "                              lab=r'$L = 100 \\;\\mu m$', printLast=True)\n",
    "s1.simus[2].plot_steady_state(c1='salmon', c2='cornflowerblue',alpha=0.4, \n",
    "                              lab=r'$L = 200 \\;\\mu m$', printLast=True)\n",
    "\n",
    "# Paper\n",
    "make_graph_pretty('x [$\\mu m$]','Concentration [a.u.]', loc=4,\n",
    "                  handlelength=0.75)\n",
    "plt.savefig('/Users/lhcge/Dropbox (Lars DMS)/LRI/PAR_Size/PAR_Size_MS_Data/Data_Figure2_Theory1/Size_example_small.pdf',\n",
    "            transparent=True)\n",
    "\n",
    "plt.show()"
   ]
  },
  {
   "cell_type": "code",
   "execution_count": null,
   "metadata": {},
   "outputs": [],
   "source": [
    "with open('Size_example.pickle', 'rb') as f:\n",
    "    s1 = pickle.load(f)\n",
    "plt.figure(figsize=(3.75, 3.1))\n",
    "s1.simus[1].plot_steady_state(c1='salmon', c2='royalblue',alpha=1, \n",
    "                              lab=r'$L = 15  \\;\\mu m$', linestyle='-', lw=5, printLast=True)\n",
    "s1.simus[3].plot_steady_state(c1='salmon', c2='cornflowerblue',alpha=1, \n",
    "                              lab=r'$L = 60 \\;\\mu m$', linestyle='-',lw=4, printLast=True)\n",
    "s1.simus[4].plot_steady_state(c1='salmon', c2='cornflowerblue',alpha=1, \n",
    "                              lab=r'$L = 120 \\;\\mu m$', linestyle='-', lw=2, printLast=True)\n",
    "\n",
    "# Thesis\n",
    "make_graph_pretty('x [$\\mu m$]','C [a.u.]', loc=4,\n",
    "                  handlelength=0.75)\n",
    "# plt.savefig('/Users/lhcge/Dropbox (Lars DMS)/LRI/PAR_Size/PAR_Size_MS_Data/Data_Figure2_Theory1/Size_exampleBig.pdf',\n",
    "#             transparent=True)\n",
    "\n",
    "plt.show()"
   ]
  },
  {
   "cell_type": "markdown",
   "metadata": {},
   "source": [
    "To get prettier breakdown, also turn off check for steady state in ParDetAsymm, in order to not stop simulating once concentrations in the posterior or anterior are equal, but to go for the full time course"
   ]
  },
  {
   "cell_type": "code",
   "execution_count": null,
   "metadata": {
    "collapsed": true
   },
   "outputs": [],
   "source": [
    "symmetric = {'alpha': 2, 'beta': 2, 'dA': 0.1, 'dP': 0.1,\n",
    "             'kAP': 1, 'kPA': 1, 'koffA': 0.005, 'koffP': 0.005,\n",
    "             'konA': 0.006, 'konP': 0.006, 'Ptot': 1, 'ratio': 1.01,\n",
    "             'sys_size': 30}\n",
    "sizes = np.array([7.5, 15, 30, 60, 120])\n",
    "siz = [copy.deepcopy(symmetric) for _ in sizes]\n",
    "for i, dic in enumerate(siz):\n",
    "    siz[i]['sys_size'] = sizes[i]\n",
    "s = Sim_Container(siz, no_workers=3)\n",
    "s.init_simus()\n",
    "s.run_simus()\n",
    "s.pickle_data('SizeRatio1_01_example')"
   ]
  },
  {
   "cell_type": "code",
   "execution_count": null,
   "metadata": {},
   "outputs": [],
   "source": [
    "with open('SizeRatio1_01_example.pickle', 'rb') as f:\n",
    "    s1 = pickle.load(f)\n",
    "plt.figure(figsize=(3.75, 3.1))\n",
    "s1.simus[0].plot_steady_state(c1='salmon', c2='cornflowerblue',alpha=1, \n",
    "                              lab=r'$L = 7.5  \\;\\mu m$')\n",
    "s1.simus[1].plot_steady_state(c1='salmon', c2='cornflowerblue',alpha=1, \n",
    "                              lab=r'$L = 15  \\;\\mu m$')\n",
    "s1.simus[2].plot_steady_state(c1='salmon', c2='cornflowerblue',alpha=0.8, \n",
    "                              lab=r'$L = 30\\;\\mu m$')\n",
    "s1.simus[3].plot_steady_state(c1='salmon', c2='cornflowerblue',alpha=0.6, \n",
    "                              lab=r'$L = 60 \\;\\mu m$')\n",
    "# s1.simus[4].plot_steady_state(c1='salmon', c2='cornflowerblue',alpha=0.4, \n",
    "#                               lab=r'$L = 120 \\;\\mu m$')\n",
    "\n",
    "# Thesis\n",
    "make_graph_pretty('x [$\\mu m$]','Concentration [a.u.]', loc=4,\n",
    "                  handlelength=0.75)\n",
    "# plt.title('On rate')\n",
    "# plt.savefig('/Users/hubatsl/Desktop/interplay-cell-size/Theory/SizeRatio1_01_example.pdf',\n",
    "#             transparent=True)\n",
    "\n",
    "plt.show()"
   ]
  },
  {
   "cell_type": "code",
   "execution_count": null,
   "metadata": {
    "collapsed": true
   },
   "outputs": [],
   "source": [
    "with open('/Volumes/Transcend/PARmodellingData/pickled_FindA051217/ratio_0.989697265625size_39.4936708861.pickle', 'rb') as f:\n",
    "    s1 = pickle.load(f)\n",
    "with open('/Volumes/Transcend/PARmodellingData/pickled_FindA051217/ratio_0.9832031250000001size_39.4936708861.pickle', 'rb') as f:\n",
    "    s2 = pickle.load(f)\n",
    "with open('/Volumes/Transcend/PARmodellingData/pickled_FindA051217/ratio_0.9609375size_39.4936708861.pickle', 'rb') as f:\n",
    "    s3 = pickle.load(f)\n",
    "with open('/Volumes/Transcend/PARmodellingData/pickled_FindA051217/ratio_0.93125size_39.4936708861.pickle', 'rb') as f:\n",
    "    s4 = pickle.load(f)"
   ]
  },
  {
   "cell_type": "code",
   "execution_count": null,
   "metadata": {},
   "outputs": [],
   "source": [
    "plt.figure(figsize=(3.75, 3.1))\n",
    "s1.plot_steady_state(c1='salmon', c2='cornflowerblue',alpha=1, \n",
    "                              lab=r'$r = 0.99$')\n",
    "s2.plot_steady_state(c1='salmon', c2='cornflowerblue',alpha=0.8, \n",
    "                              lab=r'$r = 0.98$')\n",
    "s3.plot_steady_state(c1='salmon', c2='cornflowerblue',alpha=0.6, \n",
    "                              lab=r'$r = 0.96$')\n",
    "s4.plot_steady_state(c1='salmon', c2='cornflowerblue',alpha=0.4, \n",
    "                              lab=r'$r = 0.93$')\n",
    "make_graph_pretty('x [$\\mu m$]','Concentration [a.u.]', loc=0,\n",
    "                  handlelength=0.75)\n",
    "plt.savefig('/Users/hubatsl/Desktop/interplay-cell-size/Theory/A_Pratio_example.pdf',\n",
    "            transparent=True)\n",
    "plt.show()"
   ]
  },
  {
   "cell_type": "markdown",
   "metadata": {},
   "source": [
    "### Movie for viva presentation"
   ]
  },
  {
   "cell_type": "code",
   "execution_count": null,
   "metadata": {
    "collapsed": true
   },
   "outputs": [],
   "source": [
    "# Only P \n",
    "wt = {'alpha': 1, 'beta': 2, 'dA': 0.23, 'dP': 0.26/10,\n",
    "          'kAP': 0, 'kPA': 0, 'koffA': 0.0047,\n",
    "          'koffP': 0.0, 'konA': 0.00858/3, 'konP': 0.0,\n",
    "          'Ptot': 1, 'ratio': 1.56, 'sys_size': 134.6/2/np.sqrt(10)}\n",
    "# # Both species\n",
    "# wt = {'alpha': 2, 'beta': 2, 'dA': 2.6, 'dP': 2.6,\n",
    "#           'kAP': 1, 'kPA': 1, 'koffA': 0.0047,\n",
    "#           'koffP': 0.0047, 'konA': 0.00858, 'konP': 0.00858,\n",
    "#           'Ptot': 1, 'ratio': 0.8, 'sys_size': 134.6/2}\n",
    "# # Breakdown\n",
    "wt = {'alpha': 2, 'beta': 2, 'dA': 4.6, 'dP': 4.6,\n",
    "          'kAP': 1, 'kPA': 1, 'koffA': 0.0047,\n",
    "          'koffP': 0.0047, 'konA': 0.00858, 'konP': 0.00858,\n",
    "          'Ptot': 1, 'ratio': 0.8, 'sys_size': 134.6/2}\n",
    "\n",
    "s_wt = ParSim(param_dict=wt, T=500, grid_size=200, store_interval=1)\n",
    "s_wt.simulate()"
   ]
  },
  {
   "cell_type": "code",
   "execution_count": null,
   "metadata": {},
   "outputs": [],
   "source": [
    "s_wt.plot_steady_state()\n",
    "plt.show()"
   ]
  },
  {
   "cell_type": "code",
   "execution_count": null,
   "metadata": {},
   "outputs": [],
   "source": [
    "s_wt.save_movie(fname='breakdown')"
   ]
  },
  {
   "cell_type": "markdown",
   "metadata": {},
   "source": [
    "### Movie for paper"
   ]
  },
  {
   "cell_type": "code",
   "execution_count": null,
   "metadata": {},
   "outputs": [],
   "source": [
    "symmetric = {'alpha': 2, 'beta': 2, 'dA': 0.1, 'dP': 0.1,\n",
    "             'kAP': 1, 'kPA': 1, 'koffA': 0.005, 'koffP': 0.005,\n",
    "             'konA': 0.006, 'konP': 0.006, 'Ptot': 1, 'ratio': 0.98,\n",
    "             'sys_size': 30}\n",
    "n = 2\n",
    "sizes = [7, 14]\n",
    "siz = [copy.deepcopy(symmetric) for _ in sizes]\n",
    "for i, dic in enumerate(siz):\n",
    "    siz[i]['sys_size'] = sizes[i]\n",
    "s1 = Sim_Container(siz, no_workers=8)\n",
    "s1.init_simus()\n",
    "s1.run_simus()"
   ]
  },
  {
   "cell_type": "code",
   "execution_count": null,
   "metadata": {},
   "outputs": [],
   "source": [
    "s1.simus[0].save_movie(everynth=5)"
   ]
  },
  {
   "cell_type": "code",
   "execution_count": null,
   "metadata": {},
   "outputs": [],
   "source": [
    "s1.simus[1].save_indiv_frames(everynth=1)"
   ]
  },
  {
   "cell_type": "code",
   "execution_count": null,
   "metadata": {},
   "outputs": [],
   "source": [
    "A->M, p->c"
   ]
  },
  {
   "cell_type": "markdown",
   "metadata": {},
   "source": [
    "## Python Wave Pinning"
   ]
  },
  {
   "cell_type": "code",
   "execution_count": null,
   "metadata": {},
   "outputs": [],
   "source": [
    "ratio_above = 1.4\n",
    "ratio_below = 0.9\n",
    "ratio = 1.1\n",
    "difference = 1\n",
    "while difference > 0.01:\n",
    "    s = ParSim(mechanism='WP', T=500, param_dict={'ratio': ratio,'sys_size': 134.6/2})\n",
    "    s.simulate()\n",
    "    if (np.max(s.A[:, -1])-np.min(s.A[:, -1]))/np.max(s.A[:-1]) > 0.1: # System polarized\n",
    "        ratio_below = ratio\n",
    "        ratio = (ratio_above - ratio)/2 + ratio\n",
    "    else:\n",
    "        ratio_above = ratio\n",
    "        ratio = ratio - (ratio-ratio_below)/2\n",
    "    difference = abs(ratio_old - ratio)\n",
    "    print(ratio)\n",
    "            "
   ]
  },
  {
   "cell_type": "code",
   "execution_count": 513,
   "metadata": {},
   "outputs": [],
   "source": [
    "from multiprocessing import Pool\n",
    "from ParDetAsymm import ParSim, sim_indiv\n",
    "sizes = np.linspace(20, 40, 8)\n",
    "\n",
    "def find_outline(location, ratio, ratio_above, ratio_below, sizes, T, thresh):\n",
    "    difference = np.ones(len(sizes))\n",
    "#     while (difference > thresh).all():\n",
    "    simList = [ParSim(mechanism='WP', T=T, param_dict={'ratio': ratio,'sys_size': s}) for s in sizes]\n",
    "    for sim in simList:\n",
    "        sim.set_init_profile_wave_pin()\n",
    "    pool = Pool(processes=8)\n",
    "    res = pool.map(sim_indiv, simList)\n",
    "    pool.close()\n",
    "    pool.join()\n",
    "#         ratio_old = ratio\n",
    "#         for i, s in enumerate(res):\n",
    "#             if (location is 'above') & (np.max(s.A[:, -1])-np.min(s.A[:, -1]))/np.max(s.A[:-1] > 0.1):\n",
    "#                 ratio_below[i] = ratio[i]\n",
    "#                 ratio[i] = (ratio_above[i] - ratio[i])/2 + ratio[i]\n",
    "#             elif location is 'above':\n",
    "#                 ratio_above[i] = ratio[i]\n",
    "#                 ratio[i] = ratio[i] - (ratio[i]-ratio_below[i])/2\n",
    "#             elif (location is 'below') & (np.max(s.A[:, -1])-np.min(s.A[:, -1]))/np.max(s.A[:-1] > 0.1):\n",
    "#                 ratio_above[i] = ratio[i]\n",
    "#                 ratio[i] = ratio[i] - (ratio[i]-ratio_below[i])/2\n",
    "#             elif location is 'below':\n",
    "#                 ratio_below[i] = ratio[i]\n",
    "#                 ratio[i] = (ratio_above[i] - ratio[i])/2 + ratio[i]\n",
    "#             difference[i] = abs(ratio_old[i] - ratio[i])\n",
    "#         print(ratio)\n",
    "#     return ratio_above, ratio_below"
   ]
  },
  {
   "cell_type": "code",
   "execution_count": 458,
   "metadata": {},
   "outputs": [],
   "source": [
    "s = ParSim(mechanism='WP', T=500, param_dict={'ratio': 1.1375,'sys_size': 134.6/2})\n",
    "s.simulate()\n"
   ]
  },
  {
   "cell_type": "code",
   "execution_count": null,
   "metadata": {},
   "outputs": [],
   "source": [
    "i = 6\n",
    "plt.plot(s.A[:, :])\n",
    "# plt.plot(s.P[:, i])\n",
    "plt.legend(['A'])\n",
    "print(s.total-sum(s.A[:, -1]))\n",
    "# plt.figure()\n",
    "# plt.plot(s.P[:, :5])\n",
    "# # plt.plot(s.P[:, i])\n",
    "# plt.legend(['P'])"
   ]
  },
  {
   "cell_type": "code",
   "execution_count": null,
   "metadata": {},
   "outputs": [],
   "source": []
  }
 ],
 "metadata": {
  "anaconda-cloud": {},
  "kernelspec": {
   "display_name": "Python 3",
   "language": "python",
   "name": "python3"
  },
  "language_info": {
   "codemirror_mode": {
    "name": "ipython",
    "version": 3
   },
   "file_extension": ".py",
   "mimetype": "text/x-python",
   "name": "python",
   "nbconvert_exporter": "python",
   "pygments_lexer": "ipython3",
   "version": "3.6.6"
  }
 },
 "nbformat": 4,
 "nbformat_minor": 2
}
