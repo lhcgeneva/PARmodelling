{
 "cells": [
  {
   "cell_type": "code",
   "execution_count": null,
   "metadata": {},
   "outputs": [],
   "source": [
    "import bisect\n",
    "import copy\n",
    "import glob\n",
    "import numpy as np\n",
    "import matplotlib.pyplot as plt\n",
    "import os\n",
    "import pandas as pd\n",
    "import pickle\n",
    "from scipy import optimize\n",
    "import sys\n",
    "import time\n",
    "# Profiling\n",
    "import cProfile\n",
    "import re\n",
    "sys.path.append(os.path.abspath('../')+'/PythonDet/')\n",
    "from ParDetAsymm import ParSim, Sim_Container, s_to_v"
   ]
  },
  {
   "cell_type": "code",
   "execution_count": null,
   "metadata": {},
   "outputs": [],
   "source": [
    "# dummy dict\n",
    "symmetric = {'alpha': 2, 'beta': 2, 'dA': 0.0, 'dP': 1.1,\n",
    "             'kAP': 1, 'kPA': 1, 'koffA': 0.005, 'koffP': 0.005,\n",
    "             'konA': 0.006, 'konP': 0.006, 'Ptot': 1, 'ratio': 1.0,\n",
    "             'sys_size': 10}\n",
    "p = ParSim(param_dict=symmetric)\n",
    "p.T = 200\n",
    "p.grid_size = 100\n",
    "p.store_interval = 2"
   ]
  },
  {
   "cell_type": "code",
   "execution_count": null,
   "metadata": {},
   "outputs": [],
   "source": [
    "p.set_init_profile_wave_pin()"
   ]
  },
  {
   "cell_type": "code",
   "execution_count": null,
   "metadata": {},
   "outputs": [],
   "source": [
    "plt.plot(p.A[:, [1, 5, 10, 15, 20, 25]])\n",
    "# plt.ylim(0.2, 0.26)\n",
    "plt.show()\n",
    "plt.plot(p.P[:, [1, 5, 10, 15, 20, 25]])\n",
    "plt.show()\n",
    "plt.plot(p.stim)\n",
    "plt.show()"
   ]
  },
  {
   "cell_type": "code",
   "execution_count": null,
   "metadata": {},
   "outputs": [],
   "source": [
    "t0 = time.time()\n",
    "p.simulate()\n",
    "print(time.time() - t0)"
   ]
  },
  {
   "cell_type": "code",
   "execution_count": null,
   "metadata": {},
   "outputs": [],
   "source": [
    "p.dx"
   ]
  },
  {
   "cell_type": "code",
   "execution_count": null,
   "metadata": {},
   "outputs": [],
   "source": [
    "p.sys_size=10\n",
    "p.save_movie(everynth=1)"
   ]
  },
  {
   "cell_type": "code",
   "execution_count": null,
   "metadata": {},
   "outputs": [],
   "source": [
    "# dummy dict\n",
    "symmetric = {'alpha': 2, 'beta': 2, 'dA': 0.0, 'dP': 1.1,\n",
    "             'kAP': 1, 'kPA': 1, 'koffA': 0.005, 'koffP': 0.005,\n",
    "             'konA': 0.006, 'konP': 0.006, 'Ptot': 1, 'ratio': 1.0,\n",
    "             'sys_size': 10}\n",
    "p = ParSim(param_dict=symmetric)\n",
    "p.T = 200\n",
    "p.grid_size = 100\n",
    "p.store_interval = 2\n",
    "p.set_init_profile_wave_pin()\n",
    "plt.plot(p.A)\n",
    "plt.show()\n",
    "t0 = time.time()\n",
    "p.simulate()\n",
    "print(time.time() - t0)\n",
    "plt.plot(p.A)\n",
    "plt.show()"
   ]
  },
  {
   "cell_type": "code",
   "execution_count": null,
   "metadata": {},
   "outputs": [],
   "source": []
  }
 ],
 "metadata": {
  "kernelspec": {
   "display_name": "Python 3",
   "language": "python",
   "name": "python3"
  },
  "language_info": {
   "codemirror_mode": {
    "name": "ipython",
    "version": 3
   },
   "file_extension": ".py",
   "mimetype": "text/x-python",
   "name": "python",
   "nbconvert_exporter": "python",
   "pygments_lexer": "ipython3",
   "version": "3.5.4"
  }
 },
 "nbformat": 4,
 "nbformat_minor": 2
}
