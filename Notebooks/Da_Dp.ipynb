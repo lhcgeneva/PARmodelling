{
 "cells": [
  {
   "cell_type": "markdown",
   "metadata": {},
   "source": [
    "# Simulate PAR-network via deterministic PDE system"
   ]
  },
  {
   "cell_type": "code",
   "execution_count": null,
   "metadata": {
    "collapsed": true
   },
   "outputs": [],
   "source": [
    "import bisect\n",
    "import copy\n",
    "import glob\n",
    "import numpy as np\n",
    "import matplotlib.pyplot as plt\n",
    "import os\n",
    "import pandas as pd\n",
    "import pickle\n",
    "from scipy import optimize\n",
    "import sys\n",
    "import time\n",
    "# Profiling\n",
    "import cProfile\n",
    "import re\n",
    "sys.path.append(os.path.abspath('../')+'/PythonDet/')\n",
    "from ParDetAsymm import ParSim, Sim_Container, s_to_v\n",
    "import ParDetAsymm"
   ]
  },
  {
   "cell_type": "code",
   "execution_count": null,
   "metadata": {
    "collapsed": true,
    "scrolled": true
   },
   "outputs": [],
   "source": [
    "dA_polarized_fixTend_NateThresh_long2m = []\n",
    "dP_polarized_fixTend_NateThresh_long2m = []\n",
    "dA_unpolarized_fixTend_NateThresh_long2m = []\n",
    "dP_unpolarized_fixTend_NateThresh_long2m = []\n",
    "i = 0\n",
    "for file in glob.glob(\"/Volumes/lab-goehringn/working/Lars/NateThresh/long/long*.pickle\"):\n",
    "#     print(file)\n",
    "    i += 1\n",
    "    print('Reading file ' + str(i))\n",
    "    with open(file, 'rb') as f:\n",
    "        p = pickle.load(f)\n",
    "    if (p.finished_in_time == 1):\n",
    "        dA_unpolarized_fixTend_NateThresh_long2m.append(p.dA)\n",
    "        dP_unpolarized_fixTend_NateThresh_long2m.append(p.dP)\n",
    "    elif (p.finished_in_time == 2):\n",
    "        dA_polarized_fixTend_NateThresh_long2m.append(p.dA)\n",
    "        dP_polarized_fixTend_NateThresh_long2m.append(p.dP)"
   ]
  },
  {
   "cell_type": "code",
   "execution_count": null,
   "metadata": {},
   "outputs": [],
   "source": [
    "fig=plt.figure(figsize=(8, 7), dpi= 80, facecolor='w', edgecolor='k')\n",
    "plt.plot(dA_polarized_fixTend_NateThresh_long2m, dP_polarized_fixTend_NateThresh_long2m,'.')\n",
    "plt.plot(dA_unpolarized_fixTend_NateThresh_long2m, dP_unpolarized_fixTend_NateThresh_long2m,'.')\n",
    "plt.plot(dA_polarized_fixTend_NateThresh_long50, dP_polarized_fixTend_NateThresh_long50,'.')\n",
    "plt.plot(dA_unpolarized_fixTend_NateThresh_long50, dP_unpolarized_fixTend_NateThresh_long50,'.')\n",
    "plt.show()"
   ]
  },
  {
   "cell_type": "code",
   "execution_count": null,
   "metadata": {
    "collapsed": true
   },
   "outputs": [],
   "source": [
    "dA_polarized_fixTend_NateThresh_long50 = []\n",
    "dP_polarized_fixTend_NateThresh_long50 = []\n",
    "dA_unpolarized_fixTend_NateThresh_long50 = []\n",
    "dP_unpolarized_fixTend_NateThresh_long50 = []\n",
    "for file in glob.glob(\"/Volumes/lab-goehringn/working/Lars/NateThresh/50k/*.pickle\"):\n",
    "#     print(file)\n",
    "    with open(file, 'rb') as f:\n",
    "        p = pickle.load(f)\n",
    "    if (p.finished_in_time == 1):\n",
    "        dA_unpolarized_fixTend_NateThresh_long50.append(p.dA)\n",
    "        dP_unpolarized_fixTend_NateThresh_long50.append(p.dP)\n",
    "    elif (p.finished_in_time == 2):\n",
    "        dA_polarized_fixTend_NateThresh_long50.append(p.dA)\n",
    "        dP_polarized_fixTend_NateThresh_long50.append(p.dP)"
   ]
  },
  {
   "cell_type": "code",
   "execution_count": null,
   "metadata": {},
   "outputs": [],
   "source": [
    "fig=plt.figure(figsize=(8, 7), dpi= 80, facecolor='w', edgecolor='k')\n",
    "plt.plot(dA_polarized_fixTend_NateThresh_long50, dP_polarized_fixTend_NateThresh_long50,'.')\n",
    "plt.plot(dA_unpolarized_fixTend_NateThresh_long50, dP_unpolarized_fixTend_NateThresh_long50,'.')\n",
    "plt.show()"
   ]
  },
  {
   "cell_type": "code",
   "execution_count": null,
   "metadata": {
    "collapsed": true
   },
   "outputs": [],
   "source": [
    "dA_polarized_fixTend_NateThresh_long = []\n",
    "dP_polarized_fixTend_NateThresh_long = []\n",
    "dA_unpolarized_fixTend_NateThresh_long = []\n",
    "dP_unpolarized_fixTend_NateThresh_long = []\n",
    "for file in glob.glob(\"/Volumes/lab-goehringn/working/Lars/NateThresh/200k/long*.pickle\"):\n",
    "#     print(file)\n",
    "    with open(file, 'rb') as f:\n",
    "        p = pickle.load(f)\n",
    "    if (p.finished_in_time == 1):\n",
    "        dA_unpolarized_fixTend_NateThresh_long.append(p.dA)\n",
    "        dP_unpolarized_fixTend_NateThresh_long.append(p.dP)\n",
    "    elif (p.finished_in_time == 2):\n",
    "        dA_polarized_fixTend_NateThresh_long.append(p.dA)\n",
    "        dP_polarized_fixTend_NateThresh_long.append(p.dP)"
   ]
  },
  {
   "cell_type": "code",
   "execution_count": null,
   "metadata": {},
   "outputs": [],
   "source": [
    "fig=plt.figure(figsize=(8, 7), dpi= 80, facecolor='w', edgecolor='k')\n",
    "# plt.plot(dA_polarized_fixTend_NateThresh_long50, dP_polarized_fixTend_NateThresh_long50,'g.')\n",
    "plt.plot(dA_unpolarized_fixTend_NateThresh_long50, dP_unpolarized_fixTend_NateThresh_long50,'g.')\n",
    "plt.plot(dA_polarized_fixTend_NateThresh_long, dP_polarized_fixTend_NateThresh_long,'r.')\n",
    "# plt.plot(dA_unpolarized_fixTend_NateThresh_long, dP_unpolarized_fixTend_NateThresh_long,'r.')\n",
    "plt.show()"
   ]
  },
  {
   "cell_type": "code",
   "execution_count": null,
   "metadata": {},
   "outputs": [],
   "source": [
    "fig=plt.figure(figsize=(8, 7), dpi= 80, facecolor='w', edgecolor='k')\n",
    "df = pd.DataFrame({'dA': dA_unpolarized_fixTend_NateThresh_long, 'dP': dP_unpolarized_fixTend_NateThresh_long})\n",
    "df50 = pd.DataFrame({'dA': dA_unpolarized_fixTend_NateThresh_long50, 'dP': dP_unpolarized_fixTend_NateThresh_long50})\n",
    "df2m = pd.DataFrame({'dA': dA_unpolarized_fixTend_NateThresh_long2m, 'dP': dP_unpolarized_fixTend_NateThresh_long2m})\n",
    "plt.plot(df.groupby('dP').min(), 'r')\n",
    "plt.plot(df50.groupby('dP').min(), 'm')\n",
    "plt.plot(df2m.groupby('dP').min(), 'g')\n",
    "plt.axis('equal'); plt.xlim(0, 2); plt.ylim(0, 2);\n",
    "plt.show()"
   ]
  },
  {
   "cell_type": "code",
   "execution_count": null,
   "metadata": {
    "collapsed": true
   },
   "outputs": [],
   "source": [
    "file = '/Volumes/lab-goehringn/working/Lars/NateThresh/long/long_P_0.0217391304348_dA_1.578125.pickle'\n",
    "with open(file, 'rb') as f:\n",
    "    a = pickle.load(f)"
   ]
  },
  {
   "cell_type": "code",
   "execution_count": null,
   "metadata": {},
   "outputs": [],
   "source": [
    "plt.plot(a.A)\n",
    "plt.show()\n",
    "a.finished_in_time\n",
    "a.A[:, -2]/a.A[:, -3]\n",
    "# len(a.A[1, :])\n",
    "# a.t[-1]"
   ]
  },
  {
   "cell_type": "code",
   "execution_count": null,
   "metadata": {
    "collapsed": true
   },
   "outputs": [],
   "source": [
    "dA_polarized_fixTend_NateThresh = []\n",
    "dP_polarized_fixTend_NateThresh = []\n",
    "dA_unpolarized_fixTend_NateThresh = []\n",
    "dP_unpolarized_fixTend_NateThresh = []\n",
    "for file in glob.glob(\"/Volumes/Transcend/PARmodellingData/pickled_NateThresh/*.pickle\"):\n",
    "#     print(file)\n",
    "    with open(file, 'rb') as f:\n",
    "        p = pickle.load(f)\n",
    "    if (p.finished_in_time == 1):\n",
    "        dA_unpolarized_fixTend_NateThresh.append(p.dA)\n",
    "        dP_unpolarized_fixTend_NateThresh.append(p.dP)\n",
    "    elif (p.finished_in_time == 2):\n",
    "        dA_polarized_fixTend_NateThresh.append(p.dA)\n",
    "        dP_polarized_fixTend_NateThresh.append(p.dP)"
   ]
  },
  {
   "cell_type": "code",
   "execution_count": null,
   "metadata": {
    "collapsed": true
   },
   "outputs": [],
   "source": [
    "plt.plot(dA_polarized_fixTend_NateThresh, dP_polarized_fixTend_NateThresh,'.')\n",
    "plt.plot(dA_unpolarized_fixTend_NateThresh, dP_unpolarized_fixTend_NateThresh,'.')\n",
    "plt.show()"
   ]
  },
  {
   "cell_type": "code",
   "execution_count": null,
   "metadata": {
    "collapsed": true
   },
   "outputs": [],
   "source": [
    "dA_polarized_Time14400 = []\n",
    "dP_polarized_Time14400 = []\n",
    "dA_unpolarized_Time14400 = []\n",
    "dP_unpolarized_Time14400 = []\n",
    "for file in glob.glob(\"/Volumes/Transcend/PARmodellingData/pickled_Time14400/*.pickle\"):\n",
    "#     print(file)\n",
    "    with open(file, 'rb') as f:\n",
    "        p = pickle.load(f)\n",
    "    if (p.finished_in_time == 1):\n",
    "        dA_unpolarized_Time14400.append(p.dA)\n",
    "        dP_unpolarized_Time14400.append(p.dP)\n",
    "    elif (p.finished_in_time == 2):\n",
    "        dA_polarized_Time14400.append(p.dA)\n",
    "        dP_polarized_Time14400.append(p.dP)"
   ]
  },
  {
   "cell_type": "code",
   "execution_count": null,
   "metadata": {
    "collapsed": true
   },
   "outputs": [],
   "source": [
    "plt.plot(dA_polarized_Time14400, dP_polarized_Time14400,'.')\n",
    "plt.plot(dA_unpolarized_Time14400, dP_unpolarized_Time14400,'.')\n",
    "plt.show()"
   ]
  },
  {
   "cell_type": "code",
   "execution_count": null,
   "metadata": {
    "collapsed": true
   },
   "outputs": [],
   "source": [
    "dA_polarized_fixTend_Thresh03 = []\n",
    "dP_polarized_fixTend_Thresh03 = []\n",
    "dA_unpolarized_fixTend_Thresh03 = []\n",
    "dP_unpolarized_fixTend_Thresh03 = []\n",
    "for file in glob.glob(\"/Volumes/Transcend/PARmodellingData/pickled_fixTend_Thresh03/*.pickle\"):\n",
    "#     print(file)\n",
    "    with open(file, 'rb') as f:\n",
    "        p = pickle.load(f)\n",
    "    if (p.finished_in_time == 1):\n",
    "        dA_unpolarized_fixTend_Thresh03.append(p.dA)\n",
    "        dP_unpolarized_fixTend_Thresh03.append(p.dP)\n",
    "    elif (p.finished_in_time == 2):\n",
    "        dA_polarized_fixTend_Thresh03.append(p.dA)\n",
    "        dP_polarized_fixTend_Thresh03.append(p.dP)"
   ]
  },
  {
   "cell_type": "code",
   "execution_count": null,
   "metadata": {
    "collapsed": true
   },
   "outputs": [],
   "source": [
    "plt.plot(dA_polarized_fixTend_Thresh03, dP_polarized_fixTend_Thresh03,'.')\n",
    "plt.plot(dA_unpolarized_fixTend_Thresh03, dP_unpolarized_fixTend_Thresh03,'.')\n",
    "plt.show()"
   ]
  },
  {
   "cell_type": "code",
   "execution_count": null,
   "metadata": {
    "collapsed": true
   },
   "outputs": [],
   "source": [
    "dA_polarized_fixTend = []\n",
    "dP_polarized_fixTend = []\n",
    "dA_unpolarized_fixTend = []\n",
    "dP_unpolarized_fixTend = []\n",
    "for file in glob.glob(\"/Volumes/Transcend/PARmodellingData/pickled_fixTend/*.pickle\"):\n",
    "#     print(file)\n",
    "    with open(file, 'rb') as f:\n",
    "        p = pickle.load(f)\n",
    "    if (p.finished_in_time == 1):\n",
    "        dA_unpolarized_fixTend.append(p.dA)\n",
    "        dP_unpolarized_fixTend.append(p.dP)\n",
    "    elif (p.finished_in_time == 2):\n",
    "        dA_polarized_fixTend.append(p.dA)\n",
    "        dP_polarized_fixTend.append(p.dP)"
   ]
  },
  {
   "cell_type": "code",
   "execution_count": null,
   "metadata": {
    "collapsed": true
   },
   "outputs": [],
   "source": [
    "dA_polarized_fixTend_rerun = []\n",
    "dP_polarized_fixTend_rerun = []\n",
    "dA_unpolarized_fixTend_rerun = []\n",
    "dP_unpolarized_fixTend_rerun = []\n",
    "for file in glob.glob(\"/Volumes/Transcend/PARmodellingData/pickled_fixTend_rerun/*.pickle\"):\n",
    "#     print(file)\n",
    "    with open(file, 'rb') as f:\n",
    "        p = pickle.load(f)\n",
    "    if (p.finished_in_time == 1):\n",
    "        dA_unpolarized_fixTend_rerun.append(p.dA)\n",
    "        dP_unpolarized_fixTend_rerun.append(p.dP)\n",
    "    elif (p.finished_in_time == 2):\n",
    "        dA_polarized_fixTend_rerun.append(p.dA)\n",
    "        dP_polarized_fixTend_rerun.append(p.dP)"
   ]
  },
  {
   "cell_type": "code",
   "execution_count": null,
   "metadata": {
    "collapsed": true
   },
   "outputs": [],
   "source": [
    "plt.plot(dA_polarized_fixTend_rerun, dP_polarized_fixTend_rerun,'.')\n",
    "plt.plot(dA_unpolarized_fixTend_rerun, dP_unpolarized_fixTend_rerun,'.')\n",
    "plt.show()"
   ]
  },
  {
   "cell_type": "code",
   "execution_count": null,
   "metadata": {
    "collapsed": true
   },
   "outputs": [],
   "source": [
    "plt.plot(dA_polarized_fixTend, dP_polarized_fixTend,'.')\n",
    "plt.plot(dA_unpolarized_fixTend, dP_unpolarized_fixTend,'.')\n",
    "plt.show()"
   ]
  },
  {
   "cell_type": "markdown",
   "metadata": {},
   "source": [
    "Threshold 0.05 or 0.3 doesn't seem to change much?? Verify file got recompiled!"
   ]
  },
  {
   "cell_type": "code",
   "execution_count": null,
   "metadata": {
    "collapsed": true
   },
   "outputs": [],
   "source": [
    "li = []\n",
    "for file in glob.glob(\"/Volumes/Transcend/PARmodellingData/pickled_fixTend/*.pickle\"):\n",
    "    with open(file, 'rb') as f:\n",
    "        mt = pickle.load(f)\n",
    "        li.append(mt)"
   ]
  },
  {
   "cell_type": "code",
   "execution_count": null,
   "metadata": {
    "collapsed": true
   },
   "outputs": [],
   "source": [
    "dA_polarized = []\n",
    "dP_polarized = []\n",
    "dA_unpolarized = []\n",
    "dP_unpolarized = []\n",
    "for p in li:\n",
    "    if p.finished_in_time == 1:\n",
    "        dA_unpolarized.append(p.dA)\n",
    "        dP_unpolarized.append(p.dP)\n",
    "    elif p.finished_in_time == 2:\n",
    "        dA_polarized.append(p.dA)\n",
    "        dP_polarized.append(p.dP)"
   ]
  },
  {
   "cell_type": "code",
   "execution_count": null,
   "metadata": {
    "collapsed": true
   },
   "outputs": [],
   "source": [
    "# %matplotlib notebook\n",
    "plt.plot(dA_unpolarized, dP_unpolarized, '.')\n",
    "plt.plot(dA_polarized, dP_polarized, '.')\n",
    "plt.xlim(-0.2, 3)\n",
    "plt.ylim(-0.2, 3)\n",
    "plt.axis('equal')\n",
    "plt.show()"
   ]
  }
 ],
 "metadata": {
  "anaconda-cloud": {},
  "kernelspec": {
   "display_name": "Python 3",
   "language": "python",
   "name": "python3"
  },
  "language_info": {
   "codemirror_mode": {
    "name": "ipython",
    "version": 3
   },
   "file_extension": ".py",
   "mimetype": "text/x-python",
   "name": "python",
   "nbconvert_exporter": "python",
   "pygments_lexer": "ipython3",
   "version": "3.5.4"
  }
 },
 "nbformat": 4,
 "nbformat_minor": 2
}
