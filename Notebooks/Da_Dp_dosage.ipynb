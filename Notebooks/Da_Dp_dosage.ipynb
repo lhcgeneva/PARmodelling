{
 "cells": [
  {
   "cell_type": "markdown",
   "metadata": {},
   "source": [
    "This notebook explores different dosage ratios for a system that's symmetric except for diffusion coefficients. I explore diffusion coefficients of $D_A = 0.1$/$D_P=1.1$ as well as $D_A = 0$/$D_P=1.1$. There is a quantitative difference, but qualitatively nothing changes.\n"
   ]
  },
  {
   "cell_type": "code",
   "execution_count": null,
   "metadata": {},
   "outputs": [],
   "source": [
    "import bisect\n",
    "import copy\n",
    "import glob\n",
    "import numpy as np\n",
    "import matplotlib.pyplot as plt\n",
    "import os\n",
    "import pandas as pd\n",
    "import pickle\n",
    "from scipy import optimize\n",
    "import sys\n",
    "import time\n",
    "from IPython.core.debugger import Tracer\n",
    "# Profiling\n",
    "import cProfile\n",
    "import re\n",
    "sys.path.append(os.path.abspath('../')+'/PythonDet/')\n",
    "from ParDetAsymm import ParSim, Sim_Container, s_to_v\n",
    "# from ParDetAsymmO import ParSim as ParSimO"
   ]
  },
  {
   "cell_type": "code",
   "execution_count": null,
   "metadata": {
    "collapsed": true
   },
   "outputs": [],
   "source": [
    "%qtconsole"
   ]
  },
  {
   "cell_type": "markdown",
   "metadata": {},
   "source": [
    "Symmetric system, only thing varied is dosage ratio"
   ]
  },
  {
   "cell_type": "markdown",
   "metadata": {},
   "source": [
    "The method to find the border between regions of stability and instability relies on bisection: e.g. try one ratio for a given size and diffusion coefficient, check whether A or P dominates or the system is polarized. Then move on to the next simulation by interval halving. This way, the border is approached from two sides."
   ]
  },
  {
   "cell_type": "code",
   "execution_count": null,
   "metadata": {
    "collapsed": true
   },
   "outputs": [],
   "source": [
    "ratio_Adom = []\n",
    "size_Adom = []\n",
    "ratio_P = []\n",
    "size_P = []\n",
    "for file in glob.glob(\"/Volumes/Transcend/PARmodellingData/pickled_FindA041217/*.pickle\"):\n",
    "#     print(file)/\n",
    "    with open(file, 'rb') as f:\n",
    "        p = pickle.load(f)\n",
    "    if (p.finished_in_time == 1):\n",
    "        ratio_Adom.append(p.ratio)\n",
    "        size_Adom.append(p.sys_size)\n",
    "    elif (p.finished_in_time == 0) or (p.finished_in_time == 2):\n",
    "        ratio_P.append(p.ratio)\n",
    "        size_P.append(p.sys_size)"
   ]
  },
  {
   "cell_type": "code",
   "execution_count": null,
   "metadata": {
    "collapsed": true
   },
   "outputs": [],
   "source": [
    "ratio_Pdom = []\n",
    "size_Pdom = []\n",
    "ratio_A = []\n",
    "size_A = []\n",
    "for file in glob.glob(\"/Volumes/Transcend/PARmodellingData/pickled_FindP041217/*.pickle\"):\n",
    "#     print(file)/\n",
    "    with open(file, 'rb') as f:\n",
    "        p = pickle.load(f)\n",
    "    if (p.finished_in_time == 0):\n",
    "        ratio_Pdom.append(p.ratio)\n",
    "        size_Pdom.append(p.sys_size)\n",
    "    elif (p.finished_in_time == 1) or (p.finished_in_time == 2):\n",
    "        ratio_A.append(p.ratio)\n",
    "        size_A.append(p.sys_size)"
   ]
  },
  {
   "cell_type": "code",
   "execution_count": null,
   "metadata": {},
   "outputs": [],
   "source": [
    "fig=plt.figure(figsize=(8, 7), dpi= 80, facecolor='w', edgecolor='k')\n",
    "plt.plot(ratio_Adom, size_Adom, 'r.')\n",
    "plt.plot(ratio_P, size_P, 'm.')\n",
    "plt.plot(ratio_Pdom, size_Pdom, 'b.')\n",
    "plt.plot(ratio_A, size_A, 'c.')\n",
    "plt.show()\n",
    "plt.show()"
   ]
  },
  {
   "cell_type": "code",
   "execution_count": null,
   "metadata": {},
   "outputs": [],
   "source": [
    "fig=plt.figure(figsize=(8, 7), dpi= 80, facecolor='w', edgecolor='k')\n",
    "# Collect all ratios/sizes in dataframes for D_A = 0.1\n",
    "df1 = pd.DataFrame({'ratioA': ratio_Adom, 'size_Adom': size_Adom})\n",
    "df2 = pd.DataFrame({'ratioP': ratio_P, 'size_P': size_P})\n",
    "df3 = pd.DataFrame({'ratioP': ratio_Pdom, 'size_Pdom': size_Pdom})\n",
    "df4 = pd.DataFrame({'ratioA': ratio_A, 'size_A': size_A})\n",
    "# Collect all ratios/sizes in dataframes for D_A = 0\n",
    "df5 = pd.DataFrame({'ratioA': ratio_Adom0, 'size_Adom': size_Adom0})\n",
    "df6 = pd.DataFrame({'ratioP': ratio_P0, 'size_P': size_P0})\n",
    "df7 = pd.DataFrame({'ratioP': ratio_Pdom0, 'size_Pdom': size_Pdom0})\n",
    "df8 = pd.DataFrame({'ratioA': ratio_A0, 'size_A': size_A0})\n",
    "# Plot both parameter sets in the same phase diagram\n",
    "plt.plot(df3.groupby('size_Pdom').max())\n",
    "plt.plot(df4.groupby('size_A').min())\n",
    "plt.plot(df1.groupby('size_Adom').min())\n",
    "plt.plot(df2.groupby('size_P').max())\n",
    "plt.plot(df5.groupby('size_Adom').min())\n",
    "plt.plot(df6.groupby('size_P').max())\n",
    "plt.plot(df7.groupby('size_Pdom').max())\n",
    "plt.plot(df8.groupby('size_A').min())\n",
    "\n",
    "plt.xlabel('system size [um]')\n",
    "plt.ylabel('A/P')\n",
    "plt.show()"
   ]
  },
  {
   "cell_type": "code",
   "execution_count": null,
   "metadata": {},
   "outputs": [],
   "source": [
    "# font = {'family' : 'sans-serif',\n",
    "#         'weight' : 'normal',\n",
    "#         'size'   : 18}\n",
    "# plt.rc('font', **font)\n",
    "fig=plt.figure(figsize=(3.75, 3.1), dpi= 300, facecolor='w')\n",
    "F = df2.groupby('size_P').max()\n",
    "S = df4.groupby('size_A').min()\n",
    "topx = F.index.values\n",
    "top = [x[0] for x in F.as_matrix()]\n",
    "botx = S.index.values\n",
    "bot = [x[0] for x in S.as_matrix()]\n",
    "both_x = np.linspace(15, 54, 100)\n",
    "top = np.interp(both_x, topx, top)\n",
    "bot = np.interp(both_x, botx, bot)\n",
    "plt.fill_between(both_x, top, bot, alpha=1, color='grey')\n",
    "plt.fill_between(both_x, bot, 0, alpha=0.6, color='cornflowerblue')\n",
    "plt.fill_between(both_x, top, 1.5, alpha=0.6, color='salmon')\n",
    "# plt.plot(df1.groupby('size_Adom').min(), 'darkorange', linewidth=1.0)\n",
    "# plt.plot(df4.groupby('size_A').min(), 'darkorange', linewidth=1.0)\n",
    "\n",
    "plt.ylim(0.6, 1.1)\n",
    "plt.xlim(15, 50)\n",
    "ax = plt.gca()\n",
    "ax.text(18, 1, r'\\bf{Unpolarized (slow wins)}')\n",
    "ax.text(40, 0.92, r'\\bf{Polarized}')\n",
    "ax.text(25, 0.73, r'\\bf{Unpolarized (fast wins)}')\n",
    "plt.xlabel(r'system size [$\\mu m$]')\n",
    "plt.ylabel(r'A/P ratio')\n",
    "ax.spines['right'].set_visible(False)\n",
    "ax.spines['top'].set_visible(False)\n",
    "plt.gcf().subplots_adjust(bottom=0.17, left=0.15)\n",
    "plt.savefig('/Users/hubatsl/Dropbox (Lars DMS)/LRI/PAR_Size/Theory/Da_Dp_dosage.pdf', transparent=True)\n",
    "plt.show()"
   ]
  },
  {
   "cell_type": "code",
   "execution_count": null,
   "metadata": {
    "collapsed": true
   },
   "outputs": [],
   "source": [
    "extreme cases of cross talk\n",
    "no cross talk no diffusion in one species\n",
    "Finish this nb\n",
    "Sample random"
   ]
  },
  {
   "cell_type": "markdown",
   "metadata": {},
   "source": [
    "**Case: $D_a$ = 0**"
   ]
  },
  {
   "cell_type": "code",
   "execution_count": null,
   "metadata": {
    "collapsed": true
   },
   "outputs": [],
   "source": [
    "ratio_Adom0 = []\n",
    "size_Adom0 = []\n",
    "ratio_P0 = []\n",
    "size_P0 = []\n",
    "for file in glob.glob(\"/Volumes/Transcend/PARmodellingData/pickled_FindA051217/*.pickle\"):\n",
    "#     print(file)/\n",
    "    with open(file, 'rb') as f:\n",
    "        p = pickle.load(f)\n",
    "    if (p.finished_in_time == 1):\n",
    "        ratio_Adom0.append(p.ratio)\n",
    "        size_Adom0.append(p.sys_size)\n",
    "    elif (p.finished_in_time == 0) or (p.finished_in_time == 2):\n",
    "        ratio_P0.append(p.ratio)\n",
    "        size_P0.append(p.sys_size)"
   ]
  },
  {
   "cell_type": "code",
   "execution_count": null,
   "metadata": {
    "collapsed": true
   },
   "outputs": [],
   "source": [
    "ratio_Pdom0 = []\n",
    "size_Pdom0 = []\n",
    "ratio_A0 = []\n",
    "size_A0 = []\n",
    "for file in glob.glob(\"/Volumes/Transcend/PARmodellingData/pickled_FindP051217/*.pickle\"):\n",
    "#     print(file)/\n",
    "    with open(file, 'rb') as f:\n",
    "        p = pickle.load(f)\n",
    "    if (p.finished_in_time == 0):\n",
    "        ratio_Pdom0.append(p.ratio)\n",
    "        size_Pdom0.append(p.sys_size)\n",
    "    elif (p.finished_in_time == 1) or (p.finished_in_time == 2):\n",
    "        ratio_A0.append(p.ratio)\n",
    "        size_A0.append(p.sys_size)"
   ]
  },
  {
   "cell_type": "code",
   "execution_count": null,
   "metadata": {},
   "outputs": [],
   "source": [
    "fig=plt.figure(figsize=(3.75, 3.1), dpi= 300, facecolor='w', edgecolor='k')\n",
    "df5 = pd.DataFrame({'ratioA': ratio_Adom0, 'size_Adom': size_Adom0})\n",
    "df6 = pd.DataFrame({'ratioP': ratio_P0, 'size_P': size_P0})\n",
    "plt.plot(df5.groupby('size_Adom').min())\n",
    "plt.plot(df6.groupby('size_P').max())\n",
    "df7 = pd.DataFrame({'ratioP': ratio_Pdom0, 'size_Pdom': size_Pdom0})\n",
    "df8 = pd.DataFrame({'ratioA': ratio_A0, 'size_A': size_A0})\n",
    "plt.plot(df7.groupby('size_Pdom').max())\n",
    "plt.plot(df8.groupby('size_A').min())\n",
    "plt.xlabel('system size [um]')\n",
    "plt.ylabel('A/P ratio')\n",
    "plt.show()"
   ]
  },
  {
   "cell_type": "code",
   "execution_count": null,
   "metadata": {},
   "outputs": [],
   "source": [
    "fig=plt.figure(figsize=(3.75, 3.1), dpi= 300, facecolor='w')\n",
    "F = df6.groupby('size_P').max()\n",
    "S = df8.groupby('size_A').min()\n",
    "\n",
    "topx = F.index.values\n",
    "top = [x[0] for x in F.as_matrix()]\n",
    "botx = S.index.values\n",
    "bot = [x[0] for x in S.as_matrix()]\n",
    "both_x = np.linspace(15, 54, 100)\n",
    "top = np.interp(both_x, topx, top)\n",
    "bot = np.interp(both_x, botx, bot)\n",
    "\n",
    "plt.fill_between(both_x, top, bot, alpha=1, color='grey')\n",
    "plt.fill_between(both_x, bot, 0, alpha=0.6, color='cornflowerblue')\n",
    "plt.fill_between(both_x, top, 1.5, alpha=0.6, color='salmon')\n",
    "# plt.plot(df5.groupby('size_Adom').min(), 'k', linewidth=1.0)\n",
    "# plt.plot(df8.groupby('size_A').min(), 'k', linewidth=1.0)\n",
    "\n",
    "plt.ylim(0.6, 1.1)\n",
    "plt.xlim(15, 50)\n",
    "ax = plt.gca()\n",
    "ax.text(18, 1, r'\\bf{Unpolarized (slow wins)}')\n",
    "ax.text(40, 0.92, r'\\bf{Polarized}')\n",
    "ax.text(30, 0.7, r'\\bf{Unpolarized (fast wins)}')\n",
    "plt.xlabel(r'system size [$\\mu m$]')\n",
    "plt.ylabel(r'A/P ratio')\n",
    "ax.spines['right'].set_visible(False)\n",
    "ax.spines['top'].set_visible(False)\n",
    "plt.gcf().subplots_adjust(bottom=0.17, left=0.15)\n",
    "plt.savefig('/Users/hubatsl/Dropbox (Lars DMS)/LRI/PAR_Size/Theory/Da_Dp_dosage_0diff.pdf', transparent=True)\n",
    "plt.show()"
   ]
  },
  {
   "cell_type": "markdown",
   "metadata": {},
   "source": [
    "\n",
    "### Run for many sizes and many D combinations"
   ]
  },
  {
   "cell_type": "code",
   "execution_count": null,
   "metadata": {
    "collapsed": true
   },
   "outputs": [],
   "source": [
    "ratio_AdomM = []\n",
    "size_AdomM = []\n",
    "dA_AdomM = []\n",
    "ratio_PM = []\n",
    "size_PM = []\n",
    "dA_PM = []\n",
    "for file in glob.glob(\"/Users/hubatsl/Desktop/LongVsShortL/*.pickle\"):\n",
    "    with open(file, 'rb') as f:\n",
    "        p = pickle.load(f)\n",
    "    if (p.finished_in_time == 1):\n",
    "        ratio_AdomM.append(p.ratio)\n",
    "        size_AdomM.append(p.sys_size)\n",
    "        dA_AdomM.append(p.dA)\n",
    "    elif (p.finished_in_time == 0) or (p.finished_in_time == 2):\n",
    "        ratio_PM.append(p.ratio)\n",
    "        size_PM.append(p.sys_size)\n",
    "        dA_PM.append(p.dA)"
   ]
  },
  {
   "cell_type": "code",
   "execution_count": null,
   "metadata": {
    "collapsed": true
   },
   "outputs": [],
   "source": [
    "ratio_PdomM = []\n",
    "size_PdomM = []\n",
    "dA_PdomM = []\n",
    "ratio_AM = []\n",
    "size_AM = []\n",
    "dA_AM = []\n",
    "for file in glob.glob(\"/Users/hubatsl/Desktop/FindP/*.pickle\"):\n",
    "    with open(file, 'rb') as f:\n",
    "        p = pickle.load(f)\n",
    "    if (p.finished_in_time == 0):\n",
    "        ratio_PdomM.append(p.ratio)\n",
    "        size_PdomM.append(p.sys_size)\n",
    "        dA_PdomM.append(p.dA)\n",
    "    elif (p.finished_in_time == 1) or (p.finished_in_time == 2):\n",
    "        ratio_AM.append(p.ratio)\n",
    "        size_AM.append(p.sys_size)\n",
    "        dA_AM.append(p.dA)"
   ]
  },
  {
   "cell_type": "code",
   "execution_count": null,
   "metadata": {},
   "outputs": [],
   "source": [
    "df5 = pd.DataFrame({'ratioA': ratio_AdomM, 'size_Adom': size_AdomM, 'dA_Adom': dA_AdomM})\n",
    "df6 = pd.DataFrame({'ratioP': ratio_PM, 'size_P': size_PM, 'dA_PM': dA_PM})\n",
    "df7 = pd.DataFrame({'ratioP': ratio_PdomM, 'size_Pdom': size_PdomM, 'dA_Pdom': dA_PdomM})\n",
    "df8 = pd.DataFrame({'ratioA': ratio_AM, 'size_A': size_AM, 'dA_AM': dA_AM})\n",
    "di = []\n",
    "for D in df6['dA_PM'].unique():\n",
    "    dfplot1 = df5[df5['dA_Adom'] == D]\n",
    "    dfplot2 = df6[df6['dA_PM'] == D]\n",
    "    plt.plot(dfplot1.groupby('size_Adom')['ratioA'].min())\n",
    "    plt.plot(dfplot2.groupby('size_P')['ratioP'].max(), 'b')\n",
    "    print(D)\n",
    "    dfplot3 = df7[df7['dA_Pdom'] == D]\n",
    "    dfplot4 = df8[df8['dA_AM'] == D]\n",
    "    plt.plot(dfplot3.groupby('size_Pdom')['ratioP'].max())\n",
    "    plt.plot(dfplot4.groupby('size_A')['ratioA'].min(), 'r')\n",
    "    plt.xlabel('system size [um]')\n",
    "    plt.ylabel('A/P ratio [um]')\n",
    "    plt.show()\n",
    "    a = dfplot4.groupby('size_A')['ratioA'].min()\n",
    "    b = dfplot2.groupby('size_P')['ratioP'].max()\n",
    "    c = (b-a).interpolate()\n",
    "    di.append(c[c<0.03].index.max())\n",
    "    plt.plot(c)\n",
    "    plt.show()"
   ]
  },
  {
   "cell_type": "code",
   "execution_count": null,
   "metadata": {},
   "outputs": [],
   "source": [
    "def make_graph_pretty(xlab, ylab, loc=0):\n",
    "    color1 = 'black'#'darkorange'\n",
    "    color2 = (0, 0, 0)\n",
    "    color2 = (1, 1, 1)\n",
    "    ax = plt.gca()\n",
    "    ax.tick_params(axis='x', colors=color1, which='both')\n",
    "    ax.tick_params(axis='y', colors=color1, which='both')\n",
    "    plt.xlabel(xlab, color=color1)\n",
    "    plt.ylabel(ylab, color=color1)\n",
    "    ax.spines['left'].set_color(color1)\n",
    "    ax.spines['bottom'].set_color(color1)\n",
    "    # Hide the right and top spines\n",
    "    ax.spines['right'].set_visible(False)\n",
    "    ax.spines['top'].set_visible(False)\n",
    "    ax.set_facecolor(color2)\n",
    "    plt.gcf().subplots_adjust(bottom=0.17, left=0.15)\n",
    "    plt.legend(frameon=False, loc=loc)"
   ]
  },
  {
   "cell_type": "code",
   "execution_count": null,
   "metadata": {
    "scrolled": true
   },
   "outputs": [],
   "source": [
    "fig=plt.figure(figsize=(3.75, 3.1), dpi= 300, facecolor='w', edgecolor='k')\n",
    "c1 = (132/255, 197/255, 97/255)\n",
    "c2 = (223/255, 184/255, 88/255)\n",
    "plt.plot(di, df6['dA_PM'].unique()/0.3, '.', label='PAR system', color=c1)\n",
    "plt.plot(np.linspace(0, max(di), 20), np.linspace(0, 1, 20), '--', label='Perfect scaling', color=c2)\n",
    "plt.xlim(0, None)\n",
    "plt.ylim(0, None)\n",
    "make_graph_pretty(r'system size', r'$\\frac{D_A}{0.3\\; \\mu m^2/s}$')\n",
    "plt.gcf().subplots_adjust(bottom=0.17, left=0.17)\n",
    "plt.savefig('/Users/hubatsl/Dropbox (Lars DMS)/LRI/PAR_Size/Theory/Breakdown_vs_Dratio.pdf', transparent=True)\n",
    "plt.show()"
   ]
  },
  {
   "cell_type": "markdown",
   "metadata": {},
   "source": [
    "**Case: $D_a==D_p==0.3$**"
   ]
  },
  {
   "cell_type": "code",
   "execution_count": null,
   "metadata": {
    "collapsed": true
   },
   "outputs": [],
   "source": [
    "ratio_Adom0 = []\n",
    "size_Adom0 = []\n",
    "ratio_P0 = []\n",
    "size_P0 = []\n",
    "for file in glob.glob(\"/Users/hubatsl/Desktop/SymmetricSystemDosageFindA/*.pickle\"):\n",
    "#     print(file)/\n",
    "    with open(file, 'rb') as f:\n",
    "        p = pickle.load(f)\n",
    "    if (p.finished_in_time == 1):\n",
    "        ratio_Adom0.append(p.ratio)\n",
    "        size_Adom0.append(p.sys_size)\n",
    "    elif (p.finished_in_time == 0) or (p.finished_in_time == 2):\n",
    "        ratio_P0.append(p.ratio)\n",
    "        size_P0.append(p.sys_size)"
   ]
  },
  {
   "cell_type": "code",
   "execution_count": null,
   "metadata": {
    "collapsed": true
   },
   "outputs": [],
   "source": [
    "ratio_Pdom0 = []\n",
    "size_Pdom0 = []\n",
    "ratio_A0 = []\n",
    "size_A0 = []\n",
    "for file in glob.glob(\"/Users/hubatsl/Desktop/SymmetricSystemDosageFindP/*.pickle\"):\n",
    "#     print(file)/\n",
    "    with open(file, 'rb') as f:\n",
    "        p = pickle.load(f)\n",
    "    if (p.finished_in_time == 0):\n",
    "        ratio_Pdom0.append(p.ratio)\n",
    "        size_Pdom0.append(p.sys_size)\n",
    "    elif (p.finished_in_time == 1) or (p.finished_in_time == 2):\n",
    "        ratio_A0.append(p.ratio)\n",
    "        size_A0.append(p.sys_size)"
   ]
  },
  {
   "cell_type": "code",
   "execution_count": null,
   "metadata": {},
   "outputs": [],
   "source": [
    "fig=plt.figure(figsize=(3.75, 3.1), dpi= 300, facecolor='w', edgecolor='k')\n",
    "df5 = pd.DataFrame({'ratioA': ratio_Adom0, 'size_Adom': size_Adom0})\n",
    "df6 = pd.DataFrame({'ratioP': ratio_P0, 'size_P': size_P0})\n",
    "plt.plot(df5.groupby('size_Adom').min())\n",
    "plt.plot(df6.groupby('size_P').max())\n",
    "df7 = pd.DataFrame({'ratioP': ratio_Pdom0, 'size_Pdom': size_Pdom0})\n",
    "df8 = pd.DataFrame({'ratioA': ratio_A0, 'size_A': size_A0})\n",
    "plt.plot(df7.groupby('size_Pdom').max())\n",
    "plt.plot(df8.groupby('size_A').min())\n",
    "plt.xlabel('system size [um]')\n",
    "plt.ylabel('A/P ratio')\n",
    "plt.show()"
   ]
  },
  {
   "cell_type": "code",
   "execution_count": null,
   "metadata": {},
   "outputs": [],
   "source": [
    "fig=plt.figure(figsize=(3.75, 3.1), dpi= 300, facecolor='w')\n",
    "F = df6.groupby('size_P').max()\n",
    "S = df8.groupby('size_A').min()\n",
    "\n",
    "topx = F.index.values\n",
    "top = [x[0] for x in F.as_matrix()]\n",
    "botx = S.index.values\n",
    "bot = [x[0] for x in S.as_matrix()]\n",
    "both_x = np.linspace(15, 54, 100)\n",
    "top = np.interp(both_x, topx, top)\n",
    "bot = np.interp(both_x, botx, bot)\n",
    "\n",
    "plt.fill_between(both_x, top, bot, alpha=1, color='grey')\n",
    "plt.fill_between(both_x, bot, 0, alpha=0.6, color='cornflowerblue')\n",
    "plt.fill_between(both_x, top, 1.5, alpha=0.6, color='salmon')\n",
    "# plt.plot(df5.groupby('size_Adom').min(), 'k', linewidth=1.0)\n",
    "# plt.plot(df8.groupby('size_A').min(), 'k', linewidth=1.0)\n",
    "\n",
    "plt.ylim(0.8, 1.2)\n",
    "plt.xlim(15, 50)\n",
    "ax = plt.gca()\n",
    "ax.text(18, 1.15, r'\\bf{Unpolarized (A wins)}')\n",
    "ax.text(40, 0.99, r'\\bf{Polarized}')\n",
    "ax.text(18, 0.85, r'\\bf{Unpolarized (P wins)}')\n",
    "plt.xlabel(r'system size [$\\mu m$]')\n",
    "plt.ylabel(r'A/P ratio')\n",
    "ax.spines['right'].set_visible(False)\n",
    "ax.spines['top'].set_visible(False)\n",
    "plt.gcf().subplots_adjust(bottom=0.17, left=0.15)\n",
    "plt.savefig('/Users/hubatsl/Dropbox (Lars DMS)/LRI/PAR_Size/Theory/Da_Dp_dosage_symm.pdf', transparent=True)\n",
    "plt.show()"
   ]
  },
  {
   "cell_type": "markdown",
   "metadata": {},
   "source": [
    "### Run different D ratios vs CPSS without cluster"
   ]
  },
  {
   "cell_type": "code",
   "execution_count": null,
   "metadata": {},
   "outputs": [],
   "source": [
    "symmetric = {'alpha': 2, 'beta': 2, 'dA': 0.3, 'dP': 0.3,\n",
    "             'kAP': 1, 'kPA': 1, 'koffA': 0.005, 'koffP': 0.005,\n",
    "             'konA': 0.006, 'konP': 0.006, 'Ptot': 1, 'ratio': 1.00,\n",
    "             'sys_size': 25}\n",
    "\n",
    "# In principle break down can happen due to dosage or due to diffusion asymmetry.\n",
    "# It is unclear, whether these both act on the same time scale, or whether at some point,\n",
    "# when diffusion is very similar, at ratios close to 1, the dosage ratio is dominant.\n",
    "# In order to avoid getting two possible diffusion coefficients at the same size, diffusion and\n",
    "# dosage should point in the same direction: if A is slowed down (which make P win)\n",
    "\n",
    "sizes = np.linspace(10.3, 17.8, 8)\n",
    "siz = [copy.deepcopy(symmetric) for _ in sizes]\n",
    "for i, dic in enumerate(siz):\n",
    "    siz[i]['sys_size'] = sizes[i]\n",
    "\n",
    "s_above = [0.3 for x in siz]\n",
    "s_below = [0 for x in siz]\n",
    "s = [0.15 for x in siz]\n",
    "\n",
    "for j in range(6):\n",
    "    for i in range(len(siz)):\n",
    "        siz[i]['dP'] = s[i]\n",
    "        print(siz[i]['dP'])\n",
    "    sims = Sim_Container(siz, no_workers=8)\n",
    "    sims.init_simus()\n",
    "    sims.run_simus()\n",
    "    \n",
    "    for i in range(len(siz)):\n",
    "        outcome = sims.simus[i].finished_in_time\n",
    "        if (outcome == 1) or (outcome == 0):\n",
    "            s_above[i] = s[i]\n",
    "            s[i] = s[i] - (s[i] - s_below[i])/2\n",
    "        elif outcome == 2:\n",
    "            s_below[i] = s[i]\n",
    "            s[i] = s[i] + (s_above[i] - s[i])/2\n"
   ]
  },
  {
   "cell_type": "code",
   "execution_count": null,
   "metadata": {},
   "outputs": [],
   "source": [
    "s=[0.00234375,\n",
    " 0.00234375,\n",
    " 0.01171875,\n",
    " 0.02578125,\n",
    " 0.04453125,\n",
    " 0.07734374999999999,\n",
    " 0.13359374999999998,\n",
    " 0.29765624999999996]"
   ]
  },
  {
   "cell_type": "code",
   "execution_count": null,
   "metadata": {},
   "outputs": [],
   "source": [
    "symmetric = {'alpha': 2, 'beta': 2, 'dA': 0.3, 'dP': 0.3,\n",
    "             'kAP': 1, 'kPA': 1, 'koffA': 0.005, 'koffP': 0.005,\n",
    "             'konA': 0.006, 'konP': 0.006, 'Ptot': 1, 'ratio': 1.00,\n",
    "             'sys_size': 25}\n",
    "\n",
    "sizes = np.linspace(10.3, 17.8, 8)\n",
    "siz = [copy.deepcopy(symmetric) for _ in sizes]\n",
    "for i, dic in enumerate(siz):\n",
    "    siz[i]['sys_size'] = sizes[i]\n",
    "\n",
    "s_above = [0.3 for x in siz]\n",
    "s_below = [0 for x in siz]\n",
    "s = [0.15 for x in siz]\n",
    "\n",
    "for j in range(6):\n",
    "    for i in range(len(siz)):\n",
    "        siz[i]['dP'] = s[i]\n",
    "        print(siz[i]['dP'])\n",
    "    sims = Sim_Container(siz, no_workers=8)\n",
    "    sims.init_simus()\n",
    "    sims.run_simus()\n",
    "    \n",
    "    for i in range(len(siz)):\n",
    "        outcome = sims.simus[i].finished_in_time\n",
    "        if (outcome == 1) or (outcome == 0):\n",
    "            s_above[i] = s[i]\n",
    "            s[i] = s[i] - (s[i] - s_below[i])/2\n",
    "        elif outcome == 2:\n",
    "            s_below[i] = s[i]\n",
    "            s[i] = s[i] + (s_above[i] - s[i])/2"
   ]
  },
  {
   "cell_type": "code",
   "execution_count": null,
   "metadata": {},
   "outputs": [],
   "source": [
    "sizes = np.linspace(10.3, 17.8, 8)\n",
    "siz = [copy.deepcopy(symmetric) for _ in sizes]\n",
    "for i, dic in enumerate(siz):\n",
    "    siz[i]['sys_size'] = sizes[i]\n",
    "\n",
    "s_above = [0.3 for x in siz]\n",
    "s_below = s\n",
    "s1 = [i+0.01 for i in s]\n",
    "\n",
    "for j in range(6):\n",
    "    for i in range(len(siz)):\n",
    "        siz[i]['dP'] = s1[i]\n",
    "        print(siz[i]['dP'])\n",
    "    sims1 = Sim_Container(siz, no_workers=8)\n",
    "    sims1.init_simus()\n",
    "    sims1.run_simus()\n",
    "    \n",
    "    for i in range(len(siz)):\n",
    "        outcome = sims1.simus[i].finished_in_time\n",
    "        if (outcome == 1) or (outcome == 0):\n",
    "            s_below[i] = s1[i]\n",
    "            s1[i] = s1[i] + (s_above[i] - s1[i])/2\n",
    "        elif outcome == 2:\n",
    "            s_above[i] = s1[i]\n",
    "            s1[i] = s1[i] - (s1[i] - s_below[i])/2"
   ]
  },
  {
   "cell_type": "code",
   "execution_count": null,
   "metadata": {},
   "outputs": [],
   "source": [
    "symmetric = {'alpha': 2, 'beta': 2, 'dA': 0.28, 'dP': 0.3,\n",
    "             'kAP': 1, 'kPA': 1, 'koffA': 0.005, 'koffP': 0.005,\n",
    "             'konA': 0.006, 'konP': 0.006, 'Ptot': 1, 'ratio': 1.01,\n",
    "             'sys_size': 25}\n",
    "sizes = np.linspace(17.0, 18, 8)\n",
    "siz = [copy.deepcopy(symmetric) for _ in sizes]\n",
    "for i, dic in enumerate(siz):\n",
    "    siz[i]['sys_size'] = sizes[i]\n",
    "\n",
    "sims1 = Sim_Container(siz, no_workers=8)\n",
    "sims1.init_simus()\n",
    "sims1.run_simus()"
   ]
  },
  {
   "cell_type": "markdown",
   "metadata": {},
   "source": [
    "## Redo symmetric and asymmetric dosage ratio diagrams, using MacBook instead of Cluster"
   ]
  },
  {
   "cell_type": "code",
   "execution_count": null,
   "metadata": {},
   "outputs": [],
   "source": [
    "from ParDetAsymm import Dosage_CPSS\n",
    "# Da = 0, Dp = 0.1\n",
    "sz = [4, 15]\n",
    "dc = Dosage_CPSS(5, 0.1, 8, sz, max_iter=10)\n",
    "dc.simulate(dom='P')\n",
    "dc.simulate(dom='A')\n",
    "plt.plot(np.linspace(sz[0], sz[1], 8), dc.ratioP)\n",
    "plt.plot(np.linspace(sz[0], sz[1], 8), dc.ratioA)\n",
    "plt.show()"
   ]
  },
  {
   "cell_type": "code",
   "execution_count": null,
   "metadata": {},
   "outputs": [],
   "source": [
    "# Da = 0.1, Dp = 1.1\n",
    "sz = [10, 25]\n",
    "dc = Dosage_CPSS(5, 0.1, 8, sz, max_iter=10)\n",
    "dc.simulate(dom='P')\n",
    "dc.simulate(dom='A')\n",
    "plt.plot(np.linspace(sz[0], sz[1], 8), dc.ratioP)\n",
    "plt.plot(np.linspace(sz[0], sz[1], 8), dc.ratioA)\n",
    "plt.show()"
   ]
  },
  {
   "cell_type": "code",
   "execution_count": null,
   "metadata": {},
   "outputs": [],
   "source": [
    "from ParDetAsymm import Dosage_CPSS\n",
    "# Da = 0.1, Dp = 0.1\n",
    "for da in np.linspace(0.0, 0.1, 16):\n",
    "    print(da) \n",
    "    sz = [3.5, 10]\n",
    "    base_set = {'alpha': 2, 'beta': 2, 'dA': 0.1, 'dP': 0.1,\n",
    "             'kAP': 1, 'kPA': 1, 'koffA': 0.005, 'koffP': 0.005,\n",
    "             'konA': 0.006, 'konP': 0.006, 'Ptot': 1, 'ratio': 1.0,\n",
    "             'sys_size': 30}\n",
    "    base_set['dA'] = da\n",
    "    dc = Dosage_CPSS(5, 0.05, 24, sz, base_set=base_set, max_iter=16)\n",
    "    dc.simulate(dom='P')\n",
    "    dc.simulate(dom='A')\n",
    "    plt.plot(np.linspace(sz[0], sz[1], 24), dc.ratioP)\n",
    "    plt.plot(np.linspace(sz[0], sz[1], 24), dc.ratioA)\n",
    "    plt.show()\n",
    "    dc.pickle_data('0407_Dp01_Da' + str(da))"
   ]
  },
  {
   "cell_type": "code",
   "execution_count": null,
   "metadata": {},
   "outputs": [],
   "source": [
    "dc.pickle_data('Dp01_Da' + str(da))"
   ]
  },
  {
   "cell_type": "code",
   "execution_count": null,
   "metadata": {},
   "outputs": [],
   "source": [
    "dc.time/3600"
   ]
  },
  {
   "cell_type": "code",
   "execution_count": null,
   "metadata": {},
   "outputs": [],
   "source": [
    "def pl(n):    \n",
    "    with open(n, 'rb') as f:\n",
    "            p = pickle.load(f)\n",
    "            ax = plt.plot(np.linspace(p.sz_range[0], p.sz_range[1], p.precision), p.ratioP)\n",
    "            plt.plot(np.linspace(p.sz_range[0], p.sz_range[1], p.precision), p.ratioA, ax[0].get_color())\n",
    "pl('Dp01_Da0.0.pickle')\n",
    "for da in np.linspace(0.02, 0.1, 7):\n",
    "    pl('Dp01_Da' + str(da) + '.pickle')\n",
    "plt.show()"
   ]
  },
  {
   "cell_type": "code",
   "execution_count": null,
   "metadata": {},
   "outputs": [],
   "source": [
    "def pl(n):    \n",
    "    with open(n, 'rb') as f:\n",
    "            p = pickle.load(f)\n",
    "            ax = plt.plot(np.linspace(p.sz_range[0], p.sz_range[1], p.precision), p.ratioP)\n",
    "            plt.plot(np.linspace(p.sz_range[0], p.sz_range[1], p.precision), p.ratioA, ax[0].get_color())\n",
    "\n",
    "for da in np.linspace(0.0, 0.1, 16):\n",
    "    pl('0107_SimusCPSS/0107_Dp01_Da' + str(da) + '.pickle')\n",
    "plt.show()"
   ]
  },
  {
   "cell_type": "code",
   "execution_count": null,
   "metadata": {},
   "outputs": [],
   "source": [
    "def get_size(n, thresh):\n",
    "\n",
    "    with open(n, 'rb') as f:\n",
    "        p = pickle.load(f)    \n",
    "        sz_interp = np.linspace(p.sz_range[0], p.sz_range[1], 5*p.precision)\n",
    "        sz = np.linspace(p.sz_range[0], p.sz_range[1], p.precision)\n",
    "\n",
    "        ind = np.argmin(abs(np.interp(sz_interp, sz,\n",
    "                                      np.array(p.ratioA)-np.array(p.ratioP))-thresh))\n",
    "    return sz_interp[ind]"
   ]
  },
  {
   "cell_type": "code",
   "execution_count": null,
   "metadata": {},
   "outputs": [],
   "source": [
    "cpss01 = [get_size('Dp01_Da0.0.pickle', 0.01)]\n",
    "cpss05 = [get_size('Dp01_Da0.0.pickle', 0.05)]\n",
    "cpss1 = [get_size('Dp01_Da0.0.pickle', 0.1)]\n",
    "d = [0]\n",
    "for da in np.linspace(0.02, 0.1, 7):\n",
    "    cpss01.append(get_size('Dp01_Da' + str(da) + '.pickle', 0.01))\n",
    "    cpss05.append(get_size('Dp01_Da' + str(da) + '.pickle', 0.05))\n",
    "    cpss1.append(get_size('Dp01_Da' + str(da) + '.pickle', 0.1))\n",
    "    d.append(da/0.1)\n",
    "plt.plot(d, cpss01, 'o', label='0.01')\n",
    "plt.plot(d, cpss05, 'o', label='0.05')\n",
    "plt.plot(d, cpss1, 'o', label='0.1')\n",
    "plt.legend()\n",
    "plt.xlim(0, 1.1)\n",
    "plt.ylim(0, 11)\n",
    "plt.xlabel('Da/0.1')\n",
    "plt.ylabel('CPSS')\n",
    "plt.show()"
   ]
  },
  {
   "cell_type": "code",
   "execution_count": null,
   "metadata": {},
   "outputs": [],
   "source": [
    "cpss01 = []\n",
    "cpss05 = []\n",
    "cpss1 = []\n",
    "d = []\n",
    "for da in np.linspace(0.0, 0.1, 16):\n",
    "    cpss01.append(get_size('0107_SimusCPSS/0107_Dp01_Da' + str(da) + '.pickle', 0.01))\n",
    "    cpss05.append(get_size('0107_SimusCPSS/0107_Dp01_Da' + str(da) + '.pickle', 0.05))\n",
    "    cpss1.append(get_size('0107_SimusCPSS/0107_Dp01_Da' + str(da) + '.pickle', 0.08))\n",
    "    d.append(da/0.1)\n",
    "plt.plot(d, cpss01, 'o', label='0.01')\n",
    "plt.plot(d, cpss05, 'o', label='0.05')\n",
    "plt.plot(d, cpss1, 'o', label='0.08')\n",
    "plt.legend()\n",
    "plt.xlim(0, 1.1)\n",
    "plt.ylim(0, 11)\n",
    "plt.xlabel('Da/0.1')\n",
    "plt.ylabel('CPSS')\n",
    "plt.show()"
   ]
  },
  {
   "cell_type": "code",
   "execution_count": null,
   "metadata": {},
   "outputs": [],
   "source": [
    "cpss01_2000s = []\n",
    "cpss05 = []\n",
    "cpss1 = []\n",
    "d = []\n",
    "for da in np.linspace(0.0, 0.1, 16):\n",
    "    cpss01_2000s.append(get_size('0407_2000sSimusCPSS/0407_Dp01_Da' + str(round(da,13)) + '.pickle', 0.01))\n",
    "    cpss05.append(get_size('0407_2000sSimusCPSS/0407_Dp01_Da' + str(round(da,13)) + '.pickle', 0.05))\n",
    "    cpss1.append(get_size('0407_2000sSimusCPSS/0407_Dp01_Da' + str(round(da,13)) + '.pickle', 0.08))\n",
    "    d.append(da/0.1)\n",
    "plt.plot(d, cpss01_2000s, 'o', label='0.01')\n",
    "plt.plot(d, cpss05, 'o', label='0.05')\n",
    "plt.plot(d, cpss1, 'o', label='0.08')\n",
    "plt.legend()\n",
    "plt.xlim(0, 1.1)\n",
    "plt.ylim(0, 11)\n",
    "plt.xlabel('Da/0.1')\n",
    "plt.ylabel('CPSS')\n",
    "plt.show()"
   ]
  },
  {
   "cell_type": "code",
   "execution_count": null,
   "metadata": {},
   "outputs": [],
   "source": [
    "fig=plt.figure(figsize=(3.75, 3.1), dpi= 300, facecolor='w', edgecolor='k')\n",
    "c1 = (132/255, 197/255, 97/255)\n",
    "c2 = (223/255, 184/255, 88/255)\n",
    "# plt.plot(d, cpss01, '-', color=c1)\n",
    "plt.plot(d, cpss01_2000s, 'x', label='PAR system 2000 s', color=c1)\n",
    "# plt.plot(d, cpss01, '.', label='PAR system 1000 s', color=c1)\n",
    "plt.plot(np.linspace(0, 1, 20), np.linspace(0, max(cpss01_2000s), 20), '--', label='Perfect scaling', color=c2)\n",
    "plt.xlim(0, None)\n",
    "plt.ylim(0, None)\n",
    "make_graph_pretty(r'$\\frac{D_A}{0.1\\; \\mu m^2/s}$', r'system size')\n",
    "plt.gcf().subplots_adjust(bottom=0.17, left=0.17)\n",
    "plt.savefig('/Users/lhcge/Dropbox (Lars DMS)/LRI/PAR_Size/PAR_Size_MS_Data/Data_Figure3_Theory2/Breakdown_vs_DratioInvert.pdf', transparent=True)\n",
    "plt.show()"
   ]
  },
  {
   "cell_type": "code",
   "execution_count": null,
   "metadata": {},
   "outputs": [],
   "source": [
    "from ParDetAsymm import Dosage_CPSS\n",
    "# Da = 0.1, Dp = 0.1\n",
    "prec = 8\n",
    "for da in np.linspace(0, 0, 1):\n",
    "    print(da) \n",
    "    sz = [15, 60]\n",
    "    base_set = {'alpha': 2, 'beta': 2, 'dA': 0.0, 'dP': 0.1,\n",
    "             'kAP': 1, 'kPA': 1, 'koffA': 0.005, 'koffP': 0.005,\n",
    "             'konA': 0.006, 'konP': 0.006, 'Ptot': 1, 'ratio': 1.0,\n",
    "             'sys_size': 30}\n",
    "    base_set['dA'] = da\n",
    "    dc = Dosage_CPSS(5, 0.05, prec, sz, base_set=base_set, max_iter=16)\n",
    "    dc.simulate(dom='P')\n",
    "    dc.simulate(dom='A')\n",
    "    plt.plot(np.linspace(sz[0], sz[1], prec), dc.ratioP)\n",
    "    plt.plot(np.linspace(sz[0], sz[1], prec), dc.ratioA)\n",
    "    plt.show()\n",
    "    dc.pickle_data('2407_Dp01_Da' + str(da))"
   ]
  },
  {
   "cell_type": "code",
   "execution_count": null,
   "metadata": {},
   "outputs": [],
   "source": [
    "fig=plt.figure(figsize=(3.75, 3.1), dpi= 300, facecolor='w')\n",
    "with open('2307_Dp01_Da0.1.pickle', 'rb') as f:\n",
    "    dc = pickle.load(f)\n",
    "\n",
    "top = dc.ratioA\n",
    "bot = dc.ratioP\n",
    "both_x = np.linspace(dc.sz_range[0], dc.sz_range[1], dc.precision)\n",
    "\n",
    "plt.fill_between(both_x, top, bot, alpha=1, color='grey')\n",
    "plt.fill_between(both_x, bot, 0, alpha=0.6, color='cornflowerblue')\n",
    "plt.fill_between(both_x, top, 1.5, alpha=0.6, color='salmon')\n",
    "\n",
    "plt.ylim(0.8, 1.25)\n",
    "plt.xlim(both_x[0], both_x[-1])\n",
    "ax = plt.gca()\n",
    "ax.text(5, 1.15, 'Unpolarized (A wins)')\n",
    "ax.text(13.5, 0.99, 'Polarized', weight='bold')\n",
    "ax.text(5, 0.85, 'Unpolarized (P wins)')\n",
    "plt.xlabel(r'system size [$\\mu m$]')\n",
    "plt.ylabel(r'A/P ratio')\n",
    "ax.spines['right'].set_visible(False)\n",
    "ax.spines['top'].set_visible(False)\n",
    "plt.gcf().subplots_adjust(bottom=0.17, left=0.15)\n",
    "plt.savefig('/Users/lhcge/Dropbox (Lars DMS)/LRI/PAR_Size/PAR_Size_MS_Data/Data_Figure3_Theory2/Da_Dp_dosage_symm1.pdf', transparent=True)\n",
    "plt.show()"
   ]
  },
  {
   "cell_type": "code",
   "execution_count": null,
   "metadata": {},
   "outputs": [],
   "source": [
    "with open('2307_Dp01_Da0.0.pickle', 'rb') as f:\n",
    "    dc = pickle.load(f)\n",
    "fig=plt.figure(figsize=(3.75, 3.1), dpi= 300, facecolor='w')\n",
    "\n",
    "\n",
    "top = dc.ratioA\n",
    "bot = dc.ratioP\n",
    "both_x = np.linspace(dc.sz_range[0], dc.sz_range[1], dc.precision)\n",
    "\n",
    "plt.fill_between(both_x, top, bot, alpha=1, color='grey')\n",
    "plt.fill_between(both_x, bot, 0, alpha=0.6, color='cornflowerblue')\n",
    "plt.fill_between(both_x, top, 2, alpha=0.6, color='salmon')\n",
    "\n",
    "plt.ylim(0.3, 2)\n",
    "plt.xlim(both_x[0], both_x[-1])\n",
    "ax = plt.gca()\n",
    "ax.text(5, 1.6, 'Unpolarized (A wins)')\n",
    "ax.text(13.5, 0.99, 'Polarized', weight='bold')\n",
    "ax.text(5, 0.45, 'Unpolarized (P wins)')\n",
    "plt.xlabel(r'system size [$\\mu m$]')\n",
    "plt.ylabel(r'A/P ratio')\n",
    "ax.spines['right'].set_visible(False)\n",
    "ax.spines['top'].set_visible(False)\n",
    "plt.gcf().subplots_adjust(bottom=0.17, left=0.15)\n",
    "# plt.savefig('/Users/lhcge/Dropbox (Lars DMS)/LRI/PAR_Size/PAR_Size_MS_Data/Data_Figure3_Theory2/Da_Dp_dosage1.pdf', transparent=True)\n",
    "plt.show()"
   ]
  },
  {
   "cell_type": "code",
   "execution_count": null,
   "metadata": {},
   "outputs": [],
   "source": [
    "with open('2307_Dp01_Da0.0.pickle', 'rb') as f:\n",
    "    dc = pickle.load(f)"
   ]
  },
  {
   "cell_type": "code",
   "execution_count": null,
   "metadata": {},
   "outputs": [],
   "source": [
    "dc.simus.simus[0].T"
   ]
  },
  {
   "cell_type": "code",
   "execution_count": null,
   "metadata": {},
   "outputs": [],
   "source": [
    "# Redo for t = 10000\n",
    "from ParDetAsymm import Dosage_CPSS\n",
    "base_set = {'alpha': 2, 'beta': 2, 'dA': 0.1, 'dP': 0.1,\n",
    "         'kAP': 1, 'kPA': 1, 'koffA': 0.005, 'koffP': 0.005,\n",
    "         'konA': 0.006, 'konP': 0.006, 'Ptot': 1, 'ratio': 1.0,\n",
    "         'sys_size': 30}\n",
    "sz = [4, 22]\n",
    "dc = Dosage_CPSS(1.2, 0.8, 16, sz, base_set=base_set, max_iter=16)\n",
    "dc.simulate(dom='P')\n",
    "dc.simulate(dom='A')"
   ]
  },
  {
   "cell_type": "code",
   "execution_count": null,
   "metadata": {},
   "outputs": [],
   "source": [
    "prec = 16\n",
    "plt.plot(np.linspace(sz[0], sz[1], prec), dc.ratioP)\n",
    "plt.plot(np.linspace(sz[0], sz[1], prec), dc.ratioA)\n",
    "plt.show()\n",
    "dc.pickle_data('0312_Dp01_Da01')"
   ]
  },
  {
   "cell_type": "code",
   "execution_count": null,
   "metadata": {},
   "outputs": [],
   "source": [
    "fig=plt.figure(figsize=(3.75, 3.1), dpi= 300, facecolor='w')\n",
    "with open('0312_Dp01_Da01.pickle', 'rb') as f:\n",
    "    dc = pickle.load(f)\n",
    "\n",
    "top = dc.ratioA\n",
    "bot = dc.ratioP\n",
    "both_x = np.linspace(dc.sz_range[0], dc.sz_range[1], dc.precision)\n",
    "\n",
    "plt.fill_between(both_x, top, bot, alpha=1, color='grey')\n",
    "plt.fill_between(both_x, bot, 0, alpha=0.6, color='cornflowerblue')\n",
    "plt.fill_between(both_x, top, 1.5, alpha=0.6, color='salmon')\n",
    "\n",
    "plt.ylim(0.8, 1.25)\n",
    "plt.xlim(both_x[0], both_x[-1])\n",
    "ax = plt.gca()\n",
    "ax.text(5, 1.15, 'Unpolarized (A wins)')\n",
    "ax.text(13.5, 0.99, 'Polarized', weight='bold')\n",
    "ax.text(5, 0.85, 'Unpolarized (P wins)')\n",
    "plt.xlabel(r'system size [$\\mu m$]')\n",
    "plt.ylabel(r'A/P ratio')\n",
    "ax.spines['right'].set_visible(False)\n",
    "ax.spines['top'].set_visible(False)\n",
    "plt.gcf().subplots_adjust(bottom=0.17, left=0.15)\n",
    "plt.savefig('/Users/hubatsch/Dropbox (Lars DMS)/LRI/PAR_Size/PAR_Size_MS_Data/Data_Figure3_Theory2/Da_Dp_dosage_symm_10000s.pdf', transparent=True)\n",
    "plt.show()"
   ]
  },
  {
   "cell_type": "markdown",
   "metadata": {},
   "source": [
    "## Dosage for Wave Pinning (imported from Matlab)"
   ]
  },
  {
   "cell_type": "code",
   "execution_count": null,
   "metadata": {},
   "outputs": [],
   "source": [
    "t = np.loadtxt('/Users/hubatsch/Desktop/PARmodelling/MatlabDet/ActivatorInhibitor/' +\n",
    "               'WP_matlab_sizeDosageTop_10000.csv', delimiter=',');\n",
    "b = np.loadtxt('/Users/hubatsch/Desktop/PARmodelling/MatlabDet/ActivatorInhibitor/' +\n",
    "               'WP_matlab_sizeDosageBot_10000.csv', delimiter=',');"
   ]
  },
  {
   "cell_type": "code",
   "execution_count": null,
   "metadata": {},
   "outputs": [],
   "source": [
    "plt.fill_between([4, 20], 0, 40, alpha=0.6, color='salmon')\n",
    "plt.fill_between(t[:, 0], t[:, 1], np.interp(t[:, 0], np.flip(b[:, 0]), np.flip(b[:, 1])), alpha=1, color='grey')\n",
    "plt.rcParams.update({'font.size': 14})\n",
    "plt.ylim(0.9, 1.3)\n",
    "plt.xlim(4, 20)\n",
    "ax = plt.gca()\n",
    "ax.text(6, 1.25, 'Unpolarized')\n",
    "ax.text(12, 1.05, 'Polarized')\n",
    "ax.spines['right'].set_visible(False)\n",
    "ax.spines['top'].set_visible(False)\n",
    "plt.gcf().subplots_adjust(bottom=0.17, left=0.15)\n",
    "make_graph_pretty(r'system size [$\\mu m$]', r'A/P ratio')\n",
    "plt.savefig('/Users/hubatsch/Dropbox (Lars DMS)/LRI/PAR_Size/PAR_Size_MS_Data/Data_Figure3_Theory2/Da_Dp_dosage_WP.pdf', transparent=True)\n",
    "plt.show()"
   ]
  },
  {
   "cell_type": "markdown",
   "metadata": {},
   "source": [
    "## Dosage for Goryachev (imported from Matlab)"
   ]
  },
  {
   "cell_type": "code",
   "execution_count": null,
   "metadata": {},
   "outputs": [],
   "source": [
    "b = np.loadtxt('/Users/hubatsch/Desktop/PARmodelling/MatlabDet/ActivatorInhibitor/' +\n",
    "               'goryachev_matlab_sizeDosageTopBot.csv', delimiter=',');"
   ]
  },
  {
   "cell_type": "code",
   "execution_count": null,
   "metadata": {},
   "outputs": [],
   "source": [
    "b_x = b[:, 1]\n",
    "b_bot = b[:, 0][b[:, -1].astype(int)]\n",
    "b_top = b[:, 0][b[:, -2].astype(int)-1]\n",
    "first_ind = np.min(np.where(np.diff(b_bot-b_top)>0))+1\n",
    "plt.fill_between(b_x, 0, 100, alpha=0.6, color='salmon')\n",
    "plt.fill_between(b_x[first_ind:], b_top[first_ind:], b_bot[first_ind:], alpha=1, color='grey')\n",
    "\n",
    "plt.ylim(0.0, 60)\n",
    "ax = plt.gca()\n",
    "ax.text(13, 50, 'Unpolarized', weight='bold')\n",
    "ax.text(26, 18, 'Polarized', weight='bold')\n",
    "plt.xlabel(r'system size [$\\mu m$]')\n",
    "plt.ylabel(r'A/P ratio')\n",
    "ax.spines['right'].set_visible(False)\n",
    "ax.spines['top'].set_visible(False)\n",
    "plt.gcf().subplots_adjust(bottom=0.17, left=0.15)\n",
    "# plt.savefig('/Users/hubatsch/Dropbox (Lars DMS)/LRI/PAR_Size/PAR_Size_MS_Data/Data_Figure3_Theory2/Da_Dp_dosage_GOR.pdf', transparent=True)\n",
    "plt.show()"
   ]
  },
  {
   "cell_type": "markdown",
   "metadata": {},
   "source": [
    "## Dosage for Otsuji (imported from Matlab)"
   ]
  },
  {
   "cell_type": "code",
   "execution_count": null,
   "metadata": {},
   "outputs": [],
   "source": [
    "t = np.loadtxt('/Users/hubatsch/Desktop/PARmodelling/MatlabDet/ActivatorInhibitor/' +\n",
    "               'otsuji_matlab_sizeDosageTop_10000.csv', delimiter=',');\n",
    "b = np.loadtxt('/Users/hubatsch/Desktop/PARmodelling/MatlabDet/ActivatorInhibitor/' +\n",
    "               'otsuji_matlab_sizeDosageBot_10000.csv', delimiter=',');"
   ]
  },
  {
   "cell_type": "code",
   "execution_count": null,
   "metadata": {},
   "outputs": [],
   "source": [
    "plt.fill_between([4, 20], 0, 40, alpha=0.6, color='salmon')\n",
    "plt.fill_between(t[:, 0], t[:, 1], np.interp(t[:, 0], np.flip(b[:, 0]), np.flip(b[:, 1])), alpha=1, color='grey')\n",
    "plt.rcParams.update({'font.size': 14})\n",
    "plt.ylim(0.0, 20)\n",
    "plt.xlim(4, 20)\n",
    "ax = plt.gca()\n",
    "ax.text(14, 5, 'Polarized')\n",
    "ax.text(6.5, 15, 'Unpolarized')\n",
    "ax.spines['right'].set_visible(False)\n",
    "ax.spines['top'].set_visible(False)\n",
    "plt.gcf().subplots_adjust(bottom=0.17, left=0.15)\n",
    "make_graph_pretty(r'system size [$\\mu m$]', r'A/P ratio')\n",
    "plt.savefig('/Users/hubatsch/Dropbox (Lars DMS)/LRI/PAR_Size/PAR_Size_MS_Data/Data_Figure3_Theory2/Da_Dp_dosage_OT.pdf', transparent=True)\n",
    "plt.show()"
   ]
  }
 ],
 "metadata": {
  "kernelspec": {
   "display_name": "Python 3",
   "language": "python",
   "name": "python3"
  },
  "language_info": {
   "codemirror_mode": {
    "name": "ipython",
    "version": 3
   },
   "file_extension": ".py",
   "mimetype": "text/x-python",
   "name": "python",
   "nbconvert_exporter": "python",
   "pygments_lexer": "ipython3",
   "version": "3.6.6"
  }
 },
 "nbformat": 4,
 "nbformat_minor": 2
}
